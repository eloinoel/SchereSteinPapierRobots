{
 "cells": [
  {
   "cell_type": "code",
   "execution_count": 45,
   "id": "67a5851b",
   "metadata": {},
   "outputs": [],
   "source": [
    "%matplotlib notebook\n",
    "from matplotlib import pylab as plt\n",
    "#from ipywidgets import interact\n",
    "#from IPython import display\n",
    "from collections import deque\n",
    "import numpy as np"
   ]
  },
  {
   "cell_type": "code",
   "execution_count": 46,
   "id": "11d63633",
   "metadata": {},
   "outputs": [],
   "source": [
    "from IPython.display import IFrame\n",
    "import ipywidgets as widgets"
   ]
  },
  {
   "cell_type": "code",
   "execution_count": 47,
   "id": "be35b6da",
   "metadata": {},
   "outputs": [],
   "source": [
    "import os\n",
    "import sys\n",
    "sys.path.append(os.path.join(os.path.abspath(os.path.dirname('__file__')), '..', 'software_installation'))\n",
    "sys.path.append(os.path.join(os.path.abspath(os.path.dirname('__file__')), '..', 'joint_control'))\n",
    "sys.path.append(os.path.join(os.path.abspath(os.path.dirname('__file__')), '..', 'distributed_computing'))\n",
    "sys.path.append(os.path.join(os.path.abspath(os.path.dirname('__file__')), '..', 'introduction'))\n",
    "sys.path.append(os.path.join(os.path.abspath(os.path.dirname('__file__')), '..', 'kinematics'))"
   ]
  },
  {
   "cell_type": "code",
   "execution_count": 48,
   "id": "7d922c78",
   "metadata": {},
   "outputs": [],
   "source": [
    "from inverse_kinematics import InverseKinematicsAgent"
   ]
  },
  {
   "cell_type": "code",
   "execution_count": 49,
   "id": "dec65553",
   "metadata": {},
   "outputs": [],
   "source": [
    "from keyframes import *"
   ]
  },
  {
   "cell_type": "code",
   "execution_count": 50,
   "id": "4465dc4c",
   "metadata": {},
   "outputs": [],
   "source": [
    "agent = InverseKinematicsAgent()\n",
    "agent.start()"
   ]
  },
  {
   "cell_type": "code",
   "execution_count": 51,
   "id": "22a90f41",
   "metadata": {},
   "outputs": [],
   "source": [
    "#agent.joint_names"
   ]
  },
  {
   "cell_type": "code",
   "execution_count": 52,
   "id": "dfbcc1e0",
   "metadata": {},
   "outputs": [],
   "source": [
    "#agent.__dict__\n",
    "#dir(agent)"
   ]
  },
  {
   "cell_type": "code",
   "execution_count": 53,
   "id": "51300d13",
   "metadata": {},
   "outputs": [],
   "source": [
    "#agent.target_joints"
   ]
  },
  {
   "cell_type": "code",
   "execution_count": 54,
   "id": "e9d7888a",
   "metadata": {},
   "outputs": [],
   "source": [
    "#agent.transforms"
   ]
  },
  {
   "cell_type": "code",
   "execution_count": 55,
   "id": "c11f3cfd",
   "metadata": {},
   "outputs": [],
   "source": [
    "import json\n",
    "from ipywidgets import interact\n",
    "new_text = \"\""
   ]
  },
  {
   "cell_type": "code",
   "execution_count": 56,
   "id": "51be21e4",
   "metadata": {},
   "outputs": [],
   "source": [
    "def set_joint_target(value, joint):\n",
    "    agent.target_joints[joint] = value\n",
    "    sliders = value    \n",
    "\n",
    "def saveData(b):\n",
    "    with open(f'Data/{new_text}.json', 'w') as outfile:\n",
    "        data = {}\n",
    "        for key in dict.keys(agent.target_joints):\n",
    "            data[key] = float(agent.target_joints[key])\n",
    "        json.dump(data, outfile)\n",
    "        \n",
    "    with output:\n",
    "        print(f'{new_text}.json generated')\n",
    "        \n",
    "def set_text(change):\n",
    "    with output2:\n",
    "        global new_text \n",
    "        new_text = change['new']"
   ]
  },
  {
   "cell_type": "code",
   "execution_count": 57,
   "id": "02aca955",
   "metadata": {},
   "outputs": [
    {
     "data": {
      "application/vnd.jupyter.widget-view+json": {
       "model_id": "ff67ea43f1d34799a6bdd85643530669",
       "version_major": 2,
       "version_minor": 0
      },
      "text/plain": [
       "interactive(children=(FloatSlider(value=0.0, description='HeadYaw', max=1.0, min=-1.0, step=0.01), Text(value=…"
      ]
     },
     "metadata": {},
     "output_type": "display_data"
    },
    {
     "data": {
      "application/vnd.jupyter.widget-view+json": {
       "model_id": "770d970293b74723bb92c2090117b6a5",
       "version_major": 2,
       "version_minor": 0
      },
      "text/plain": [
       "interactive(children=(FloatSlider(value=0.0, description='HeadPitch', max=1.0, min=-1.0, step=0.01), Text(valu…"
      ]
     },
     "metadata": {},
     "output_type": "display_data"
    },
    {
     "data": {
      "application/vnd.jupyter.widget-view+json": {
       "model_id": "601d1da769b143ba8806d1f2b17263c2",
       "version_major": 2,
       "version_minor": 0
      },
      "text/plain": [
       "interactive(children=(FloatSlider(value=0.0, description='LShoulderPitch', max=1.0, min=-1.0, step=0.01), Text…"
      ]
     },
     "metadata": {},
     "output_type": "display_data"
    },
    {
     "data": {
      "application/vnd.jupyter.widget-view+json": {
       "model_id": "febed5d3336a44a2bdad2ffa98dbe1cd",
       "version_major": 2,
       "version_minor": 0
      },
      "text/plain": [
       "interactive(children=(FloatSlider(value=0.0, description='LShoulderRoll', max=1.0, min=-1.0, step=0.01), Text(…"
      ]
     },
     "metadata": {},
     "output_type": "display_data"
    },
    {
     "data": {
      "application/vnd.jupyter.widget-view+json": {
       "model_id": "95d76ccc111c42d899bc76f001af0580",
       "version_major": 2,
       "version_minor": 0
      },
      "text/plain": [
       "interactive(children=(FloatSlider(value=0.0, description='LElbowYaw', max=1.0, min=-1.0, step=0.01), Text(valu…"
      ]
     },
     "metadata": {},
     "output_type": "display_data"
    },
    {
     "data": {
      "application/vnd.jupyter.widget-view+json": {
       "model_id": "87d47a4768a34898a7b50144e8576e04",
       "version_major": 2,
       "version_minor": 0
      },
      "text/plain": [
       "interactive(children=(FloatSlider(value=0.0, description='LElbowRoll', max=1.0, min=-1.0, step=0.01), Text(val…"
      ]
     },
     "metadata": {},
     "output_type": "display_data"
    },
    {
     "data": {
      "application/vnd.jupyter.widget-view+json": {
       "model_id": "0690713fbb744f318544c3a8c8593972",
       "version_major": 2,
       "version_minor": 0
      },
      "text/plain": [
       "interactive(children=(FloatSlider(value=0.0, description='LHipYawPitch', max=1.0, min=-1.0, step=0.01), Text(v…"
      ]
     },
     "metadata": {},
     "output_type": "display_data"
    },
    {
     "data": {
      "application/vnd.jupyter.widget-view+json": {
       "model_id": "7ab9729049a445baa217d6d7904badcb",
       "version_major": 2,
       "version_minor": 0
      },
      "text/plain": [
       "interactive(children=(FloatSlider(value=0.0, description='LHipRoll', max=1.0, min=-1.0, step=0.01), Text(value…"
      ]
     },
     "metadata": {},
     "output_type": "display_data"
    },
    {
     "data": {
      "application/vnd.jupyter.widget-view+json": {
       "model_id": "9b7e25aa02a84572bd86ff1302e5b006",
       "version_major": 2,
       "version_minor": 0
      },
      "text/plain": [
       "interactive(children=(FloatSlider(value=0.0, description='LHipPitch', max=1.0, min=-1.0, step=0.01), Text(valu…"
      ]
     },
     "metadata": {},
     "output_type": "display_data"
    },
    {
     "data": {
      "application/vnd.jupyter.widget-view+json": {
       "model_id": "873a2cc34ecc40a397b3da0b1b2f6018",
       "version_major": 2,
       "version_minor": 0
      },
      "text/plain": [
       "interactive(children=(FloatSlider(value=0.0, description='LKneePitch', max=1.0, min=-1.0, step=0.01), Text(val…"
      ]
     },
     "metadata": {},
     "output_type": "display_data"
    },
    {
     "data": {
      "application/vnd.jupyter.widget-view+json": {
       "model_id": "35d4c55237ee46e9b374ed367d0a3f0b",
       "version_major": 2,
       "version_minor": 0
      },
      "text/plain": [
       "interactive(children=(FloatSlider(value=0.0, description='LAnklePitch', max=1.0, min=-1.0, step=0.01), Text(va…"
      ]
     },
     "metadata": {},
     "output_type": "display_data"
    },
    {
     "data": {
      "application/vnd.jupyter.widget-view+json": {
       "model_id": "6f35e39f9f0f458f8d9c0521803fd828",
       "version_major": 2,
       "version_minor": 0
      },
      "text/plain": [
       "interactive(children=(FloatSlider(value=0.0, description='LAnkleRoll', max=1.0, min=-1.0, step=0.01), Text(val…"
      ]
     },
     "metadata": {},
     "output_type": "display_data"
    },
    {
     "data": {
      "application/vnd.jupyter.widget-view+json": {
       "model_id": "786a7dd4965447c6a4dd6eb431d93ad0",
       "version_major": 2,
       "version_minor": 0
      },
      "text/plain": [
       "interactive(children=(FloatSlider(value=0.0, description='RShoulderPitch', max=1.0, min=-1.0, step=0.01), Text…"
      ]
     },
     "metadata": {},
     "output_type": "display_data"
    },
    {
     "data": {
      "application/vnd.jupyter.widget-view+json": {
       "model_id": "fb7296ad0b5945348b46523c0927ed4b",
       "version_major": 2,
       "version_minor": 0
      },
      "text/plain": [
       "interactive(children=(FloatSlider(value=0.0, description='RShoulderRoll', max=1.0, min=-1.0, step=0.01), Text(…"
      ]
     },
     "metadata": {},
     "output_type": "display_data"
    },
    {
     "data": {
      "application/vnd.jupyter.widget-view+json": {
       "model_id": "60ae8bc91cde4587881b21b87b423748",
       "version_major": 2,
       "version_minor": 0
      },
      "text/plain": [
       "interactive(children=(FloatSlider(value=0.0, description='RElbowYaw', max=1.0, min=-1.0, step=0.01), Text(valu…"
      ]
     },
     "metadata": {},
     "output_type": "display_data"
    },
    {
     "data": {
      "application/vnd.jupyter.widget-view+json": {
       "model_id": "93259a54facf413d9a1fea08153df5e9",
       "version_major": 2,
       "version_minor": 0
      },
      "text/plain": [
       "interactive(children=(FloatSlider(value=0.0, description='RElbowRoll', max=1.0, min=-1.0, step=0.01), Text(val…"
      ]
     },
     "metadata": {},
     "output_type": "display_data"
    },
    {
     "data": {
      "application/vnd.jupyter.widget-view+json": {
       "model_id": "5015a84f570845b4a9c304fd613e3877",
       "version_major": 2,
       "version_minor": 0
      },
      "text/plain": [
       "interactive(children=(FloatSlider(value=0.0, description='RHipYawPitch', max=1.0, min=-1.0, step=0.01), Text(v…"
      ]
     },
     "metadata": {},
     "output_type": "display_data"
    },
    {
     "data": {
      "application/vnd.jupyter.widget-view+json": {
       "model_id": "45fd86200cd446999ca7e9577a436139",
       "version_major": 2,
       "version_minor": 0
      },
      "text/plain": [
       "interactive(children=(FloatSlider(value=0.0, description='RHipRoll', max=1.0, min=-1.0, step=0.01), Text(value…"
      ]
     },
     "metadata": {},
     "output_type": "display_data"
    },
    {
     "data": {
      "application/vnd.jupyter.widget-view+json": {
       "model_id": "e92c63cedd8247b88e13c0955a50fb5f",
       "version_major": 2,
       "version_minor": 0
      },
      "text/plain": [
       "interactive(children=(FloatSlider(value=0.0, description='RHipPitch', max=1.0, min=-1.0, step=0.01), Text(valu…"
      ]
     },
     "metadata": {},
     "output_type": "display_data"
    },
    {
     "data": {
      "application/vnd.jupyter.widget-view+json": {
       "model_id": "b0f7bc5155444594a42a106751b12764",
       "version_major": 2,
       "version_minor": 0
      },
      "text/plain": [
       "interactive(children=(FloatSlider(value=0.0, description='RKneePitch', max=1.0, min=-1.0, step=0.01), Text(val…"
      ]
     },
     "metadata": {},
     "output_type": "display_data"
    },
    {
     "data": {
      "application/vnd.jupyter.widget-view+json": {
       "model_id": "33cae9b01a6e40b3916fd2ec91575b85",
       "version_major": 2,
       "version_minor": 0
      },
      "text/plain": [
       "interactive(children=(FloatSlider(value=0.0, description='RAnklePitch', max=1.0, min=-1.0, step=0.01), Text(va…"
      ]
     },
     "metadata": {},
     "output_type": "display_data"
    },
    {
     "data": {
      "application/vnd.jupyter.widget-view+json": {
       "model_id": "ad88bf319d69418993d333509304988b",
       "version_major": 2,
       "version_minor": 0
      },
      "text/plain": [
       "interactive(children=(FloatSlider(value=0.0, description='RAnkleRoll', max=1.0, min=-1.0, step=0.01), Text(val…"
      ]
     },
     "metadata": {},
     "output_type": "display_data"
    },
    {
     "data": {
      "application/vnd.jupyter.widget-view+json": {
       "model_id": "4459377fe4354dbf913ae121623c3d7f",
       "version_major": 2,
       "version_minor": 0
      },
      "text/plain": [
       "Text(value='', description='File Name')"
      ]
     },
     "metadata": {},
     "output_type": "display_data"
    },
    {
     "data": {
      "application/vnd.jupyter.widget-view+json": {
       "model_id": "6834a9a1cf4c45348fd9fc5a4048889a",
       "version_major": 2,
       "version_minor": 0
      },
      "text/plain": [
       "Button(description='Save Data', style=ButtonStyle())"
      ]
     },
     "metadata": {},
     "output_type": "display_data"
    },
    {
     "data": {
      "application/vnd.jupyter.widget-view+json": {
       "model_id": "e30dbaf5be4e4a15bdd3acf70db68faf",
       "version_major": 2,
       "version_minor": 0
      },
      "text/plain": [
       "Output()"
      ]
     },
     "metadata": {},
     "output_type": "display_data"
    }
   ],
   "source": [
    "for joint in agent.target_joints:\n",
    "    s = widgets.FloatSlider(value=0,min=-1,max=1,step=0.01,description=joint)\n",
    "    t = interact(set_joint_target, value=s, joint=joint)\n",
    "    \n",
    "    \n",
    "text = widgets.Text(description=\"File Name\")\n",
    "output2 = widgets.Output()\n",
    "\n",
    "text.observe(set_text, names='value')\n",
    "    \n",
    "button = widgets.Button(description=\"Save Data\")\n",
    "output = widgets.Output()\n",
    "\n",
    "display(text, button, output)\n",
    "button.on_click(saveData)\n",
    "\n",
    "\n"
   ]
  },
  {
   "cell_type": "code",
   "execution_count": 58,
   "id": "c805af29",
   "metadata": {},
   "outputs": [],
   "source": [
    "#agent.perception.__dict__"
   ]
  },
  {
   "cell_type": "code",
   "execution_count": 59,
   "id": "166b761e",
   "metadata": {},
   "outputs": [],
   "source": [
    "#agent.keyframes = rightBackToStand()\n",
    "#agent.keyframes = rightBackToStand()\n",
    "#agent.keyframes = rightBackToStand()\n",
    "#agent.keyframes = rightBackToStand()\n",
    "#agent.keyframes = rightBackToStand()\n",
    "agent.keyframes = ([],[],[])"
   ]
  },
  {
   "cell_type": "code",
   "execution_count": 60,
   "id": "fab067e5",
   "metadata": {},
   "outputs": [
    {
     "data": {
      "text/plain": [
       "[-0.02612, 0.42794, 0.30829, 0.11194, -0.01385, 0.06132]"
      ]
     },
     "execution_count": 60,
     "metadata": {},
     "output_type": "execute_result"
    }
   ],
   "source": [
    "wipeKF = wipe_forehead(0)\n",
    "angles = [row[0] for row in wipeKF[2][0]]\n",
    "angles"
   ]
  },
  {
   "cell_type": "code",
   "execution_count": 61,
   "id": "ef9da498",
   "metadata": {},
   "outputs": [
    {
     "data": {
      "text/plain": [
       "('HeadPitch',\n",
       " [0.96, 1.68, 3.28, 3.96, 4.52, 5.08],\n",
       " [[-0.02612, [3, -0.32, 0.0], [3, 0.24, 0.0]],\n",
       "  [0.42794, [3, -0.24, 0.0], [3, 0.53333, 0.0]],\n",
       "  [0.30829, [3, -0.53333, 0.07392], [3, 0.22667, -0.03142]],\n",
       "  [0.11194, [3, -0.22667, 0.05889], [3, 0.18667, -0.04849]],\n",
       "  [-0.01385, [3, -0.18667, 0.0], [3, 0.18667, 0.0]],\n",
       "  [0.06132, [3, -0.18667, 0.0], [3, 0.0, 0.0]]])"
      ]
     },
     "execution_count": 61,
     "metadata": {},
     "output_type": "execute_result"
    }
   ],
   "source": [
    "wipeKF[0][0],wipeKF[1][0],wipeKF[2][0]"
   ]
  },
  {
   "cell_type": "code",
   "execution_count": 62,
   "id": "6df6fd5e",
   "metadata": {},
   "outputs": [
    {
     "data": {
      "text/plain": [
       "6"
      ]
     },
     "execution_count": 62,
     "metadata": {},
     "output_type": "execute_result"
    }
   ],
   "source": [
    "len(wipeKF[2][6])"
   ]
  },
  {
   "cell_type": "code",
   "execution_count": null,
   "id": "6ffd3ba4",
   "metadata": {},
   "outputs": [],
   "source": []
  },
  {
   "cell_type": "code",
   "execution_count": 63,
   "id": "0fd47720",
   "metadata": {},
   "outputs": [],
   "source": [
    "#agent.target_joints"
   ]
  },
  {
   "cell_type": "code",
   "execution_count": 64,
   "id": "63b55a1a",
   "metadata": {},
   "outputs": [],
   "source": [
    "#dict.keys(agent.target_joints)"
   ]
  },
  {
   "cell_type": "code",
   "execution_count": null,
   "id": "f8963b4c",
   "metadata": {},
   "outputs": [],
   "source": []
  },
  {
   "cell_type": "code",
   "execution_count": 65,
   "id": "9893c9d4",
   "metadata": {},
   "outputs": [
    {
     "data": {
      "text/plain": [
       "(['HeadYaw',\n",
       "  'HeadPitch',\n",
       "  'LShoulderPitch',\n",
       "  'LShoulderRoll',\n",
       "  'LElbowYaw',\n",
       "  'LElbowRoll',\n",
       "  'LHipYawPitch',\n",
       "  'LHipRoll',\n",
       "  'LHipPitch',\n",
       "  'LKneePitch',\n",
       "  'LAnklePitch',\n",
       "  'LAnkleRoll',\n",
       "  'RShoulderPitch',\n",
       "  'RShoulderRoll',\n",
       "  'RElbowYaw',\n",
       "  'RElbowRoll',\n",
       "  'RHipYawPitch',\n",
       "  'RHipRoll',\n",
       "  'RHipPitch',\n",
       "  'RKneePitch',\n",
       "  'RAnklePitch',\n",
       "  'RAnkleRoll'],\n",
       " [array([0.  , 1.04, 2.08, 3.12, 4.16, 5.2 ]),\n",
       "  array([0.  , 1.04, 2.08, 3.12, 4.16, 5.2 ]),\n",
       "  array([0.  , 1.04, 2.08, 3.12, 4.16, 5.2 ]),\n",
       "  array([0.  , 1.04, 2.08, 3.12, 4.16, 5.2 ]),\n",
       "  array([0.  , 1.04, 2.08, 3.12, 4.16, 5.2 ]),\n",
       "  array([0.  , 1.04, 2.08, 3.12, 4.16, 5.2 ]),\n",
       "  array([0.  , 1.04, 2.08, 3.12, 4.16, 5.2 ]),\n",
       "  array([0.  , 1.04, 2.08, 3.12, 4.16, 5.2 ]),\n",
       "  array([0.  , 1.04, 2.08, 3.12, 4.16, 5.2 ]),\n",
       "  array([0.  , 1.04, 2.08, 3.12, 4.16, 5.2 ]),\n",
       "  array([0.  , 1.04, 2.08, 3.12, 4.16, 5.2 ]),\n",
       "  array([0.  , 1.04, 2.08, 3.12, 4.16, 5.2 ]),\n",
       "  array([0.  , 1.04, 2.08, 3.12, 4.16, 5.2 ]),\n",
       "  array([0.  , 1.04, 2.08, 3.12, 4.16, 5.2 ]),\n",
       "  array([0.  , 1.04, 2.08, 3.12, 4.16, 5.2 ]),\n",
       "  array([0.  , 1.04, 2.08, 3.12, 4.16, 5.2 ]),\n",
       "  array([0.  , 1.04, 2.08, 3.12, 4.16, 5.2 ]),\n",
       "  array([0.  , 1.04, 2.08, 3.12, 4.16, 5.2 ]),\n",
       "  array([0.  , 1.04, 2.08, 3.12, 4.16, 5.2 ]),\n",
       "  array([0.  , 1.04, 2.08, 3.12, 4.16, 5.2 ]),\n",
       "  array([0.  , 1.04, 2.08, 3.12, 4.16, 5.2 ]),\n",
       "  array([0.  , 1.04, 2.08, 3.12, 4.16, 5.2 ])],\n",
       " [[[-1, [0.2, 0.0], [0.2, 0.0]],\n",
       "   [-0.4, [0.2, 0.0], [0.2, 0.0]],\n",
       "   [-1, [0.2, 0.0], [0.2, 0.0]],\n",
       "   [-0.6, [0.2, 0.0], [0.2, 0.0]],\n",
       "   [0, [0.2, 0.0], [0.2, 0.0]],\n",
       "   [0.6, [0.2, 0.0], [0.2, 0.0]]],\n",
       "  [[-1, [0.2, 0.0], [0.2, 0.0]],\n",
       "   [-0.4, [0.2, 0.0], [0.2, 0.0]],\n",
       "   [-1, [0.2, 0.0], [0.2, 0.0]],\n",
       "   [-0.6, [0.2, 0.0], [0.2, 0.0]],\n",
       "   [0, [0.2, 0.0], [0.2, 0.0]],\n",
       "   [0.6, [0.2, 0.0], [0.2, 0.0]]],\n",
       "  [[-1, []], [-0.4, []], [-1, []], [-0.6, []], [0, []], [0.6, []]],\n",
       "  [[-1, [0.2, 0.0], [0.2, 0.0]],\n",
       "   [-0.4, [0.2, 0.0], [0.2, 0.0]],\n",
       "   [-1, [0.2, 0.0], [0.2, 0.0]],\n",
       "   [-0.6, [0.2, 0.0], [0.2, 0.0]],\n",
       "   [0, [0.2, 0.0], [0.2, 0.0]],\n",
       "   [0.6, [0.2, 0.0], [0.2, 0.0]]],\n",
       "  [[-1, [0.2, 0.0], [0.2, 0.0]],\n",
       "   [-0.4, [0.2, 0.0], [0.2, 0.0]],\n",
       "   [-1, [0.2, 0.0], [0.2, 0.0]],\n",
       "   [-0.6, [0.2, 0.0], [0.2, 0.0]],\n",
       "   [0, [0.2, 0.0], [0.2, 0.0]],\n",
       "   [0.6, [0.2, 0.0], [0.2, 0.0]]],\n",
       "  [[-1, [0.2, 0.0], [0.2, 0.0]],\n",
       "   [-0.4, [0.2, 0.0], [0.2, 0.0]],\n",
       "   [-1, [0.2, 0.0], [0.2, 0.0]],\n",
       "   [-0.6, [0.2, 0.0], [0.2, 0.0]],\n",
       "   [0, [0.2, 0.0], [0.2, 0.0]],\n",
       "   [0.6, [0.2, 0.0], [0.2, 0.0]]],\n",
       "  [[-1, [0.2, 0.0], [0.2, 0.0]],\n",
       "   [-0.4, [0.2, 0.0], [0.2, 0.0]],\n",
       "   [-1, [0.2, 0.0], [0.2, 0.0]],\n",
       "   [-0.6, [0.2, 0.0], [0.2, 0.0]],\n",
       "   [0, [0.2, 0.0], [0.2, 0.0]],\n",
       "   [0.6, [0.2, 0.0], [0.2, 0.0]]],\n",
       "  [[-1, [0.2, 0.0], [0.2, 0.0]],\n",
       "   [-0.4, [0.2, 0.0], [0.2, 0.0]],\n",
       "   [-1, [0.2, 0.0], [0.2, 0.0]],\n",
       "   [-0.6, [0.2, 0.0], [0.2, 0.0]],\n",
       "   [0, [0.2, 0.0], [0.2, 0.0]],\n",
       "   [0.6, [0.2, 0.0], [0.2, 0.0]]],\n",
       "  [[-1, [0.2, 0.0], [0.2, 0.0]],\n",
       "   [-0.4, [0.2, 0.0], [0.2, 0.0]],\n",
       "   [-1, [0.2, 0.0], [0.2, 0.0]],\n",
       "   [-0.6, [0.2, 0.0], [0.2, 0.0]],\n",
       "   [0, [0.2, 0.0], [0.2, 0.0]],\n",
       "   [0.6, [0.2, 0.0], [0.2, 0.0]]],\n",
       "  [[-1, [0.2, 0.0], [0.2, 0.0]],\n",
       "   [-0.4, [0.2, 0.0], [0.2, 0.0]],\n",
       "   [-1, [0.2, 0.0], [0.2, 0.0]],\n",
       "   [-0.6, [0.2, 0.0], [0.2, 0.0]],\n",
       "   [0, [0.2, 0.0], [0.2, 0.0]],\n",
       "   [0.6, [0.2, 0.0], [0.2, 0.0]]],\n",
       "  [[-1, [0.2, 0.0], [0.2, 0.0]],\n",
       "   [-0.4, [0.2, 0.0], [0.2, 0.0]],\n",
       "   [-1, [0.2, 0.0], [0.2, 0.0]],\n",
       "   [-0.6, [0.2, 0.0], [0.2, 0.0]],\n",
       "   [0, [0.2, 0.0], [0.2, 0.0]],\n",
       "   [0.6, [0.2, 0.0], [0.2, 0.0]]],\n",
       "  [[-1, [0.2, 0.0], [0.2, 0.0]],\n",
       "   [-0.4, [0.2, 0.0], [0.2, 0.0]],\n",
       "   [-1, [0.2, 0.0], [0.2, 0.0]],\n",
       "   [-0.6, [0.2, 0.0], [0.2, 0.0]],\n",
       "   [0, [0.2, 0.0], [0.2, 0.0]],\n",
       "   [0.6, [0.2, 0.0], [0.2, 0.0]]],\n",
       "  [[-1, [0.2, 0.0], [0.2, 0.0]],\n",
       "   [-0.4, [0.2, 0.0], [0.2, 0.0]],\n",
       "   [-1, [0.2, 0.0], [0.2, 0.0]],\n",
       "   [-0.6, [0.2, 0.0], [0.2, 0.0]],\n",
       "   [0, [0.2, 0.0], [0.2, 0.0]],\n",
       "   [0.6, [0.2, 0.0], [0.2, 0.0]]],\n",
       "  [[-1, [0.2, 0.0], [0.2, 0.0]],\n",
       "   [-0.4, [0.2, 0.0], [0.2, 0.0]],\n",
       "   [-1, [0.2, 0.0], [0.2, 0.0]],\n",
       "   [-0.6, [0.2, 0.0], [0.2, 0.0]],\n",
       "   [0, [0.2, 0.0], [0.2, 0.0]],\n",
       "   [0.6, [0.2, 0.0], [0.2, 0.0]]],\n",
       "  [[-1, [0.2, 0.0], [0.2, 0.0]],\n",
       "   [-0.4, [0.2, 0.0], [0.2, 0.0]],\n",
       "   [-1, [0.2, 0.0], [0.2, 0.0]],\n",
       "   [-0.6, [0.2, 0.0], [0.2, 0.0]],\n",
       "   [0, [0.2, 0.0], [0.2, 0.0]],\n",
       "   [0.6, [0.2, 0.0], [0.2, 0.0]]],\n",
       "  [[-1, [0.2, 0.0], [0.2, 0.0]],\n",
       "   [-0.4, [0.2, 0.0], [0.2, 0.0]],\n",
       "   [-1, [0.2, 0.0], [0.2, 0.0]],\n",
       "   [-0.6, [0.2, 0.0], [0.2, 0.0]],\n",
       "   [0, [0.2, 0.0], [0.2, 0.0]],\n",
       "   [0.6, [0.2, 0.0], [0.2, 0.0]]],\n",
       "  [[-1, [0.2, 0.0], [0.2, 0.0]],\n",
       "   [-0.4, [0.2, 0.0], [0.2, 0.0]],\n",
       "   [-1, [0.2, 0.0], [0.2, 0.0]],\n",
       "   [-0.6, [0.2, 0.0], [0.2, 0.0]],\n",
       "   [0, [0.2, 0.0], [0.2, 0.0]],\n",
       "   [0.6, [0.2, 0.0], [0.2, 0.0]]],\n",
       "  [[-1, [0.2, 0.0], [0.2, 0.0]],\n",
       "   [-0.4, [0.2, 0.0], [0.2, 0.0]],\n",
       "   [-1, [0.2, 0.0], [0.2, 0.0]],\n",
       "   [-0.6, [0.2, 0.0], [0.2, 0.0]],\n",
       "   [0, [0.2, 0.0], [0.2, 0.0]],\n",
       "   [0.6, [0.2, 0.0], [0.2, 0.0]]],\n",
       "  [[-1, [0.2, 0.0], [0.2, 0.0]],\n",
       "   [-0.4, [0.2, 0.0], [0.2, 0.0]],\n",
       "   [-1, [0.2, 0.0], [0.2, 0.0]],\n",
       "   [-0.6, [0.2, 0.0], [0.2, 0.0]],\n",
       "   [0, [0.2, 0.0], [0.2, 0.0]],\n",
       "   [0.6, [0.2, 0.0], [0.2, 0.0]]],\n",
       "  [[-1, [0.2, 0.0], [0.2, 0.0]],\n",
       "   [-0.4, [0.2, 0.0], [0.2, 0.0]],\n",
       "   [-1, [0.2, 0.0], [0.2, 0.0]],\n",
       "   [-0.6, [0.2, 0.0], [0.2, 0.0]],\n",
       "   [0, [0.2, 0.0], [0.2, 0.0]],\n",
       "   [0.6, [0.2, 0.0], [0.2, 0.0]]],\n",
       "  [[-1, [0.2, 0.0], [0.2, 0.0]],\n",
       "   [-0.4, [0.2, 0.0], [0.2, 0.0]],\n",
       "   [-1, [0.2, 0.0], [0.2, 0.0]],\n",
       "   [-0.6, [0.2, 0.0], [0.2, 0.0]],\n",
       "   [0, [0.2, 0.0], [0.2, 0.0]],\n",
       "   [0.6, [0.2, 0.0], [0.2, 0.0]]],\n",
       "  [[-1, [0.2, 0.0], [0.2, 0.0]],\n",
       "   [-0.4, [0.2, 0.0], [0.2, 0.0]],\n",
       "   [-1, [0.2, 0.0], [0.2, 0.0]],\n",
       "   [-0.6, [0.2, 0.0], [0.2, 0.0]],\n",
       "   [0, [0.2, 0.0], [0.2, 0.0]],\n",
       "   [0.6, [0.2, 0.0], [0.2, 0.0]]]])"
      ]
     },
     "execution_count": 65,
     "metadata": {},
     "output_type": "execute_result"
    }
   ],
   "source": [
    "def generateKeyframe():\n",
    "    names = []\n",
    "    time = np.linspace(0, 5.2, 6, endpoint=True)\n",
    "    joints = []\n",
    "    angle = [[-1,[0.2,0.0],[0.2,0.0]],[-0.4,[0.2,0.0],[0.2,0.0]],[-1,[0.2,0.0],[0.2,0.0]],[-0.6,[0.2,0.0],[0.2,0.0]],[0,[0.2,0.0],[0.2,0.0]],[0.6,[0.2,0.0],[0.2,0.0]]]\n",
    "                                                                                                               \n",
    "    for key in dict.keys(agent.target_joints):\n",
    "        names.append(key)\n",
    "        \n",
    "    for i in range(len(names)):\n",
    "        joint=[]\n",
    "        for j in range(len(time)):\n",
    "            joint.append([0,[0.2,0.0],[0.2,0.0]])\n",
    "        if i==2:\n",
    "            joints.append([[-1,[]],[-0.4,[]],[-1,[]],[-0.6,[]], [0,[]],[0.6,[]] ])\n",
    "        else:\n",
    "            joints.append(angle)\n",
    "            \n",
    "    times = []\n",
    "    for i in range(len(names)):\n",
    "        times.append(time)\n",
    "        \n",
    "            \n",
    "    return (names,times,joints)\n",
    "        \n",
    "kf =generateKeyframe()\n",
    "kf"
   ]
  },
  {
   "cell_type": "code",
   "execution_count": null,
   "id": "54eb16d8",
   "metadata": {},
   "outputs": [],
   "source": []
  },
  {
   "cell_type": "code",
   "execution_count": 66,
   "id": "137039fe",
   "metadata": {},
   "outputs": [],
   "source": [
    "#agent.keyframes = kf"
   ]
  },
  {
   "cell_type": "code",
   "execution_count": null,
   "id": "4e68d949",
   "metadata": {},
   "outputs": [],
   "source": []
  }
 ],
 "metadata": {
  "kernelspec": {
   "display_name": "Python 3",
   "language": "python",
   "name": "python3"
  },
  "language_info": {
   "codemirror_mode": {
    "name": "ipython",
    "version": 3
   },
   "file_extension": ".py",
   "mimetype": "text/x-python",
   "name": "python",
   "nbconvert_exporter": "python",
   "pygments_lexer": "ipython3",
   "version": "3.9.4"
  }
 },
 "nbformat": 4,
 "nbformat_minor": 5
}
