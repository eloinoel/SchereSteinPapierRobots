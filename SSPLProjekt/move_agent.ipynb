{
 "cells": [
  {
   "cell_type": "code",
   "execution_count": 89,
   "id": "67a5851b",
   "metadata": {},
   "outputs": [],
   "source": [
    "%matplotlib notebook\n",
    "from matplotlib import pylab as plt\n",
    "#from ipywidgets import interact\n",
    "#from IPython import display\n",
    "from collections import deque\n",
    "import numpy as np"
   ]
  },
  {
   "cell_type": "code",
   "execution_count": 90,
   "id": "11d63633",
   "metadata": {},
   "outputs": [],
   "source": [
    "from IPython.display import IFrame\n",
    "import ipywidgets as widgets"
   ]
  },
  {
   "cell_type": "code",
   "execution_count": 91,
   "id": "be35b6da",
   "metadata": {},
   "outputs": [],
   "source": [
    "import os\n",
    "import sys\n",
    "sys.path.append(os.path.join(os.path.abspath(os.path.dirname('__file__')), '..', 'software_installation'))\n",
    "sys.path.append(os.path.join(os.path.abspath(os.path.dirname('__file__')), '..', 'joint_control'))\n",
    "sys.path.append(os.path.join(os.path.abspath(os.path.dirname('__file__')), '..', 'distributed_computing'))\n",
    "sys.path.append(os.path.join(os.path.abspath(os.path.dirname('__file__')), '..', 'introduction'))\n",
    "sys.path.append(os.path.join(os.path.abspath(os.path.dirname('__file__')), '..', 'kinematics'))"
   ]
  },
  {
   "cell_type": "code",
   "execution_count": 92,
   "id": "7d922c78",
   "metadata": {},
   "outputs": [],
   "source": [
    "from inverse_kinematics import InverseKinematicsAgent"
   ]
  },
  {
   "cell_type": "code",
   "execution_count": 93,
   "id": "79b51821",
   "metadata": {},
   "outputs": [],
   "source": [
    "from keyframes import *"
   ]
  },
  {
   "cell_type": "code",
   "execution_count": 94,
   "id": "4465dc4c",
   "metadata": {},
   "outputs": [],
   "source": [
    "agent = InverseKinematicsAgent()\n",
    "agent.start()"
   ]
  },
  {
   "cell_type": "code",
   "execution_count": 6,
   "id": "22a90f41",
   "metadata": {},
   "outputs": [],
   "source": [
    "#agent.joint_names"
   ]
  },
  {
   "cell_type": "code",
   "execution_count": 28,
   "id": "dfbcc1e0",
   "metadata": {},
   "outputs": [],
   "source": [
    "#agent.__dict__\n",
    "#dir(agent)"
   ]
  },
  {
   "cell_type": "code",
   "execution_count": 96,
   "id": "51300d13",
   "metadata": {},
   "outputs": [],
   "source": [
    "#agent.target_joints"
   ]
  },
  {
   "cell_type": "code",
   "execution_count": 71,
   "id": "e9d7888a",
   "metadata": {},
   "outputs": [],
   "source": [
    "#agent.transforms"
   ]
  },
  {
   "cell_type": "code",
   "execution_count": 95,
   "id": "c11f3cfd",
   "metadata": {},
   "outputs": [],
   "source": [
    "import json\n",
    "from ipywidgets import interact\n",
    "new_text = \"\"\n",
    "time_int = 0\n",
    "time_targets = {}\n",
    "for key in dict.keys(agent.target_joints):\n",
    "    time_targets[key] = [] \n",
    "time_targets['Time'] = []\n",
    "    \n"
   ]
  },
  {
   "cell_type": "code",
   "execution_count": 96,
   "id": "51be21e4",
   "metadata": {},
   "outputs": [],
   "source": [
    "def set_joint_target(value, joint):\n",
    "    agent.target_joints[joint] = value\n",
    "    sliders = value    \n",
    "\n",
    "def saveData(b):\n",
    "    with open(f'Data/{new_text}.json', 'w') as outfile:\n",
    "        data = {}\n",
    "        for key in dict.keys(agent.target_joints):\n",
    "            data[key] = float(agent.target_joints[key])\n",
    "        json.dump(data, outfile)\n",
    "        \n",
    "    with output:\n",
    "        print(f'{time_targets}.json generated')\n",
    "        \n",
    "def set_text(change):\n",
    "    with output2:\n",
    "        global new_text\n",
    "        new_text = change['new']\n",
    "        \n",
    "def set_time(change):\n",
    "    with output3:\n",
    "        global time_int\n",
    "        time_int = int(change['new'])\n",
    "        \n",
    "def add_list(b):\n",
    "    global time_int\n",
    "    time_targets['Time'].append(time_int) \n",
    "    for key in dict.keys(agent.target_joints):\n",
    "            time_targets[key].append(float(agent.target_joints[key]))\n",
    "    "
   ]
  },
  {
   "cell_type": "code",
   "execution_count": 97,
   "id": "02aca955",
   "metadata": {},
   "outputs": [
    {
     "data": {
      "application/vnd.jupyter.widget-view+json": {
       "model_id": "9476190e95464c22b852c5dfdd668e5a",
       "version_major": 2,
       "version_minor": 0
      },
      "text/plain": [
       "interactive(children=(FloatSlider(value=0.0, description='HeadYaw', max=1.0, min=-1.0, step=0.01), Text(value=…"
      ]
     },
     "metadata": {},
     "output_type": "display_data"
    },
    {
     "data": {
      "application/vnd.jupyter.widget-view+json": {
       "model_id": "e72898f2af314a238defd7e93a9fcd4b",
       "version_major": 2,
       "version_minor": 0
      },
      "text/plain": [
       "interactive(children=(FloatSlider(value=0.0, description='HeadPitch', max=1.0, min=-1.0, step=0.01), Text(valu…"
      ]
     },
     "metadata": {},
     "output_type": "display_data"
    },
    {
     "data": {
      "application/vnd.jupyter.widget-view+json": {
       "model_id": "3986fb2dcad44e209f8dc601bcc68348",
       "version_major": 2,
       "version_minor": 0
      },
      "text/plain": [
       "interactive(children=(FloatSlider(value=0.0, description='LShoulderPitch', max=1.0, min=-1.0, step=0.01), Text…"
      ]
     },
     "metadata": {},
     "output_type": "display_data"
    },
    {
     "data": {
      "application/vnd.jupyter.widget-view+json": {
       "model_id": "4aad2d59b4764ea0a2e57660a1b64f95",
       "version_major": 2,
       "version_minor": 0
      },
      "text/plain": [
       "interactive(children=(FloatSlider(value=0.0, description='LShoulderRoll', max=1.0, min=-1.0, step=0.01), Text(…"
      ]
     },
     "metadata": {},
     "output_type": "display_data"
    },
    {
     "data": {
      "application/vnd.jupyter.widget-view+json": {
       "model_id": "b5719cb09f2a43e39e96872493250503",
       "version_major": 2,
       "version_minor": 0
      },
      "text/plain": [
       "interactive(children=(FloatSlider(value=0.0, description='LElbowYaw', max=1.0, min=-1.0, step=0.01), Text(valu…"
      ]
     },
     "metadata": {},
     "output_type": "display_data"
    },
    {
     "data": {
      "application/vnd.jupyter.widget-view+json": {
       "model_id": "ab1c68ea1efc4b818c890d956e478072",
       "version_major": 2,
       "version_minor": 0
      },
      "text/plain": [
       "interactive(children=(FloatSlider(value=0.0, description='LElbowRoll', max=1.0, min=-1.0, step=0.01), Text(val…"
      ]
     },
     "metadata": {},
     "output_type": "display_data"
    },
    {
     "data": {
      "application/vnd.jupyter.widget-view+json": {
       "model_id": "6a7be340373f4d70aeb44916f688dc08",
       "version_major": 2,
       "version_minor": 0
      },
      "text/plain": [
       "interactive(children=(FloatSlider(value=0.0, description='LHipYawPitch', max=1.0, min=-1.0, step=0.01), Text(v…"
      ]
     },
     "metadata": {},
     "output_type": "display_data"
    },
    {
     "data": {
      "application/vnd.jupyter.widget-view+json": {
       "model_id": "63ed2b9754b74e4389583b92ad3b641e",
       "version_major": 2,
       "version_minor": 0
      },
      "text/plain": [
       "interactive(children=(FloatSlider(value=0.0, description='LHipRoll', max=1.0, min=-1.0, step=0.01), Text(value…"
      ]
     },
     "metadata": {},
     "output_type": "display_data"
    },
    {
     "data": {
      "application/vnd.jupyter.widget-view+json": {
       "model_id": "ecdfe7a0dcb5462fa51c1470ae3b9cdb",
       "version_major": 2,
       "version_minor": 0
      },
      "text/plain": [
       "interactive(children=(FloatSlider(value=0.0, description='LHipPitch', max=1.0, min=-1.0, step=0.01), Text(valu…"
      ]
     },
     "metadata": {},
     "output_type": "display_data"
    },
    {
     "data": {
      "application/vnd.jupyter.widget-view+json": {
       "model_id": "9bef5f87cbee44e58148c7733a6f892c",
       "version_major": 2,
       "version_minor": 0
      },
      "text/plain": [
       "interactive(children=(FloatSlider(value=0.0, description='LKneePitch', max=1.0, min=-1.0, step=0.01), Text(val…"
      ]
     },
     "metadata": {},
     "output_type": "display_data"
    },
    {
     "data": {
      "application/vnd.jupyter.widget-view+json": {
       "model_id": "83f949de15d34529b1e4d9e13ab1fb35",
       "version_major": 2,
       "version_minor": 0
      },
      "text/plain": [
       "interactive(children=(FloatSlider(value=0.0, description='LAnklePitch', max=1.0, min=-1.0, step=0.01), Text(va…"
      ]
     },
     "metadata": {},
     "output_type": "display_data"
    },
    {
     "data": {
      "application/vnd.jupyter.widget-view+json": {
       "model_id": "8cd881830f71427cb5ee3348072849f1",
       "version_major": 2,
       "version_minor": 0
      },
      "text/plain": [
       "interactive(children=(FloatSlider(value=0.0, description='LAnkleRoll', max=1.0, min=-1.0, step=0.01), Text(val…"
      ]
     },
     "metadata": {},
     "output_type": "display_data"
    },
    {
     "data": {
      "application/vnd.jupyter.widget-view+json": {
       "model_id": "6027c53b06e24bf38df03de30ddd7a09",
       "version_major": 2,
       "version_minor": 0
      },
      "text/plain": [
       "interactive(children=(FloatSlider(value=0.0, description='RShoulderPitch', max=1.0, min=-1.0, step=0.01), Text…"
      ]
     },
     "metadata": {},
     "output_type": "display_data"
    },
    {
     "data": {
      "application/vnd.jupyter.widget-view+json": {
       "model_id": "8df7a97f68b544b19ce0ca1c9f5a2d79",
       "version_major": 2,
       "version_minor": 0
      },
      "text/plain": [
       "interactive(children=(FloatSlider(value=0.0, description='RShoulderRoll', max=1.0, min=-1.0, step=0.01), Text(…"
      ]
     },
     "metadata": {},
     "output_type": "display_data"
    },
    {
     "data": {
      "application/vnd.jupyter.widget-view+json": {
       "model_id": "ea3f48f9a8c84fc1b1fe88679840e221",
       "version_major": 2,
       "version_minor": 0
      },
      "text/plain": [
       "interactive(children=(FloatSlider(value=0.0, description='RElbowYaw', max=1.0, min=-1.0, step=0.01), Text(valu…"
      ]
     },
     "metadata": {},
     "output_type": "display_data"
    },
    {
     "data": {
      "application/vnd.jupyter.widget-view+json": {
       "model_id": "10bd5808f7c54b0f8fca3fe79462e782",
       "version_major": 2,
       "version_minor": 0
      },
      "text/plain": [
       "interactive(children=(FloatSlider(value=0.0, description='RElbowRoll', max=1.0, min=-1.0, step=0.01), Text(val…"
      ]
     },
     "metadata": {},
     "output_type": "display_data"
    },
    {
     "data": {
      "application/vnd.jupyter.widget-view+json": {
       "model_id": "989ad508d6074944b7b09cd0e2cbdebc",
       "version_major": 2,
       "version_minor": 0
      },
      "text/plain": [
       "interactive(children=(FloatSlider(value=0.0, description='RHipYawPitch', max=1.0, min=-1.0, step=0.01), Text(v…"
      ]
     },
     "metadata": {},
     "output_type": "display_data"
    },
    {
     "data": {
      "application/vnd.jupyter.widget-view+json": {
       "model_id": "19b25b2ca30c475ead8c4ed1ccbf4b74",
       "version_major": 2,
       "version_minor": 0
      },
      "text/plain": [
       "interactive(children=(FloatSlider(value=0.0, description='RHipRoll', max=1.0, min=-1.0, step=0.01), Text(value…"
      ]
     },
     "metadata": {},
     "output_type": "display_data"
    },
    {
     "data": {
      "application/vnd.jupyter.widget-view+json": {
       "model_id": "836dba092d6c4a38b1b4788b608bd03e",
       "version_major": 2,
       "version_minor": 0
      },
      "text/plain": [
       "interactive(children=(FloatSlider(value=0.0, description='RHipPitch', max=1.0, min=-1.0, step=0.01), Text(valu…"
      ]
     },
     "metadata": {},
     "output_type": "display_data"
    },
    {
     "data": {
      "application/vnd.jupyter.widget-view+json": {
       "model_id": "5435d479e26c47018a6023745a429adb",
       "version_major": 2,
       "version_minor": 0
      },
      "text/plain": [
       "interactive(children=(FloatSlider(value=0.0, description='RKneePitch', max=1.0, min=-1.0, step=0.01), Text(val…"
      ]
     },
     "metadata": {},
     "output_type": "display_data"
    },
    {
     "data": {
      "application/vnd.jupyter.widget-view+json": {
       "model_id": "da13e53fa6f1447b9a1c1123bd1e5ac7",
       "version_major": 2,
       "version_minor": 0
      },
      "text/plain": [
       "interactive(children=(FloatSlider(value=0.0, description='RAnklePitch', max=1.0, min=-1.0, step=0.01), Text(va…"
      ]
     },
     "metadata": {},
     "output_type": "display_data"
    },
    {
     "data": {
      "application/vnd.jupyter.widget-view+json": {
       "model_id": "94b47e6b38994788b44d99f4f0be183a",
       "version_major": 2,
       "version_minor": 0
      },
      "text/plain": [
       "interactive(children=(FloatSlider(value=0.0, description='RAnkleRoll', max=1.0, min=-1.0, step=0.01), Text(val…"
      ]
     },
     "metadata": {},
     "output_type": "display_data"
    },
    {
     "data": {
      "application/vnd.jupyter.widget-view+json": {
       "model_id": "d6695e15809246f49e25a11f4a342e70",
       "version_major": 2,
       "version_minor": 0
      },
      "text/plain": [
       "Output()"
      ]
     },
     "metadata": {},
     "output_type": "display_data"
    },
    {
     "data": {
      "application/vnd.jupyter.widget-view+json": {
       "model_id": "63d90000a7c84582a3032d70272596a1",
       "version_major": 2,
       "version_minor": 0
      },
      "text/plain": [
       "Button(description='add to list', style=ButtonStyle())"
      ]
     },
     "metadata": {},
     "output_type": "display_data"
    },
    {
     "data": {
      "application/vnd.jupyter.widget-view+json": {
       "model_id": "a888e80a567d4c89a7cdb31b9e0cfdbb",
       "version_major": 2,
       "version_minor": 0
      },
      "text/plain": [
       "Text(value='', description='time')"
      ]
     },
     "metadata": {},
     "output_type": "display_data"
    },
    {
     "data": {
      "application/vnd.jupyter.widget-view+json": {
       "model_id": "6f9e246c8d36412ea705b77b9adec5d8",
       "version_major": 2,
       "version_minor": 0
      },
      "text/plain": [
       "Button(description='save data', style=ButtonStyle())"
      ]
     },
     "metadata": {},
     "output_type": "display_data"
    },
    {
     "data": {
      "application/vnd.jupyter.widget-view+json": {
       "model_id": "322cca5e943242ffa9c7d5aff7ce43a3",
       "version_major": 2,
       "version_minor": 0
      },
      "text/plain": [
       "Text(value='', description='File Name')"
      ]
     },
     "metadata": {},
     "output_type": "display_data"
    }
   ],
   "source": [
    "for joint in agent.target_joints:\n",
    "    s = widgets.FloatSlider(value=0,min=-1,max=1,step=0.01,description=joint)\n",
    "    t = interact(set_joint_target, value=s, joint=joint)\n",
    "    \n",
    "    \n",
    "text = widgets.Text(description=\"File Name\")\n",
    "output2 = widgets.Output()\n",
    "\n",
    "text.observe(set_text, names='value')\n",
    "    \n",
    "button = widgets.Button(description=\"save data\")\n",
    "output = widgets.Output()\n",
    "\n",
    "input_time = widgets.Text(description=\"time\")\n",
    "output3 = widgets.Output()\n",
    "\n",
    "input_time.observe(set_time, names='value')\n",
    "\n",
    "button.on_click(saveData)\n",
    "\n",
    "btn_add = widgets.Button(description=\"add to list\")\n",
    "btn_add.on_click(add_list)\n",
    "\n",
    "display( output,btn_add,input_time ,button, text)\n",
    "\n"
   ]
  },
  {
   "cell_type": "code",
   "execution_count": 98,
   "id": "c805af29",
   "metadata": {},
   "outputs": [
    {
     "data": {
      "text/plain": [
       "{'HeadYaw': [],\n",
       " 'HeadPitch': [],\n",
       " 'LShoulderPitch': [],\n",
       " 'LShoulderRoll': [],\n",
       " 'LElbowYaw': [],\n",
       " 'LElbowRoll': [],\n",
       " 'LHipYawPitch': [],\n",
       " 'LHipRoll': [],\n",
       " 'LHipPitch': [],\n",
       " 'LKneePitch': [],\n",
       " 'LAnklePitch': [],\n",
       " 'LAnkleRoll': [],\n",
       " 'RShoulderPitch': [],\n",
       " 'RShoulderRoll': [],\n",
       " 'RElbowYaw': [],\n",
       " 'RElbowRoll': [],\n",
       " 'RHipYawPitch': [],\n",
       " 'RHipRoll': [],\n",
       " 'RHipPitch': [],\n",
       " 'RKneePitch': [],\n",
       " 'RAnklePitch': [],\n",
       " 'RAnkleRoll': [],\n",
       " 'Time': []}"
      ]
     },
     "execution_count": 98,
     "metadata": {},
     "output_type": "execute_result"
    }
   ],
   "source": [
    "#agent.perception.__dict__\n",
    "time_targets"
   ]
  },
  {
   "cell_type": "code",
   "execution_count": 99,
   "id": "166b761e",
   "metadata": {},
   "outputs": [],
   "source": [
    "#agent.keyframes = rightBackToStand()\n",
    "#agent.keyframes = rightBackToStand()\n",
    "#agent.keyframes = rightBackToStand()\n",
    "#agent.keyframes = rightBackToStand()\n",
    "#agent.keyframes = rightBackToStand()\n",
    "agent.keyframes = ([],[],[])"
   ]
  },
  {
   "cell_type": "code",
   "execution_count": null,
   "id": "fab067e5",
   "metadata": {},
   "outputs": [],
   "source": []
  },
  {
   "cell_type": "code",
   "execution_count": null,
   "id": "ef9da498",
   "metadata": {},
   "outputs": [],
   "source": []
  },
  {
   "cell_type": "code",
   "execution_count": null,
   "id": "6df6fd5e",
   "metadata": {},
   "outputs": [],
   "source": []
  },
  {
   "cell_type": "code",
   "execution_count": null,
   "id": "6ffd3ba4",
   "metadata": {},
   "outputs": [],
   "source": []
  },
  {
   "cell_type": "code",
   "execution_count": 103,
   "id": "0fd47720",
   "metadata": {},
   "outputs": [],
   "source": [
    "#agent.target_joints"
   ]
  },
  {
   "cell_type": "code",
   "execution_count": 94,
   "id": "fa178881",
   "metadata": {},
   "outputs": [],
   "source": [
    "#dict.keys(agent.target_joints)"
   ]
  },
  {
   "cell_type": "code",
   "execution_count": null,
   "id": "19211eb0",
   "metadata": {},
   "outputs": [],
   "source": []
  },
  {
   "cell_type": "code",
   "execution_count": 104,
   "id": "0a205ef8",
   "metadata": {},
   "outputs": [],
   "source": [
    "def generateKeyframe():\n",
    "    names = []\n",
    "    #time = np.linspace(0, 5.2, 6, endpoint=True)\n",
    "    time = [0.  , 1.04, 2.08, 3.12, 4.16, 5.2 ]\n",
    "    angle = [[-1,[0.2,0.0],[0.2,0.0]],[-0.4,[0.2,0.0],[0.2,0.0]],[-1,[0.2,0.0],[0.2,0.0]],[-0.6,[0.2,0.0],[0.2,0.0]],[0,[0.2,0.0],[0.2,0.0]],[0.6,[0.2,0.0],[0.2,0.0]]]\n",
    "                                                                                                               \n",
    "    for key in dict.keys(agent.target_joints):\n",
    "        names.append(key)\n",
    "        \n",
    "        \n",
    "    joints = []\n",
    "    for i in range(len(names)):\n",
    "        joint=[]\n",
    "        for j in range(len(time)):\n",
    "            joint.append([0,[0.2,0.0],[0.2,0.0]])\n",
    "        if i==2:\n",
    "            joints.append(angle)\n",
    "        else:\n",
    "            joints.append(joint)\n",
    "            \n",
    "    times = []\n",
    "    for i in range(len(names)):\n",
    "        times.append(time)\n",
    "        \n",
    "            \n",
    "    return (names,times,joints)\n",
    "        \n",
    "kf =generateKeyframe()"
   ]
  },
  {
   "cell_type": "code",
   "execution_count": null,
   "id": "f5a5edc2",
   "metadata": {},
   "outputs": [],
   "source": []
  },
  {
   "cell_type": "code",
   "execution_count": null,
   "id": "32eb1f75",
   "metadata": {},
   "outputs": [],
   "source": []
  },
  {
   "cell_type": "code",
   "execution_count": null,
   "id": "1d2e5304",
   "metadata": {},
   "outputs": [],
   "source": []
  },
  {
   "cell_type": "code",
   "execution_count": null,
   "id": "5b2bc84a",
   "metadata": {},
   "outputs": [],
   "source": []
  },
  {
   "cell_type": "code",
   "execution_count": null,
   "id": "b3463070",
   "metadata": {},
   "outputs": [],
   "source": []
  }
 ],
 "metadata": {
  "kernelspec": {
   "display_name": "Python 3",
   "language": "python",
   "name": "python3"
  },
  "language_info": {
   "codemirror_mode": {
    "name": "ipython",
    "version": 3
   },
   "file_extension": ".py",
   "mimetype": "text/x-python",
   "name": "python",
   "nbconvert_exporter": "python",
   "pygments_lexer": "ipython3",
   "version": "3.8.8"
  }
 },
 "nbformat": 4,
 "nbformat_minor": 5
}