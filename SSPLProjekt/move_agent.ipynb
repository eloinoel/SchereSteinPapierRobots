{
 "cells": [
  {
   "cell_type": "markdown",
   "id": "7f57d048",
   "metadata": {},
   "source": [
    "# Imports"
   ]
  },
  {
   "cell_type": "code",
   "execution_count": 1,
   "id": "c8d46bfa",
   "metadata": {},
   "outputs": [],
   "source": [
    "%matplotlib notebook\n",
    "import os\n",
    "import sys\n",
    "\n",
    "from matplotlib import pylab as plt\n",
    "from collections import deque\n",
    "import numpy as np\n",
    "from IPython.display import IFrame\n",
    "import ipywidgets as widgets\n",
    "import json\n",
    "from ipywidgets import interact\n",
    "\n",
    "from os import listdir\n",
    "from os.path import isfile, join"
   ]
  },
  {
   "cell_type": "code",
   "execution_count": 2,
   "id": "9cd6924c",
   "metadata": {},
   "outputs": [],
   "source": [
    "sys.path.append(os.path.join(os.path.abspath(os.path.dirname('__file__')), '..', 'software_installation'))\n",
    "sys.path.append(os.path.join(os.path.abspath(os.path.dirname('__file__')), '..', 'joint_control'))\n",
    "sys.path.append(os.path.join(os.path.abspath(os.path.dirname('__file__')), '..', 'distributed_computing'))\n",
    "sys.path.append(os.path.join(os.path.abspath(os.path.dirname('__file__')), '..', 'introduction'))\n",
    "sys.path.append(os.path.join(os.path.abspath(os.path.dirname('__file__')), '..', 'kinematics'))\n",
    "\n",
    "from keyframes import *"
   ]
  },
  {
   "cell_type": "code",
   "execution_count": 3,
   "id": "fa57b473",
   "metadata": {},
   "outputs": [],
   "source": [
    "from inverse_kinematics import InverseKinematicsAgent"
   ]
  },
  {
   "cell_type": "code",
   "execution_count": 4,
   "id": "0be2a3c3",
   "metadata": {},
   "outputs": [],
   "source": [
    "agent = InverseKinematicsAgent()\n",
    "agent.start()"
   ]
  },
  {
   "cell_type": "markdown",
   "id": "0ff21d8c",
   "metadata": {},
   "source": [
    "# Nützliche Funktionen"
   ]
  },
  {
   "cell_type": "code",
   "execution_count": 25,
   "id": "7e1669e9",
   "metadata": {},
   "outputs": [],
   "source": [
    "#agent.joint_names\n",
    "#agent.__dict__\n",
    "#dir(agent)\n",
    "#agent.target_joints\n",
    "#agent.transforms"
   ]
  },
  {
   "cell_type": "code",
   "execution_count": null,
   "id": "598d86e6",
   "metadata": {},
   "outputs": [],
   "source": []
  },
  {
   "cell_type": "code",
   "execution_count": null,
   "id": "4ba8d7a4",
   "metadata": {},
   "outputs": [],
   "source": []
  },
  {
   "cell_type": "code",
   "execution_count": 26,
   "id": "d763f3f1",
   "metadata": {},
   "outputs": [],
   "source": [
    "#agent.target_joints"
   ]
  },
  {
   "cell_type": "markdown",
   "id": "b77167f5",
   "metadata": {},
   "source": [
    "## Globale Variablen"
   ]
  },
  {
   "cell_type": "code",
   "execution_count": 5,
   "id": "6d06d264",
   "metadata": {},
   "outputs": [],
   "source": [
    "file_name = \"\"\n",
    "time_int = 0\n",
    "time_targets = {}\n",
    "all_keyframes = []\n",
    "all_json_data = []\n",
    "dropdown_value_json = \"\"\n",
    "dropdown_value_keyframe = \"\"\n",
    "test_keyframe = None\n",
    "for key in dict.keys(agent.target_joints):\n",
    "    time_targets[key]={'keys':[],'times':[]}\n",
    "time_targets[\"LWristYaw\"] = {'keys':[],'times':[]}\n",
    "time_targets[\"LHand\"] = {'keys':[],'times':[]}\n",
    "time_targets[\"RWristYaw\"] = {'keys':[],'times':[]}\n",
    "time_targets[\"RHand\"] = {'keys':[],'times':[]}\n",
    "#time_targets[\"LHand\"] = {'keys':[],'times':[]}\n",
    "#time_targets['Time'] = []"
   ]
  },
  {
   "cell_type": "markdown",
   "id": "3046e1b4",
   "metadata": {},
   "source": [
    "## GUI Funktionen"
   ]
  },
  {
   "cell_type": "code",
   "execution_count": 6,
   "id": "8d6f3cae",
   "metadata": {},
   "outputs": [],
   "source": [
    "# updatet die vom Slider gesetzten Werte beim agent\n",
    "def set_joint_target(value, joint):\n",
    "    agent.target_joints[joint] = value\n",
    "    sliders = value    \n",
    "\n",
    "# schreibt die Daten aus time_targets in eine json File\n",
    "def save_Data(b):\n",
    "    global fiel_name\n",
    "    with open(f'Data/{file_name}.json', 'w') as outfile:\n",
    "        data = {}\n",
    "        json.dump(time_targets, outfile)\n",
    "    global fiel_name\n",
    "    with output:\n",
    "        print(f'{file_name}.json generated')\n",
    "\n",
    "#  setzt den input von File Name auf fiele_name\n",
    "def set_FileName(change):\n",
    "    with output2:\n",
    "        global file_name\n",
    "        file_name = change['new']\n",
    "\n",
    "# setzt time_int auf die eingegebene Zeit\n",
    "def set_time(change):\n",
    "    with output3:\n",
    "        global time_int\n",
    "        time_int = int(change['new'])\n",
    "\n",
    "# addet die die Werte von target_joints an time_targets\n",
    "def add_list(b):\n",
    "    global time_int\n",
    "    #time_targets['Time'].append(time_int) \n",
    "    for key in dict.keys(time_targets):\n",
    "        try:\n",
    "            time_targets[key]['keys'].append([float(agent.target_joints[key]),[0,1,2],[0,1,2]])\n",
    "            time_targets[key]['times'].append(float(time_int))\n",
    "        except:\n",
    "            time_targets[key]['keys'].append([0,[0,1,2],[0,1,2]])\n",
    "            time_targets[key]['times'].append(float(time_int))           \n",
    "    "
   ]
  },
  {
   "cell_type": "code",
   "execution_count": null,
   "id": "71ab9e37",
   "metadata": {},
   "outputs": [],
   "source": []
  },
  {
   "cell_type": "markdown",
   "id": "950ce009",
   "metadata": {},
   "source": [
    "## GUI Elemente"
   ]
  },
  {
   "cell_type": "code",
   "execution_count": 8,
   "id": "562cc025",
   "metadata": {},
   "outputs": [
    {
     "name": "stdout",
     "output_type": "stream",
     "text": [
      "HeadYaw\n"
     ]
    },
    {
     "data": {
      "application/vnd.jupyter.widget-view+json": {
       "model_id": "9ae701afa73b443fbede6a7e698b1103",
       "version_major": 2,
       "version_minor": 0
      },
      "text/plain": [
       "interactive(children=(FloatSlider(value=0.0, description='HeadYaw', max=2.0, min=-2.0, step=0.01), Text(value=…"
      ]
     },
     "metadata": {},
     "output_type": "display_data"
    },
    {
     "name": "stdout",
     "output_type": "stream",
     "text": [
      "HeadPitch\n"
     ]
    },
    {
     "data": {
      "application/vnd.jupyter.widget-view+json": {
       "model_id": "932a8fbc793c4b94ba97e3c3ae7576ea",
       "version_major": 2,
       "version_minor": 0
      },
      "text/plain": [
       "interactive(children=(FloatSlider(value=0.0, description='HeadPitch', max=2.0, min=-2.0, step=0.01), Text(valu…"
      ]
     },
     "metadata": {},
     "output_type": "display_data"
    },
    {
     "name": "stdout",
     "output_type": "stream",
     "text": [
      "LShoulderPitch\n"
     ]
    },
    {
     "data": {
      "application/vnd.jupyter.widget-view+json": {
       "model_id": "1c9319b831964ad187fb597966166819",
       "version_major": 2,
       "version_minor": 0
      },
      "text/plain": [
       "interactive(children=(FloatSlider(value=0.0, description='LShoulderPitch', max=2.0, min=-2.0, step=0.01), Text…"
      ]
     },
     "metadata": {},
     "output_type": "display_data"
    },
    {
     "name": "stdout",
     "output_type": "stream",
     "text": [
      "LShoulderRoll\n"
     ]
    },
    {
     "data": {
      "application/vnd.jupyter.widget-view+json": {
       "model_id": "5eea3bee59484428b7e56f7d207e3668",
       "version_major": 2,
       "version_minor": 0
      },
      "text/plain": [
       "interactive(children=(FloatSlider(value=0.0, description='LShoulderRoll', max=2.0, min=-2.0, step=0.01), Text(…"
      ]
     },
     "metadata": {},
     "output_type": "display_data"
    },
    {
     "name": "stdout",
     "output_type": "stream",
     "text": [
      "LElbowYaw\n"
     ]
    },
    {
     "data": {
      "application/vnd.jupyter.widget-view+json": {
       "model_id": "5db471a339b8463d9dccf7a1ff5f7b4f",
       "version_major": 2,
       "version_minor": 0
      },
      "text/plain": [
       "interactive(children=(FloatSlider(value=0.0, description='LElbowYaw', max=2.0, min=-2.0, step=0.01), Text(valu…"
      ]
     },
     "metadata": {},
     "output_type": "display_data"
    },
    {
     "name": "stdout",
     "output_type": "stream",
     "text": [
      "LElbowRoll\n"
     ]
    },
    {
     "data": {
      "application/vnd.jupyter.widget-view+json": {
       "model_id": "afdc2fb5fe104042a4095d1e0f731ae3",
       "version_major": 2,
       "version_minor": 0
      },
      "text/plain": [
       "interactive(children=(FloatSlider(value=0.0, description='LElbowRoll', max=2.0, min=-2.0, step=0.01), Text(val…"
      ]
     },
     "metadata": {},
     "output_type": "display_data"
    },
    {
     "name": "stdout",
     "output_type": "stream",
     "text": [
      "LHipYawPitch\n"
     ]
    },
    {
     "data": {
      "application/vnd.jupyter.widget-view+json": {
       "model_id": "e655ce28588742aaa69cd5c4933b8e3a",
       "version_major": 2,
       "version_minor": 0
      },
      "text/plain": [
       "interactive(children=(FloatSlider(value=0.0, description='LHipYawPitch', max=2.0, min=-2.0, step=0.01), Text(v…"
      ]
     },
     "metadata": {},
     "output_type": "display_data"
    },
    {
     "name": "stdout",
     "output_type": "stream",
     "text": [
      "LHipRoll\n"
     ]
    },
    {
     "data": {
      "application/vnd.jupyter.widget-view+json": {
       "model_id": "a3da09b7b8e140a3930e6d5a73639839",
       "version_major": 2,
       "version_minor": 0
      },
      "text/plain": [
       "interactive(children=(FloatSlider(value=0.0, description='LHipRoll', max=2.0, min=-2.0, step=0.01), Text(value…"
      ]
     },
     "metadata": {},
     "output_type": "display_data"
    },
    {
     "name": "stdout",
     "output_type": "stream",
     "text": [
      "LHipPitch\n"
     ]
    },
    {
     "data": {
      "application/vnd.jupyter.widget-view+json": {
       "model_id": "4ccfbc3852944191a6469054e97f2640",
       "version_major": 2,
       "version_minor": 0
      },
      "text/plain": [
       "interactive(children=(FloatSlider(value=0.0, description='LHipPitch', max=2.0, min=-2.0, step=0.01), Text(valu…"
      ]
     },
     "metadata": {},
     "output_type": "display_data"
    },
    {
     "name": "stdout",
     "output_type": "stream",
     "text": [
      "LKneePitch\n"
     ]
    },
    {
     "data": {
      "application/vnd.jupyter.widget-view+json": {
       "model_id": "1cf2cadc146b4fcdbe917fa70bb4e80a",
       "version_major": 2,
       "version_minor": 0
      },
      "text/plain": [
       "interactive(children=(FloatSlider(value=0.0, description='LKneePitch', max=2.0, min=-2.0, step=0.01), Text(val…"
      ]
     },
     "metadata": {},
     "output_type": "display_data"
    },
    {
     "name": "stdout",
     "output_type": "stream",
     "text": [
      "LAnklePitch\n"
     ]
    },
    {
     "data": {
      "application/vnd.jupyter.widget-view+json": {
       "model_id": "6cf2680e0d0a4cad8dcdb92089872d2b",
       "version_major": 2,
       "version_minor": 0
      },
      "text/plain": [
       "interactive(children=(FloatSlider(value=0.0, description='LAnklePitch', max=2.0, min=-2.0, step=0.01), Text(va…"
      ]
     },
     "metadata": {},
     "output_type": "display_data"
    },
    {
     "name": "stdout",
     "output_type": "stream",
     "text": [
      "LAnkleRoll\n"
     ]
    },
    {
     "data": {
      "application/vnd.jupyter.widget-view+json": {
       "model_id": "fd12959e264747939007400c60711569",
       "version_major": 2,
       "version_minor": 0
      },
      "text/plain": [
       "interactive(children=(FloatSlider(value=0.0, description='LAnkleRoll', max=2.0, min=-2.0, step=0.01), Text(val…"
      ]
     },
     "metadata": {},
     "output_type": "display_data"
    },
    {
     "name": "stdout",
     "output_type": "stream",
     "text": [
      "RShoulderPitch\n"
     ]
    },
    {
     "data": {
      "application/vnd.jupyter.widget-view+json": {
       "model_id": "499a4324217c4768a96d7fb703fd9e6f",
       "version_major": 2,
       "version_minor": 0
      },
      "text/plain": [
       "interactive(children=(FloatSlider(value=0.0, description='RShoulderPitch', max=2.0, min=-2.0, step=0.01), Text…"
      ]
     },
     "metadata": {},
     "output_type": "display_data"
    },
    {
     "name": "stdout",
     "output_type": "stream",
     "text": [
      "RShoulderRoll\n"
     ]
    },
    {
     "data": {
      "application/vnd.jupyter.widget-view+json": {
       "model_id": "00149e7037b7407b8d2b8bf1029d25f7",
       "version_major": 2,
       "version_minor": 0
      },
      "text/plain": [
       "interactive(children=(FloatSlider(value=0.0, description='RShoulderRoll', max=2.0, min=-2.0, step=0.01), Text(…"
      ]
     },
     "metadata": {},
     "output_type": "display_data"
    },
    {
     "name": "stdout",
     "output_type": "stream",
     "text": [
      "RElbowYaw\n"
     ]
    },
    {
     "data": {
      "application/vnd.jupyter.widget-view+json": {
       "model_id": "096612b68fcc460d8286b79ef0bdcfa3",
       "version_major": 2,
       "version_minor": 0
      },
      "text/plain": [
       "interactive(children=(FloatSlider(value=0.0, description='RElbowYaw', max=2.0, min=-2.0, step=0.01), Text(valu…"
      ]
     },
     "metadata": {},
     "output_type": "display_data"
    },
    {
     "name": "stdout",
     "output_type": "stream",
     "text": [
      "RElbowRoll\n"
     ]
    },
    {
     "data": {
      "application/vnd.jupyter.widget-view+json": {
       "model_id": "bf239e8de44046a699bbb7b119c75a25",
       "version_major": 2,
       "version_minor": 0
      },
      "text/plain": [
       "interactive(children=(FloatSlider(value=0.0, description='RElbowRoll', max=2.0, min=-2.0, step=0.01), Text(val…"
      ]
     },
     "metadata": {},
     "output_type": "display_data"
    },
    {
     "name": "stdout",
     "output_type": "stream",
     "text": [
      "RHipYawPitch\n"
     ]
    },
    {
     "data": {
      "application/vnd.jupyter.widget-view+json": {
       "model_id": "34f0e59336f64addaf4b0a9c38faa1fe",
       "version_major": 2,
       "version_minor": 0
      },
      "text/plain": [
       "interactive(children=(FloatSlider(value=0.0, description='RHipYawPitch', max=2.0, min=-2.0, step=0.01), Text(v…"
      ]
     },
     "metadata": {},
     "output_type": "display_data"
    },
    {
     "name": "stdout",
     "output_type": "stream",
     "text": [
      "RHipRoll\n"
     ]
    },
    {
     "data": {
      "application/vnd.jupyter.widget-view+json": {
       "model_id": "12871e306aac458892376a146b83fabc",
       "version_major": 2,
       "version_minor": 0
      },
      "text/plain": [
       "interactive(children=(FloatSlider(value=0.0, description='RHipRoll', max=2.0, min=-2.0, step=0.01), Text(value…"
      ]
     },
     "metadata": {},
     "output_type": "display_data"
    },
    {
     "name": "stdout",
     "output_type": "stream",
     "text": [
      "RHipPitch\n"
     ]
    },
    {
     "data": {
      "application/vnd.jupyter.widget-view+json": {
       "model_id": "c67efac812964ec6ae85ecafda08e844",
       "version_major": 2,
       "version_minor": 0
      },
      "text/plain": [
       "interactive(children=(FloatSlider(value=0.0, description='RHipPitch', max=2.0, min=-2.0, step=0.01), Text(valu…"
      ]
     },
     "metadata": {},
     "output_type": "display_data"
    },
    {
     "name": "stdout",
     "output_type": "stream",
     "text": [
      "RKneePitch\n"
     ]
    },
    {
     "data": {
      "application/vnd.jupyter.widget-view+json": {
       "model_id": "283b8020c9b44900a0b87366c4238d7e",
       "version_major": 2,
       "version_minor": 0
      },
      "text/plain": [
       "interactive(children=(FloatSlider(value=0.0, description='RKneePitch', max=2.0, min=-2.0, step=0.01), Text(val…"
      ]
     },
     "metadata": {},
     "output_type": "display_data"
    },
    {
     "name": "stdout",
     "output_type": "stream",
     "text": [
      "RAnklePitch\n"
     ]
    },
    {
     "data": {
      "application/vnd.jupyter.widget-view+json": {
       "model_id": "8a391a2d5c8f4ad1a7a3eeb5a88f8c55",
       "version_major": 2,
       "version_minor": 0
      },
      "text/plain": [
       "interactive(children=(FloatSlider(value=0.0, description='RAnklePitch', max=2.0, min=-2.0, step=0.01), Text(va…"
      ]
     },
     "metadata": {},
     "output_type": "display_data"
    },
    {
     "name": "stdout",
     "output_type": "stream",
     "text": [
      "RAnkleRoll\n"
     ]
    },
    {
     "data": {
      "application/vnd.jupyter.widget-view+json": {
       "model_id": "639cc1b7f82f4d648294a42dd86a8389",
       "version_major": 2,
       "version_minor": 0
      },
      "text/plain": [
       "interactive(children=(FloatSlider(value=0.0, description='RAnkleRoll', max=2.0, min=-2.0, step=0.01), Text(val…"
      ]
     },
     "metadata": {},
     "output_type": "display_data"
    },
    {
     "data": {
      "application/vnd.jupyter.widget-view+json": {
       "model_id": "5d5c9154791348bca401c1edaf56b9b5",
       "version_major": 2,
       "version_minor": 0
      },
      "text/plain": [
       "Button(description='add to list', style=ButtonStyle())"
      ]
     },
     "metadata": {},
     "output_type": "display_data"
    },
    {
     "data": {
      "application/vnd.jupyter.widget-view+json": {
       "model_id": "bdbc7381263c41e0a8db991171332029",
       "version_major": 2,
       "version_minor": 0
      },
      "text/plain": [
       "Text(value='', description='time')"
      ]
     },
     "metadata": {},
     "output_type": "display_data"
    },
    {
     "data": {
      "application/vnd.jupyter.widget-view+json": {
       "model_id": "948de06107684b479d346c9de592b172",
       "version_major": 2,
       "version_minor": 0
      },
      "text/plain": [
       "Button(description='save data', style=ButtonStyle())"
      ]
     },
     "metadata": {},
     "output_type": "display_data"
    },
    {
     "data": {
      "application/vnd.jupyter.widget-view+json": {
       "model_id": "920fb7f60f424ffb9e1869848be1f5d2",
       "version_major": 2,
       "version_minor": 0
      },
      "text/plain": [
       "Text(value='', description='File Name')"
      ]
     },
     "metadata": {},
     "output_type": "display_data"
    },
    {
     "data": {
      "application/vnd.jupyter.widget-view+json": {
       "model_id": "00917e80d3b547e481fc623e04956857",
       "version_major": 2,
       "version_minor": 0
      },
      "text/plain": [
       "Output()"
      ]
     },
     "metadata": {},
     "output_type": "display_data"
    }
   ],
   "source": [
    "# generates all slider elements\n",
    "for joint in agent.target_joints:\n",
    "    val = 0\n",
    "    if joint == \"LShoulderPitch\":\n",
    "        val = 1.49\n",
    "    elif joint == 'LElbowYaw':\n",
    "        val = -1.15\n",
    "    elif joint == 'RShoulderPitch':\n",
    "        val = 1.49\n",
    "    elif joint == 'RElbowYaw':\n",
    "        val = 1.07\n",
    "        \n",
    "    s = widgets.FloatSlider(value=val,min=-2,max=2,step=0.01,description=joint)\n",
    "    t = interact(set_joint_target, value=s, joint=joint)\n",
    "    \n",
    "# input \"File Name\" text field\n",
    "text = widgets.Text(description=\"File Name\")\n",
    "output2 = widgets.Output()\n",
    "text.observe(set_FileName, names='value')\n",
    " \n",
    "# save button\n",
    "btn_save = widgets.Button(description=\"save data\")\n",
    "output = widgets.Output()\n",
    "btn_save.on_click(save_Data)\n",
    "\n",
    "# zeitstempel eingabe\n",
    "input_time = widgets.Text(description=\"time\")\n",
    "output3 = widgets.Output()\n",
    "input_time.observe(set_time, names='value')\n",
    "\n",
    "# add data to list\n",
    "btn_add = widgets.Button(description=\"add to list\")\n",
    "btn_add.on_click(add_list)\n",
    "\n",
    "# elemente anzeigen\n",
    "display( btn_add, input_time, btn_save, text, output)\n",
    "\n"
   ]
  },
  {
   "cell_type": "code",
   "execution_count": null,
   "id": "4753a7a0",
   "metadata": {},
   "outputs": [],
   "source": []
  },
  {
   "cell_type": "code",
   "execution_count": 30,
   "id": "2925da68",
   "metadata": {},
   "outputs": [
    {
     "data": {
      "text/plain": [
       "{'HeadYaw': {'keys': [], 'times': []},\n",
       " 'HeadPitch': {'keys': [], 'times': []},\n",
       " 'LShoulderPitch': {'keys': [], 'times': []},\n",
       " 'LShoulderRoll': {'keys': [], 'times': []},\n",
       " 'LElbowYaw': {'keys': [], 'times': []},\n",
       " 'LElbowRoll': {'keys': [], 'times': []},\n",
       " 'LHipYawPitch': {'keys': [], 'times': []},\n",
       " 'LHipRoll': {'keys': [], 'times': []},\n",
       " 'LHipPitch': {'keys': [], 'times': []},\n",
       " 'LKneePitch': {'keys': [], 'times': []},\n",
       " 'LAnklePitch': {'keys': [], 'times': []},\n",
       " 'LAnkleRoll': {'keys': [], 'times': []},\n",
       " 'RShoulderPitch': {'keys': [], 'times': []},\n",
       " 'RShoulderRoll': {'keys': [], 'times': []},\n",
       " 'RElbowYaw': {'keys': [], 'times': []},\n",
       " 'RElbowRoll': {'keys': [], 'times': []},\n",
       " 'RHipYawPitch': {'keys': [], 'times': []},\n",
       " 'RHipRoll': {'keys': [], 'times': []},\n",
       " 'RHipPitch': {'keys': [], 'times': []},\n",
       " 'RKneePitch': {'keys': [], 'times': []},\n",
       " 'RAnklePitch': {'keys': [], 'times': []},\n",
       " 'RAnkleRoll': {'keys': [], 'times': []},\n",
       " 'LWristYaw': {'keys': [], 'times': []},\n",
       " 'LHand': {'keys': [], 'times': []},\n",
       " 'RWristYaw': {'keys': [], 'times': []},\n",
       " 'RHand': {'keys': [], 'times': []}}"
      ]
     },
     "execution_count": 30,
     "metadata": {},
     "output_type": "execute_result"
    }
   ],
   "source": [
    "#agent.perception.__dict__\n",
    "time_targets"
   ]
  },
  {
   "cell_type": "code",
   "execution_count": 31,
   "id": "b164d4a5",
   "metadata": {},
   "outputs": [
    {
     "data": {
      "application/vnd.jupyter.widget-view+json": {
       "model_id": "5dd4e5d2a2e44722b4a8134be08759db",
       "version_major": 2,
       "version_minor": 0
      },
      "text/plain": [
       "Button(description='start', style=ButtonStyle())"
      ]
     },
     "metadata": {},
     "output_type": "display_data"
    },
    {
     "data": {
      "application/vnd.jupyter.widget-view+json": {
       "model_id": "04ac7643042f462ab90dad5ac9c3a406",
       "version_major": 2,
       "version_minor": 0
      },
      "text/plain": [
       "Button(description='stop', style=ButtonStyle())"
      ]
     },
     "metadata": {},
     "output_type": "display_data"
    }
   ],
   "source": [
    "def start_frame(b):\n",
    "    agent.keyframes = rightBackToStand()\n",
    "\n",
    "def stop_frame(b):\n",
    "    agent.keyframes = ([],[],[])\n",
    "\n",
    "btn_start = widgets.Button(description=\"start\")\n",
    "btn_start.on_click(start_frame)\n",
    "\n",
    "btn_stop = widgets.Button(description=\"stop\")\n",
    "btn_stop.on_click(stop_frame)\n",
    "\n",
    "display(btn_start, btn_stop)"
   ]
  },
  {
   "cell_type": "code",
   "execution_count": null,
   "id": "ffb31e28",
   "metadata": {},
   "outputs": [],
   "source": []
  },
  {
   "cell_type": "markdown",
   "id": "d539db3f",
   "metadata": {},
   "source": [
    "## generate keyframe form JSON"
   ]
  },
  {
   "cell_type": "code",
   "execution_count": null,
   "id": "5f24d037",
   "metadata": {},
   "outputs": [],
   "source": []
  },
  {
   "cell_type": "code",
   "execution_count": 32,
   "id": "3066425e",
   "metadata": {},
   "outputs": [],
   "source": [
    "# add all elements to dropdown\n",
    "def set_all_keyframes():\n",
    "    dir_list=listdir('./new_keyframes')\n",
    "    global all_keyframes\n",
    "    all_keyframes = []\n",
    "    c=1\n",
    "    for i in dir_list:\n",
    "        if \".py\" in i and i != \"__init__.py\":\n",
    "            all_keyframes.append((i,c))\n",
    "            c = c+1\n",
    "    \n",
    "    \n",
    "def set_dropdown_value(change):\n",
    "    global dropdown_value_json\n",
    "    dropdown_value_json = \"\"\n",
    "    dropdown_value_json = all_json_data[change[\"new\"]-1][0]\n",
    "\n",
    "# add all elements to dropdown\n",
    "def set_all_data(b):\n",
    "    dir_list=listdir('./Data')\n",
    "    global all_json_data\n",
    "    all_json_data = []\n",
    "    c=1\n",
    "    for i in dir_list:\n",
    "        if \".json\" in i:\n",
    "            all_json_data.append((i,c))\n",
    "            c = c+1\n",
    "    # dropdown\n",
    "    dropdown = widgets.Dropdown(\n",
    "        options = all_json_data,\n",
    "        value = 1,\n",
    "        description = 'json Data')\n",
    "    output4 = widgets.Output()\n",
    "    dropdown.observe(set_dropdown_value, names='value')\n",
    "    display(dropdown)\n",
    "    if len(all_json_data)==1:\n",
    "        global dropdown_value_json\n",
    "        dropdown_value_json = all_json_data[0][0]\n",
    "        \n",
    "    \n",
    "    # generate btn\n",
    "    btn_generate = widgets.Button(description=\"generate keyframe\")\n",
    "    output_g = widgets.Output()\n",
    "    btn_generate.on_click(keyframe_from_JSON)\n",
    "    display(btn_generate)\n",
    "            \n",
    "            \n",
    "# generate keyFrame from json File\n",
    "def keyframe_from_JSON(b):\n",
    "    global dropdown_value_json\n",
    "    #print(dropdown_value_json)\n",
    "    file_name_json = dropdown_value_json\n",
    "    with open(f\"Data/{file_name_json}\") as jsonFile:\n",
    "        jsonObject = json.load(jsonFile)\n",
    "        jsonFile.close()\n",
    "        \n",
    "    name,_json = file_name_json.split(\".\") \n",
    "    f = open(f'new_keyframes/{name}.py', 'w')\n",
    "    f.write(f\"def {name}():\\n\\tnames = list()\\n\\ttimes = list()\\n\\tkeys = list() \")\n",
    "    times = \"times\"\n",
    "    keys = \"keys\"\n",
    "    #print(jsonObject)\n",
    "    for key in dict.keys(jsonObject):\n",
    "        if key != \"Time\":\n",
    "            f.write(f\"\\n\\n\\tnames.append('{key}')\")\n",
    "            f.write(f\"\\n\\ttimes.append({jsonObject[key][times]})\")\n",
    "            f.write(f\"\\n\\tkeys.append({jsonObject[key][keys]})\")\n",
    "    f.write(\"\\n\\treturn names, times, keys\")\n",
    "    f.close()\n",
    "    f = open(f'new_keyframes/__init__.py', 'a')\n",
    "    f.write(f\"\\nfrom .{name} import {name}\")\n",
    "    set_all_keyframes()\n",
    "    \n",
    "                        "
   ]
  },
  {
   "cell_type": "code",
   "execution_count": 33,
   "id": "400a3fec",
   "metadata": {},
   "outputs": [
    {
     "data": {
      "application/vnd.jupyter.widget-view+json": {
       "model_id": "e256ad2d0a1e4dcf89f6fda4b85eb5a5",
       "version_major": 2,
       "version_minor": 0
      },
      "text/plain": [
       "Button(description='get DATA', style=ButtonStyle())"
      ]
     },
     "metadata": {},
     "output_type": "display_data"
    }
   ],
   "source": [
    "btn_folder = widgets.Button(description=\"get DATA\")\n",
    "btn_folder.on_click(set_all_data)\n",
    "display(btn_folder)\n",
    "\n",
    "# falls error wähle etwas im dropdown aus"
   ]
  },
  {
   "cell_type": "markdown",
   "id": "48f6b7b1",
   "metadata": {},
   "source": [
    "## Testing keyframe"
   ]
  },
  {
   "cell_type": "code",
   "execution_count": 34,
   "id": "bea01c62",
   "metadata": {},
   "outputs": [],
   "source": [
    "import new_keyframes"
   ]
  },
  {
   "cell_type": "code",
   "execution_count": 35,
   "id": "dd858857",
   "metadata": {},
   "outputs": [],
   "source": [
    "def set_keyframe_value(change):\n",
    "    global dropdown_value_keyframe\n",
    "    dropdown_value_keyframe = \"\"\n",
    "    dropdown_value_keyframe = all_keyframes[change[\"new\"]-1][0]\n",
    "    funk_name,_py = dropdown_value_keyframe.split(\".\")\n",
    "    global test_keyframe\n",
    "    test_keyframe = getattr(new_keyframes, funk_name)\n",
    "    print(f\"set dropdown_value_keyframe = {dropdown_value_keyframe}\")\n",
    "    print(f\"set test_keyframe = {funk_name}()\")"
   ]
  },
  {
   "cell_type": "code",
   "execution_count": 36,
   "id": "0f20a5e9",
   "metadata": {},
   "outputs": [
    {
     "data": {
      "application/vnd.jupyter.widget-view+json": {
       "model_id": "780730e0112b4ea197942b6cf4c16c5e",
       "version_major": 2,
       "version_minor": 0
      },
      "text/plain": [
       "Dropdown(description='select keyframe', options=(('default_pose.py', 1), ('demo.py', 2), ('new_test.py', 3), (…"
      ]
     },
     "metadata": {},
     "output_type": "display_data"
    }
   ],
   "source": [
    "if len(all_keyframes)==0:\n",
    "    set_all_keyframes()\n",
    "elif len(all_keyframes)==1:\n",
    "    funk_name, _py = all_keyframes[0][0].split(\".\")\n",
    "    test_keyframe = getattr(new_keyframes, funk_name)\n",
    "    \n",
    "\n",
    "dropdown_keyframe = widgets.Dropdown(\n",
    "        options = all_keyframes,\n",
    "        value = 1,\n",
    "        description = 'select keyframe')\n",
    "dropdown_keyframe.observe(set_keyframe_value, names='value')\n",
    "display(dropdown_keyframe)"
   ]
  },
  {
   "cell_type": "code",
   "execution_count": 37,
   "id": "b7ca8326",
   "metadata": {},
   "outputs": [],
   "source": [
    "#test_keyframe()"
   ]
  },
  {
   "cell_type": "code",
   "execution_count": 38,
   "id": "70a9db93",
   "metadata": {},
   "outputs": [
    {
     "ename": "TypeError",
     "evalue": "'NoneType' object is not callable",
     "output_type": "error",
     "traceback": [
      "\u001B[1;31m---------------------------------------------------------------------------\u001B[0m",
      "\u001B[1;31mTypeError\u001B[0m                                 Traceback (most recent call last)",
      "\u001B[1;32m<ipython-input-38-2eea25de3eb6>\u001B[0m in \u001B[0;36m<module>\u001B[1;34m\u001B[0m\n\u001B[0;32m      1\u001B[0m \u001B[0magent\u001B[0m\u001B[1;33m.\u001B[0m\u001B[0mkeyframes\u001B[0m \u001B[1;33m=\u001B[0m \u001B[1;33m(\u001B[0m\u001B[1;33m[\u001B[0m\u001B[1;33m]\u001B[0m\u001B[1;33m,\u001B[0m\u001B[1;33m[\u001B[0m\u001B[1;33m]\u001B[0m\u001B[1;33m,\u001B[0m\u001B[1;33m[\u001B[0m\u001B[1;33m]\u001B[0m\u001B[1;33m)\u001B[0m\u001B[1;33m\u001B[0m\u001B[1;33m\u001B[0m\u001B[0m\n\u001B[1;32m----> 2\u001B[1;33m \u001B[0magent\u001B[0m\u001B[1;33m.\u001B[0m\u001B[0mkeyframes\u001B[0m \u001B[1;33m=\u001B[0m \u001B[0mtest_keyframe\u001B[0m\u001B[1;33m(\u001B[0m\u001B[1;33m)\u001B[0m\u001B[1;33m\u001B[0m\u001B[1;33m\u001B[0m\u001B[0m\n\u001B[0m\u001B[0;32m      3\u001B[0m \u001B[1;31m#agent.keyframes = hello()\u001B[0m\u001B[1;33m\u001B[0m\u001B[1;33m\u001B[0m\u001B[1;33m\u001B[0m\u001B[0m\n",
      "\u001B[1;31mTypeError\u001B[0m: 'NoneType' object is not callable"
     ]
    }
   ],
   "source": [
    "agent.keyframes = ([],[],[])\n",
    "agent.keyframes = test_keyframe()\n",
    "#agent.keyframes = hello()"
   ]
  },
  {
   "cell_type": "code",
   "execution_count": null,
   "id": "21c2f35a",
   "metadata": {},
   "outputs": [],
   "source": [
    "agent.keyframes = ([],[],[])"
   ]
  },
  {
   "cell_type": "code",
   "execution_count": null,
   "id": "ebad513c",
   "metadata": {},
   "outputs": [],
   "source": []
  },
  {
   "cell_type": "code",
   "execution_count": null,
   "id": "fec09c1a",
   "metadata": {},
   "outputs": [],
   "source": []
  },
  {
   "cell_type": "code",
   "execution_count": null,
   "id": "fc969807",
   "metadata": {},
   "outputs": [],
   "source": []
  },
  {
   "cell_type": "code",
   "execution_count": null,
   "id": "b84ae7d0",
   "metadata": {},
   "outputs": [],
   "source": []
  },
  {
   "cell_type": "code",
   "execution_count": null,
   "id": "68ec993c",
   "metadata": {},
   "outputs": [],
   "source": []
  },
  {
   "cell_type": "code",
   "execution_count": null,
   "id": "0a15a901",
   "metadata": {},
   "outputs": [],
   "source": []
  },
  {
   "cell_type": "code",
   "execution_count": null,
   "id": "37ade735",
   "metadata": {},
   "outputs": [],
   "source": []
  },
  {
   "cell_type": "code",
   "execution_count": null,
   "id": "884b1ec6",
   "metadata": {},
   "outputs": [],
   "source": []
  },
  {
   "cell_type": "code",
   "execution_count": null,
   "id": "228e570b",
   "metadata": {},
   "outputs": [],
   "source": []
  },
  {
   "cell_type": "code",
   "execution_count": null,
   "id": "9926a036",
   "metadata": {},
   "outputs": [],
   "source": []
  },
  {
   "cell_type": "code",
   "execution_count": null,
   "id": "97449d26",
   "metadata": {},
   "outputs": [],
   "source": []
  }
 ],
 "metadata": {
  "kernelspec": {
   "display_name": "Python 3",
   "language": "python",
   "name": "python3"
  },
  "language_info": {
   "codemirror_mode": {
    "name": "ipython",
    "version": 3
   },
   "file_extension": ".py",
   "mimetype": "text/x-python",
   "name": "python",
   "nbconvert_exporter": "python",
   "pygments_lexer": "ipython3",
   "version": "3.8.8"
  }
 },
 "nbformat": 4,
 "nbformat_minor": 5
}