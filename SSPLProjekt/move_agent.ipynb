{
 "cells": [
  {
   "cell_type": "markdown",
   "id": "728a092d",
   "metadata": {},
   "source": [
    "# Imports"
   ]
  },
  {
   "cell_type": "code",
   "execution_count": 57,
   "id": "67a5851b",
   "metadata": {},
   "outputs": [],
   "source": [
    "%matplotlib notebook\n",
    "import os\n",
    "import sys\n",
    "\n",
    "from matplotlib import pylab as plt\n",
    "from collections import deque\n",
    "import numpy as np\n",
    "from IPython.display import IFrame\n",
    "import ipywidgets as widgets\n",
    "import json\n",
    "from ipywidgets import interact\n",
    "\n",
    "from os import listdir\n",
    "from os.path import isfile, join"
   ]
  },
  {
   "cell_type": "code",
   "execution_count": 58,
   "id": "11d63633",
   "metadata": {},
   "outputs": [],
   "source": [
    "sys.path.append(os.path.join(os.path.abspath(os.path.dirname('__file__')), '..', 'software_installation'))\n",
    "sys.path.append(os.path.join(os.path.abspath(os.path.dirname('__file__')), '..', 'joint_control'))\n",
    "sys.path.append(os.path.join(os.path.abspath(os.path.dirname('__file__')), '..', 'distributed_computing'))\n",
    "sys.path.append(os.path.join(os.path.abspath(os.path.dirname('__file__')), '..', 'introduction'))\n",
    "sys.path.append(os.path.join(os.path.abspath(os.path.dirname('__file__')), '..', 'kinematics'))\n",
    "\n",
    "from keyframes import *"
   ]
  },
  {
   "cell_type": "code",
   "execution_count": 59,
   "id": "be35b6da",
   "metadata": {},
   "outputs": [],
   "source": [
    "from inverse_kinematics import InverseKinematicsAgent"
   ]
  },
  {
   "cell_type": "code",
   "execution_count": 60,
   "id": "7d922c78",
   "metadata": {},
   "outputs": [],
   "source": [
    "agent = InverseKinematicsAgent()\n",
    "agent.start()"
   ]
  },
  {
   "cell_type": "markdown",
   "id": "e51bbbdf",
   "metadata": {},
   "source": [
    "# Nützliche Funktionen"
   ]
  },
  {
   "cell_type": "code",
   "execution_count": 61,
   "id": "4465dc4c",
   "metadata": {},
   "outputs": [],
   "source": [
    "#agent.joint_names\n",
    "#agent.__dict__\n",
    "#dir(agent)\n",
    "#agent.target_joints\n",
    "#agent.transforms"
   ]
  },
  {
   "cell_type": "code",
   "execution_count": null,
   "id": "22a90f41",
   "metadata": {},
   "outputs": [],
   "source": []
  },
  {
   "cell_type": "code",
   "execution_count": null,
   "id": "dfbcc1e0",
   "metadata": {},
   "outputs": [],
   "source": []
  },
  {
   "cell_type": "code",
   "execution_count": 62,
   "id": "51300d13",
   "metadata": {},
   "outputs": [],
   "source": [
    "#agent.target_joints"
   ]
  },
  {
   "cell_type": "markdown",
   "id": "b2340ae8",
   "metadata": {},
   "source": [
    "## Globale Variablen"
   ]
  },
  {
   "cell_type": "code",
   "execution_count": 63,
   "id": "c11f3cfd",
   "metadata": {},
   "outputs": [],
   "source": [
    "file_name = \"\"\n",
    "time_int = 0\n",
    "time_targets = {}\n",
    "all_keyframes = []\n",
    "all_json_data = []\n",
    "dropdown_value_json = \"\"\n",
    "dropdown_value_keyframe = \"\"\n",
    "test_keyframe = None\n",
    "for key in dict.keys(agent.target_joints):\n",
    "    time_targets[key]={'keys':[],'times':[]}\n",
    "time_targets[\"LWristYaw\"] = {'keys':[],'times':[]}\n",
    "time_targets[\"LHand\"] = {'keys':[],'times':[]}\n",
    "time_targets[\"RWristYaw\"] = {'keys':[],'times':[]}\n",
    "time_targets[\"RHand\"] = {'keys':[],'times':[]}\n",
    "#time_targets[\"LHand\"] = {'keys':[],'times':[]}\n",
    "#time_targets['Time'] = []"
   ]
  },
  {
   "cell_type": "markdown",
   "id": "71924885",
   "metadata": {},
   "source": [
    "## GUI Funktionen"
   ]
  },
  {
   "cell_type": "code",
   "execution_count": 64,
   "id": "51be21e4",
   "metadata": {},
   "outputs": [],
   "source": [
    "# updatet die vom Slider gesetzten Werte beim agent\n",
    "def set_joint_target(value, joint):\n",
    "    agent.target_joints[joint] = value\n",
    "    sliders = value    \n",
    "\n",
    "# schreibt die Daten aus time_targets in eine json File\n",
    "def save_Data(b):\n",
    "    global fiel_name\n",
    "    with open(f'Data/{file_name}.json', 'w') as outfile:\n",
    "        data = {}\n",
    "        json.dump(time_targets, outfile)\n",
    "    global fiel_name\n",
    "    with output:\n",
    "        print(f'{file_name}.json generated')\n",
    "\n",
    "#  setzt den input von File Name auf fiele_name\n",
    "def set_FileName(change):\n",
    "    with output2:\n",
    "        global file_name\n",
    "        file_name = change['new']\n",
    "\n",
    "# setzt time_int auf die eingegebene Zeit\n",
    "def set_time(change):\n",
    "    with output3:\n",
    "        global time_int\n",
    "        time_int = int(change['new'])\n",
    "\n",
    "# addet die die Werte von target_joints an time_targets\n",
    "def add_list(b):\n",
    "    global time_int\n",
    "    #time_targets['Time'].append(time_int) \n",
    "    for key in dict.keys(time_targets):\n",
    "        try:\n",
    "            time_targets[key]['keys'].append([float(agent.target_joints[key]),[0,1,2],[0,1,2]])\n",
    "            time_targets[key]['times'].append(float(time_int))\n",
    "        except:\n",
    "            time_targets[key]['keys'].append([0,[0,1,2],[0,1,2]])\n",
    "            time_targets[key]['times'].append(float(time_int))           \n",
    "    "
   ]
  },
  {
   "cell_type": "code",
   "execution_count": null,
   "id": "b0e3abe6",
   "metadata": {},
   "outputs": [],
   "source": []
  },
  {
   "cell_type": "markdown",
   "id": "561b4298",
   "metadata": {},
   "source": [
    "## GUI Elemente"
   ]
  },
  {
   "cell_type": "code",
   "execution_count": 65,
   "id": "02aca955",
   "metadata": {
    "scrolled": false
   },
   "outputs": [
    {
     "data": {
      "application/vnd.jupyter.widget-view+json": {
       "model_id": "42698232f63e443e9107f0a1250a2686",
       "version_major": 2,
       "version_minor": 0
      },
      "text/plain": [
       "interactive(children=(FloatSlider(value=0.0, description='HeadYaw', max=1.0, min=-1.0, step=0.01), Text(value=…"
      ]
     },
     "metadata": {},
     "output_type": "display_data"
    },
    {
     "data": {
      "application/vnd.jupyter.widget-view+json": {
       "model_id": "73df388537bf410190d3e1f7984f331a",
       "version_major": 2,
       "version_minor": 0
      },
      "text/plain": [
       "interactive(children=(FloatSlider(value=0.0, description='HeadPitch', max=1.0, min=-1.0, step=0.01), Text(valu…"
      ]
     },
     "metadata": {},
     "output_type": "display_data"
    },
    {
     "data": {
      "application/vnd.jupyter.widget-view+json": {
       "model_id": "4dad12ffb17d4a97843a7e57b5a6b4f0",
       "version_major": 2,
       "version_minor": 0
      },
      "text/plain": [
       "interactive(children=(FloatSlider(value=0.0, description='LShoulderPitch', max=1.0, min=-1.0, step=0.01), Text…"
      ]
     },
     "metadata": {},
     "output_type": "display_data"
    },
    {
     "data": {
      "application/vnd.jupyter.widget-view+json": {
       "model_id": "be3a4e478e7548db914ab2b74bbcbe2f",
       "version_major": 2,
       "version_minor": 0
      },
      "text/plain": [
       "interactive(children=(FloatSlider(value=0.0, description='LShoulderRoll', max=1.0, min=-1.0, step=0.01), Text(…"
      ]
     },
     "metadata": {},
     "output_type": "display_data"
    },
    {
     "data": {
      "application/vnd.jupyter.widget-view+json": {
       "model_id": "96589843c18b4e56865de43c35401926",
       "version_major": 2,
       "version_minor": 0
      },
      "text/plain": [
       "interactive(children=(FloatSlider(value=0.0, description='LElbowYaw', max=1.0, min=-1.0, step=0.01), Text(valu…"
      ]
     },
     "metadata": {},
     "output_type": "display_data"
    },
    {
     "data": {
      "application/vnd.jupyter.widget-view+json": {
       "model_id": "0ef19ef864fb4449b40ea3f4e8f59469",
       "version_major": 2,
       "version_minor": 0
      },
      "text/plain": [
       "interactive(children=(FloatSlider(value=0.0, description='LElbowRoll', max=1.0, min=-1.0, step=0.01), Text(val…"
      ]
     },
     "metadata": {},
     "output_type": "display_data"
    },
    {
     "data": {
      "application/vnd.jupyter.widget-view+json": {
       "model_id": "da48938c44164afc991244002f6f081e",
       "version_major": 2,
       "version_minor": 0
      },
      "text/plain": [
       "interactive(children=(FloatSlider(value=0.0, description='LHipYawPitch', max=1.0, min=-1.0, step=0.01), Text(v…"
      ]
     },
     "metadata": {},
     "output_type": "display_data"
    },
    {
     "data": {
      "application/vnd.jupyter.widget-view+json": {
       "model_id": "0847223f4a09419a974284d40fec1c90",
       "version_major": 2,
       "version_minor": 0
      },
      "text/plain": [
       "interactive(children=(FloatSlider(value=0.0, description='LHipRoll', max=1.0, min=-1.0, step=0.01), Text(value…"
      ]
     },
     "metadata": {},
     "output_type": "display_data"
    },
    {
     "data": {
      "application/vnd.jupyter.widget-view+json": {
       "model_id": "2b7211b7eb1d4305a456844ec8c617a8",
       "version_major": 2,
       "version_minor": 0
      },
      "text/plain": [
       "interactive(children=(FloatSlider(value=0.0, description='LHipPitch', max=1.0, min=-1.0, step=0.01), Text(valu…"
      ]
     },
     "metadata": {},
     "output_type": "display_data"
    },
    {
     "data": {
      "application/vnd.jupyter.widget-view+json": {
       "model_id": "be5cd658146546f2b02f74b1907ed9e6",
       "version_major": 2,
       "version_minor": 0
      },
      "text/plain": [
       "interactive(children=(FloatSlider(value=0.0, description='LKneePitch', max=1.0, min=-1.0, step=0.01), Text(val…"
      ]
     },
     "metadata": {},
     "output_type": "display_data"
    },
    {
     "data": {
      "application/vnd.jupyter.widget-view+json": {
       "model_id": "ca3520873b4d4648a7dab32ae34f7b05",
       "version_major": 2,
       "version_minor": 0
      },
      "text/plain": [
       "interactive(children=(FloatSlider(value=0.0, description='LAnklePitch', max=1.0, min=-1.0, step=0.01), Text(va…"
      ]
     },
     "metadata": {},
     "output_type": "display_data"
    },
    {
     "data": {
      "application/vnd.jupyter.widget-view+json": {
       "model_id": "3964feb6cf1d40f0bf6b46bd31664361",
       "version_major": 2,
       "version_minor": 0
      },
      "text/plain": [
       "interactive(children=(FloatSlider(value=0.0, description='LAnkleRoll', max=1.0, min=-1.0, step=0.01), Text(val…"
      ]
     },
     "metadata": {},
     "output_type": "display_data"
    },
    {
     "data": {
      "application/vnd.jupyter.widget-view+json": {
       "model_id": "b2821d2f75924d1db93568157062dabc",
       "version_major": 2,
       "version_minor": 0
      },
      "text/plain": [
       "interactive(children=(FloatSlider(value=0.0, description='RShoulderPitch', max=1.0, min=-1.0, step=0.01), Text…"
      ]
     },
     "metadata": {},
     "output_type": "display_data"
    },
    {
     "data": {
      "application/vnd.jupyter.widget-view+json": {
       "model_id": "57baf7ba66cc4300b0bc7313d9b33fe8",
       "version_major": 2,
       "version_minor": 0
      },
      "text/plain": [
       "interactive(children=(FloatSlider(value=0.0, description='RShoulderRoll', max=1.0, min=-1.0, step=0.01), Text(…"
      ]
     },
     "metadata": {},
     "output_type": "display_data"
    },
    {
     "data": {
      "application/vnd.jupyter.widget-view+json": {
       "model_id": "946d44cec5374b18bd901c5e9df1956e",
       "version_major": 2,
       "version_minor": 0
      },
      "text/plain": [
       "interactive(children=(FloatSlider(value=0.0, description='RElbowYaw', max=1.0, min=-1.0, step=0.01), Text(valu…"
      ]
     },
     "metadata": {},
     "output_type": "display_data"
    },
    {
     "data": {
      "application/vnd.jupyter.widget-view+json": {
       "model_id": "297274c17bf944558e6902511e7158d4",
       "version_major": 2,
       "version_minor": 0
      },
      "text/plain": [
       "interactive(children=(FloatSlider(value=0.0, description='RElbowRoll', max=1.0, min=-1.0, step=0.01), Text(val…"
      ]
     },
     "metadata": {},
     "output_type": "display_data"
    },
    {
     "data": {
      "application/vnd.jupyter.widget-view+json": {
       "model_id": "919bd103abdc477bbb3b752785d334d4",
       "version_major": 2,
       "version_minor": 0
      },
      "text/plain": [
       "interactive(children=(FloatSlider(value=0.0, description='RHipYawPitch', max=1.0, min=-1.0, step=0.01), Text(v…"
      ]
     },
     "metadata": {},
     "output_type": "display_data"
    },
    {
     "data": {
      "application/vnd.jupyter.widget-view+json": {
       "model_id": "fcad36516d164d979cc11e92e333e171",
       "version_major": 2,
       "version_minor": 0
      },
      "text/plain": [
       "interactive(children=(FloatSlider(value=0.0, description='RHipRoll', max=1.0, min=-1.0, step=0.01), Text(value…"
      ]
     },
     "metadata": {},
     "output_type": "display_data"
    },
    {
     "data": {
      "application/vnd.jupyter.widget-view+json": {
       "model_id": "45253daf54d44f0590a31e43bb4dbdd2",
       "version_major": 2,
       "version_minor": 0
      },
      "text/plain": [
       "interactive(children=(FloatSlider(value=0.0, description='RHipPitch', max=1.0, min=-1.0, step=0.01), Text(valu…"
      ]
     },
     "metadata": {},
     "output_type": "display_data"
    },
    {
     "data": {
      "application/vnd.jupyter.widget-view+json": {
       "model_id": "37c7a73e61d9449fb4fd2b975d200ac1",
       "version_major": 2,
       "version_minor": 0
      },
      "text/plain": [
       "interactive(children=(FloatSlider(value=0.0, description='RKneePitch', max=1.0, min=-1.0, step=0.01), Text(val…"
      ]
     },
     "metadata": {},
     "output_type": "display_data"
    },
    {
     "data": {
      "application/vnd.jupyter.widget-view+json": {
       "model_id": "ab6b85917c8f4c6081fb100ae04728cf",
       "version_major": 2,
       "version_minor": 0
      },
      "text/plain": [
       "interactive(children=(FloatSlider(value=0.0, description='RAnklePitch', max=1.0, min=-1.0, step=0.01), Text(va…"
      ]
     },
     "metadata": {},
     "output_type": "display_data"
    },
    {
     "data": {
      "application/vnd.jupyter.widget-view+json": {
       "model_id": "4c22f95f0f5544d1867da0fbffbb792e",
       "version_major": 2,
       "version_minor": 0
      },
      "text/plain": [
       "interactive(children=(FloatSlider(value=0.0, description='RAnkleRoll', max=1.0, min=-1.0, step=0.01), Text(val…"
      ]
     },
     "metadata": {},
     "output_type": "display_data"
    },
    {
     "data": {
      "application/vnd.jupyter.widget-view+json": {
       "model_id": "53a7b9b005904261964847c9457566d2",
       "version_major": 2,
       "version_minor": 0
      },
      "text/plain": [
       "Button(description='add to list', style=ButtonStyle())"
      ]
     },
     "metadata": {},
     "output_type": "display_data"
    },
    {
     "data": {
      "application/vnd.jupyter.widget-view+json": {
       "model_id": "d346a363000b429499d0f11b4f3a2322",
       "version_major": 2,
       "version_minor": 0
      },
      "text/plain": [
       "Text(value='', description='time')"
      ]
     },
     "metadata": {},
     "output_type": "display_data"
    },
    {
     "data": {
      "application/vnd.jupyter.widget-view+json": {
       "model_id": "9ebe1d6e93e8425aabe19257aeea481c",
       "version_major": 2,
       "version_minor": 0
      },
      "text/plain": [
       "Button(description='save data', style=ButtonStyle())"
      ]
     },
     "metadata": {},
     "output_type": "display_data"
    },
    {
     "data": {
      "application/vnd.jupyter.widget-view+json": {
       "model_id": "4815a536125245f192bd5ffa6a581ebe",
       "version_major": 2,
       "version_minor": 0
      },
      "text/plain": [
       "Text(value='', description='File Name')"
      ]
     },
     "metadata": {},
     "output_type": "display_data"
    },
    {
     "data": {
      "application/vnd.jupyter.widget-view+json": {
       "model_id": "0f16957ca38c423ba4ee863078ac7730",
       "version_major": 2,
       "version_minor": 0
      },
      "text/plain": [
       "Output()"
      ]
     },
     "metadata": {},
     "output_type": "display_data"
    }
   ],
   "source": [
    "# generates all slider elements\n",
    "for joint in agent.target_joints:\n",
    "    s = widgets.FloatSlider(value=0,min=-1,max=1,step=0.01,description=joint)\n",
    "    t = interact(set_joint_target, value=s, joint=joint)\n",
    "    \n",
    "# input \"File Name\" text field\n",
    "text = widgets.Text(description=\"File Name\")\n",
    "output2 = widgets.Output()\n",
    "text.observe(set_FileName, names='value')\n",
    " \n",
    "# save button\n",
    "btn_save = widgets.Button(description=\"save data\")\n",
    "output = widgets.Output()\n",
    "btn_save.on_click(save_Data)\n",
    "\n",
    "# zeitstempel eingabe\n",
    "input_time = widgets.Text(description=\"time\")\n",
    "output3 = widgets.Output()\n",
    "input_time.observe(set_time, names='value')\n",
    "\n",
    "# add data to list\n",
    "btn_add = widgets.Button(description=\"add to list\")\n",
    "btn_add.on_click(add_list)\n",
    "\n",
    "# elemente anzeigen\n",
    "display( btn_add, input_time, btn_save, text, output)\n",
    "\n"
   ]
  },
  {
   "cell_type": "code",
   "execution_count": null,
   "id": "b7a2d4e1",
   "metadata": {},
   "outputs": [],
   "source": []
  },
  {
   "cell_type": "code",
   "execution_count": 66,
   "id": "c805af29",
   "metadata": {},
   "outputs": [
    {
     "data": {
      "text/plain": [
       "{'HeadYaw': {'keys': [], 'times': []},\n",
       " 'HeadPitch': {'keys': [], 'times': []},\n",
       " 'LShoulderPitch': {'keys': [], 'times': []},\n",
       " 'LShoulderRoll': {'keys': [], 'times': []},\n",
       " 'LElbowYaw': {'keys': [], 'times': []},\n",
       " 'LElbowRoll': {'keys': [], 'times': []},\n",
       " 'LHipYawPitch': {'keys': [], 'times': []},\n",
       " 'LHipRoll': {'keys': [], 'times': []},\n",
       " 'LHipPitch': {'keys': [], 'times': []},\n",
       " 'LKneePitch': {'keys': [], 'times': []},\n",
       " 'LAnklePitch': {'keys': [], 'times': []},\n",
       " 'LAnkleRoll': {'keys': [], 'times': []},\n",
       " 'RShoulderPitch': {'keys': [], 'times': []},\n",
       " 'RShoulderRoll': {'keys': [], 'times': []},\n",
       " 'RElbowYaw': {'keys': [], 'times': []},\n",
       " 'RElbowRoll': {'keys': [], 'times': []},\n",
       " 'RHipYawPitch': {'keys': [], 'times': []},\n",
       " 'RHipRoll': {'keys': [], 'times': []},\n",
       " 'RHipPitch': {'keys': [], 'times': []},\n",
       " 'RKneePitch': {'keys': [], 'times': []},\n",
       " 'RAnklePitch': {'keys': [], 'times': []},\n",
       " 'RAnkleRoll': {'keys': [], 'times': []},\n",
       " 'LWristYaw': {'keys': [], 'times': []},\n",
       " 'LHand': {'keys': [], 'times': []},\n",
       " 'RWristYaw': {'keys': [], 'times': []},\n",
       " 'RHand': {'keys': [], 'times': []}}"
      ]
     },
     "execution_count": 66,
     "metadata": {},
     "output_type": "execute_result"
    }
   ],
   "source": [
    "#agent.perception.__dict__\n",
    "time_targets"
   ]
  },
  {
   "cell_type": "code",
   "execution_count": 67,
   "id": "7a4fd89e",
   "metadata": {},
   "outputs": [
    {
     "data": {
      "application/vnd.jupyter.widget-view+json": {
       "model_id": "478be95fd9da42a29a78865c9beb8d3c",
       "version_major": 2,
       "version_minor": 0
      },
      "text/plain": [
       "Button(description='start', style=ButtonStyle())"
      ]
     },
     "metadata": {},
     "output_type": "display_data"
    },
    {
     "data": {
      "application/vnd.jupyter.widget-view+json": {
       "model_id": "e0b84564b31845c0bd0bd48abfd288b8",
       "version_major": 2,
       "version_minor": 0
      },
      "text/plain": [
       "Button(description='stop', style=ButtonStyle())"
      ]
     },
     "metadata": {},
     "output_type": "display_data"
    }
   ],
   "source": [
    "def start_frame(b):\n",
    "    agent.keyframes = rightBackToStand()\n",
    "\n",
    "def stop_frame(b):\n",
    "    agent.keyframes = ([],[],[])\n",
    "\n",
    "btn_start = widgets.Button(description=\"start\")\n",
    "btn_start.on_click(start_frame)\n",
    "\n",
    "btn_stop = widgets.Button(description=\"stop\")\n",
    "btn_stop.on_click(stop_frame)\n",
    "\n",
    "display(btn_start, btn_stop)"
   ]
  },
  {
   "cell_type": "code",
   "execution_count": null,
   "id": "166b761e",
   "metadata": {},
   "outputs": [],
   "source": []
  },
  {
   "cell_type": "markdown",
   "id": "a6259e5c",
   "metadata": {},
   "source": [
    "## generate keyframe form JSON"
   ]
  },
  {
   "cell_type": "code",
   "execution_count": null,
   "id": "39744c1b",
   "metadata": {},
   "outputs": [],
   "source": []
  },
  {
   "cell_type": "code",
   "execution_count": 68,
   "id": "c174fe7f",
   "metadata": {},
   "outputs": [],
   "source": [
    "# add all elements to dropdown\n",
    "def set_all_keyframes():\n",
    "    dir_list=listdir('./new_keyframes')\n",
    "    global all_keyframes\n",
    "    all_keyframes = []\n",
    "    c=1\n",
    "    for i in dir_list:\n",
    "        if \".py\" in i and i != \"__init__.py\":\n",
    "            all_keyframes.append((i,c))\n",
    "            c = c+1\n",
    "    \n",
    "    \n",
    "def set_dropdown_value(change):\n",
    "    global dropdown_value_json\n",
    "    dropdown_value_json = \"\"\n",
    "    dropdown_value_json = all_json_data[change[\"new\"]-1][0]\n",
    "\n",
    "# add all elements to dropdown\n",
    "def set_all_data(b):\n",
    "    dir_list=listdir('./Data')\n",
    "    global all_json_data\n",
    "    all_json_data = []\n",
    "    c=1\n",
    "    for i in dir_list:\n",
    "        if \".json\" in i:\n",
    "            all_json_data.append((i,c))\n",
    "            c = c+1\n",
    "    # dropdown\n",
    "    dropdown = widgets.Dropdown(\n",
    "        options = all_json_data,\n",
    "        value = 1,\n",
    "        description = 'json Data')\n",
    "    output4 = widgets.Output()\n",
    "    dropdown.observe(set_dropdown_value, names='value')\n",
    "    display(dropdown)\n",
    "    if len(all_json_data)==1:\n",
    "        global dropdown_value_json\n",
    "        dropdown_value_json = all_json_data[0][0]\n",
    "        \n",
    "    \n",
    "    # generate btn\n",
    "    btn_generate = widgets.Button(description=\"generate keyframe\")\n",
    "    output_g = widgets.Output()\n",
    "    btn_generate.on_click(keyframe_from_JSON)\n",
    "    display(btn_generate)\n",
    "            \n",
    "            \n",
    "# generate keyFrame from json File\n",
    "def keyframe_from_JSON(b):\n",
    "    global dropdown_value_json\n",
    "    #print(dropdown_value_json)\n",
    "    file_name_json = dropdown_value_json\n",
    "    with open(f\"Data/{file_name_json}\") as jsonFile:\n",
    "        jsonObject = json.load(jsonFile)\n",
    "        jsonFile.close()\n",
    "        \n",
    "    name,_json = file_name_json.split(\".\") \n",
    "    f = open(f'new_keyframes/{name}.py', 'w')\n",
    "    f.write(f\"def {name}():\\n\\tnames = list()\\n\\ttimes = list()\\n\\tkeys = list() \")\n",
    "    times = \"times\"\n",
    "    keys = \"keys\"\n",
    "    #print(jsonObject)\n",
    "    for key in dict.keys(jsonObject):\n",
    "        if key != \"Time\":\n",
    "            f.write(f\"\\n\\n\\tnames.append('{key}')\")\n",
    "            f.write(f\"\\n\\ttimes.append({jsonObject[key][times]})\")\n",
    "            f.write(f\"\\n\\tkeys.append({jsonObject[key][keys]})\")\n",
    "    f.write(\"\\n\\treturn names, times, keys\")\n",
    "    f.close()\n",
    "    f = open(f'new_keyframes/__init__.py', 'a')\n",
    "    f.write(f\"\\nfrom .{name} import {name}\")\n",
    "    set_all_keyframes()\n",
    "    \n",
    "                        "
   ]
  },
  {
   "cell_type": "code",
   "execution_count": 69,
   "id": "2c094776",
   "metadata": {},
   "outputs": [
    {
     "data": {
      "application/vnd.jupyter.widget-view+json": {
       "model_id": "6b1a7d962bde48078a75746bf9742a6a",
       "version_major": 2,
       "version_minor": 0
      },
      "text/plain": [
       "Button(description='get DATA', style=ButtonStyle())"
      ]
     },
     "metadata": {},
     "output_type": "display_data"
    }
   ],
   "source": [
    "btn_folder = widgets.Button(description=\"get DATA\")\n",
    "btn_folder.on_click(set_all_data)\n",
    "display(btn_folder)\n",
    "\n",
    "# falls error wähle etwas im dropdown aus"
   ]
  },
  {
   "cell_type": "markdown",
   "id": "ada7e143",
   "metadata": {},
   "source": [
    "## Testing keyframe"
   ]
  },
  {
   "cell_type": "code",
   "execution_count": 70,
   "id": "ef9da498",
   "metadata": {},
   "outputs": [],
   "source": [
    "import new_keyframes"
   ]
  },
  {
   "cell_type": "code",
   "execution_count": 71,
   "id": "cb85f0a4",
   "metadata": {},
   "outputs": [],
   "source": [
    "def set_keyframe_value(change):\n",
    "    global dropdown_value_keyframe\n",
    "    dropdown_value_keyframe = \"\"\n",
    "    dropdown_value_keyframe = all_keyframes[change[\"new\"]-1][0]\n",
    "    funk_name,_py = dropdown_value_keyframe.split(\".\")\n",
    "    global test_keyframe\n",
    "    test_keyframe = getattr(new_keyframes, funk_name)\n",
    "    print(f\"set dropdown_value_keyframe = {dropdown_value_keyframe}\")\n",
    "    print(f\"set test_keyframe = {funk_name}()\")"
   ]
  },
  {
   "cell_type": "code",
   "execution_count": 72,
   "id": "6df6fd5e",
   "metadata": {},
   "outputs": [
    {
     "data": {
      "application/vnd.jupyter.widget-view+json": {
       "model_id": "0b5c4849bf0044dfb3db324ab05d3884",
       "version_major": 2,
       "version_minor": 0
      },
      "text/plain": [
       "Dropdown(description='select keyframe', options=(('default_pose.py', 1), ('demo.py', 2), ('new_test.py', 3), (…"
      ]
     },
     "metadata": {},
     "output_type": "display_data"
    }
   ],
   "source": [
    "if len(all_keyframes)==0:\n",
    "    set_all_keyframes()\n",
    "elif len(all_keyframes)==1:\n",
    "    funk_name, _py = all_keyframes[0][0].split(\".\")\n",
    "    test_keyframe = getattr(new_keyframes, funk_name)\n",
    "    \n",
    "\n",
    "dropdown_keyframe = widgets.Dropdown(\n",
    "        options = all_keyframes,\n",
    "        value = 1,\n",
    "        description = 'select keyframe')\n",
    "dropdown_keyframe.observe(set_keyframe_value, names='value')\n",
    "display(dropdown_keyframe)"
   ]
  },
  {
   "cell_type": "code",
   "execution_count": 73,
   "id": "6ffd3ba4",
   "metadata": {},
   "outputs": [],
   "source": [
    "#test_keyframe()"
   ]
  },
  {
   "cell_type": "code",
   "execution_count": 74,
   "id": "0fd47720",
   "metadata": {},
   "outputs": [
    {
     "ename": "TypeError",
     "evalue": "'NoneType' object is not callable",
     "output_type": "error",
     "traceback": [
      "\u001b[1;31m---------------------------------------------------------------------------\u001b[0m",
      "\u001b[1;31mTypeError\u001b[0m                                 Traceback (most recent call last)",
      "\u001b[1;32m<ipython-input-74-ff7a8c0c9b20>\u001b[0m in \u001b[0;36m<module>\u001b[1;34m\u001b[0m\n\u001b[0;32m      1\u001b[0m \u001b[0magent\u001b[0m\u001b[1;33m.\u001b[0m\u001b[0mkeyframes\u001b[0m \u001b[1;33m=\u001b[0m \u001b[1;33m(\u001b[0m\u001b[1;33m[\u001b[0m\u001b[1;33m]\u001b[0m\u001b[1;33m,\u001b[0m\u001b[1;33m[\u001b[0m\u001b[1;33m]\u001b[0m\u001b[1;33m,\u001b[0m\u001b[1;33m[\u001b[0m\u001b[1;33m]\u001b[0m\u001b[1;33m)\u001b[0m\u001b[1;33m\u001b[0m\u001b[1;33m\u001b[0m\u001b[0m\n\u001b[1;32m----> 2\u001b[1;33m \u001b[0magent\u001b[0m\u001b[1;33m.\u001b[0m\u001b[0mkeyframes\u001b[0m \u001b[1;33m=\u001b[0m \u001b[0mtest_keyframe\u001b[0m\u001b[1;33m(\u001b[0m\u001b[1;33m)\u001b[0m\u001b[1;33m\u001b[0m\u001b[1;33m\u001b[0m\u001b[0m\n\u001b[0m",
      "\u001b[1;31mTypeError\u001b[0m: 'NoneType' object is not callable"
     ]
    }
   ],
   "source": [
    "agent.keyframes = ([],[],[])\n",
    "agent.keyframes = test_keyframe()"
   ]
  },
  {
   "cell_type": "code",
   "execution_count": null,
   "id": "9722df0c",
   "metadata": {},
   "outputs": [],
   "source": []
  },
  {
   "cell_type": "code",
   "execution_count": null,
   "id": "db2f2969",
   "metadata": {},
   "outputs": [],
   "source": []
  },
  {
   "cell_type": "code",
   "execution_count": null,
   "id": "b1006472",
   "metadata": {},
   "outputs": [],
   "source": []
  },
  {
   "cell_type": "code",
   "execution_count": null,
   "id": "521959c7",
   "metadata": {},
   "outputs": [],
   "source": []
  },
  {
   "cell_type": "code",
   "execution_count": null,
   "id": "79af3b79",
   "metadata": {},
   "outputs": [],
   "source": []
  },
  {
   "cell_type": "code",
   "execution_count": null,
   "id": "a2028541",
   "metadata": {},
   "outputs": [],
   "source": []
  },
  {
   "cell_type": "code",
   "execution_count": null,
   "id": "c21fc720",
   "metadata": {},
   "outputs": [],
   "source": []
  },
  {
   "cell_type": "code",
   "execution_count": null,
   "id": "6628538c",
   "metadata": {},
   "outputs": [],
   "source": []
  },
  {
   "cell_type": "code",
   "execution_count": null,
   "id": "49505c58",
   "metadata": {},
   "outputs": [],
   "source": []
  },
  {
   "cell_type": "code",
   "execution_count": null,
   "id": "d24fb537",
   "metadata": {},
   "outputs": [],
   "source": []
  },
  {
   "cell_type": "code",
   "execution_count": null,
   "id": "9bc0ebc3",
   "metadata": {},
   "outputs": [],
   "source": []
  },
  {
   "cell_type": "code",
   "execution_count": null,
   "id": "8f347c85",
   "metadata": {},
   "outputs": [],
   "source": []
  }
 ],
 "metadata": {
  "kernelspec": {
   "display_name": "Python 3",
   "language": "python",
   "name": "python3"
  },
  "language_info": {
   "codemirror_mode": {
    "name": "ipython",
    "version": 3
   },
   "file_extension": ".py",
   "mimetype": "text/x-python",
   "name": "python",
   "nbconvert_exporter": "python",
   "pygments_lexer": "ipython3",
   "version": "3.9.4"
  }
 },
 "nbformat": 4,
 "nbformat_minor": 5
}
