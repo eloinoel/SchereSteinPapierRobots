{
 "cells": [
  {
   "cell_type": "markdown",
   "id": "728a092d",
   "metadata": {},
   "source": [
    "# Imports"
   ]
  },
  {
   "cell_type": "code",
   "execution_count": 1,
   "id": "67a5851b",
   "metadata": {},
   "outputs": [],
   "source": [
    "%matplotlib notebook\n",
    "import os\n",
    "import sys\n",
    "\n",
    "from matplotlib import pylab as plt\n",
    "from collections import deque\n",
    "import numpy as np\n",
    "from IPython.display import IFrame\n",
    "import ipywidgets as widgets\n",
    "import json\n",
    "from ipywidgets import interact\n",
    "\n",
    "from os import listdir\n",
    "from os.path import isfile, join"
   ]
  },
  {
   "cell_type": "code",
   "execution_count": 2,
   "id": "11d63633",
   "metadata": {},
   "outputs": [],
   "source": [
    "sys.path.append(os.path.join(os.path.abspath(os.path.dirname('__file__')), '..', 'software_installation'))\n",
    "sys.path.append(os.path.join(os.path.abspath(os.path.dirname('__file__')), '..', 'joint_control'))\n",
    "sys.path.append(os.path.join(os.path.abspath(os.path.dirname('__file__')), '..', 'distributed_computing'))\n",
    "sys.path.append(os.path.join(os.path.abspath(os.path.dirname('__file__')), '..', 'introduction'))\n",
    "sys.path.append(os.path.join(os.path.abspath(os.path.dirname('__file__')), '..', 'kinematics'))\n",
    "\n",
    "from keyframes import *"
   ]
  },
  {
   "cell_type": "code",
   "execution_count": 3,
   "id": "be35b6da",
   "metadata": {},
   "outputs": [],
   "source": [
    "from inverse_kinematics import InverseKinematicsAgent"
   ]
  },
  {
   "cell_type": "code",
   "execution_count": 4,
   "id": "7d922c78",
   "metadata": {},
   "outputs": [],
   "source": [
    "agent = InverseKinematicsAgent()\n",
    "agent.start()"
   ]
  },
  {
   "cell_type": "markdown",
   "id": "e51bbbdf",
   "metadata": {},
   "source": [
    "# Nützliche Funktionen"
   ]
  },
  {
   "cell_type": "code",
   "execution_count": 5,
   "id": "4465dc4c",
   "metadata": {},
   "outputs": [],
   "source": [
    "#agent.joint_names\n",
    "#agent.__dict__\n",
    "#dir(agent)\n",
    "#agent.target_joints\n",
    "#agent.transforms"
   ]
  },
  {
   "cell_type": "code",
   "execution_count": null,
   "id": "22a90f41",
   "metadata": {},
   "outputs": [],
   "source": []
  },
  {
   "cell_type": "code",
   "execution_count": 28,
   "id": "dfbcc1e0",
   "metadata": {},
   "outputs": [],
   "source": []
  },
  {
   "cell_type": "code",
   "execution_count": 70,
   "id": "51300d13",
   "metadata": {},
   "outputs": [],
   "source": [
    "#agent.target_joints"
   ]
  },
  {
   "cell_type": "markdown",
   "id": "b2340ae8",
   "metadata": {},
   "source": [
    "## Globale Variablen"
   ]
  },
  {
   "cell_type": "code",
   "execution_count": 5,
   "id": "c11f3cfd",
   "metadata": {},
   "outputs": [],
   "source": [
    "file_name = \"\"\n",
    "time_int = 0\n",
    "time_targets = {}\n",
    "all_keyframes = []\n",
    "all_json_data = []\n",
    "dropdown_value_json = \"\"\n",
    "dropdown_value_keyframe = \"\"\n",
    "test_keyframe = None\n",
    "for key in dict.keys(agent.target_joints):\n",
    "    time_targets[key]={'keys':[],'times':[]}\n",
    "time_targets[\"LWristYaw\"] = {'keys':[],'times':[]}\n",
    "time_targets[\"LHand\"] = {'keys':[],'times':[]}\n",
    "time_targets[\"RWristYaw\"] = {'keys':[],'times':[]}\n",
    "time_targets[\"RHand\"] = {'keys':[],'times':[]}\n",
    "#time_targets[\"LHand\"] = {'keys':[],'times':[]}\n",
    "#time_targets['Time'] = []"
   ]
  },
  {
   "cell_type": "markdown",
   "id": "71924885",
   "metadata": {},
   "source": [
    "## GUI Funktionen"
   ]
  },
  {
   "cell_type": "code",
   "execution_count": 6,
   "id": "51be21e4",
   "metadata": {},
   "outputs": [],
   "source": [
    "# updatet die vom Slider gesetzten Werte beim agent\n",
    "def set_joint_target(value, joint):\n",
    "    agent.target_joints[joint] = value\n",
    "    sliders = value    \n",
    "\n",
    "# schreibt die Daten aus time_targets in eine json File\n",
    "def save_Data(b):\n",
    "    global fiel_name\n",
    "    with open(f'Data/{file_name}.json', 'w') as outfile:\n",
    "        data = {}\n",
    "        json.dump(time_targets, outfile)\n",
    "    global fiel_name\n",
    "    with output:\n",
    "        print(f'{file_name}.json generated')\n",
    "\n",
    "#  setzt den input von File Name auf fiele_name\n",
    "def set_FileName(change):\n",
    "    with output2:\n",
    "        global file_name\n",
    "        file_name = change['new']\n",
    "\n",
    "# setzt time_int auf die eingegebene Zeit\n",
    "def set_time(change):\n",
    "    with output3:\n",
    "        global time_int\n",
    "        time_int = int(change['new'])\n",
    "\n",
    "# addet die die Werte von target_joints an time_targets\n",
    "def add_list(b):\n",
    "    global time_int\n",
    "    #time_targets['Time'].append(time_int) \n",
    "    for key in dict.keys(agent.target_joints):\n",
    "            time_targets[key]['keys'].append([float(agent.target_joints[key]),[0,1,2],[0,1,2]])\n",
    "            time_targets[key]['times'].append(float(time_int))\n",
    "            \n",
    "    "
   ]
  },
  {
   "cell_type": "code",
   "execution_count": null,
   "id": "b0e3abe6",
   "metadata": {},
   "outputs": [],
   "source": []
  },
  {
   "cell_type": "markdown",
   "id": "561b4298",
   "metadata": {},
   "source": [
    "## GUI Elemente"
   ]
  },
  {
   "cell_type": "code",
   "execution_count": 7,
   "id": "02aca955",
   "metadata": {},
   "outputs": [
    {
     "data": {
      "application/vnd.jupyter.widget-view+json": {
       "model_id": "e3f64513b12f4fc8934f96399067564a",
       "version_major": 2,
       "version_minor": 0
      },
      "text/plain": [
       "interactive(children=(FloatSlider(value=0.0, description='HeadYaw', max=1.0, min=-1.0, step=0.01), Text(value=…"
      ]
     },
     "metadata": {},
     "output_type": "display_data"
    },
    {
     "data": {
      "application/vnd.jupyter.widget-view+json": {
       "model_id": "6691ecff4ff343e0bca6200e9c658cd2",
       "version_major": 2,
       "version_minor": 0
      },
      "text/plain": [
       "interactive(children=(FloatSlider(value=0.0, description='HeadPitch', max=1.0, min=-1.0, step=0.01), Text(valu…"
      ]
     },
     "metadata": {},
     "output_type": "display_data"
    },
    {
     "data": {
      "application/vnd.jupyter.widget-view+json": {
       "model_id": "1d4f4ddf71d4400c81d9f5ad54b5b454",
       "version_major": 2,
       "version_minor": 0
      },
      "text/plain": [
       "interactive(children=(FloatSlider(value=0.0, description='LShoulderPitch', max=1.0, min=-1.0, step=0.01), Text…"
      ]
     },
     "metadata": {},
     "output_type": "display_data"
    },
    {
     "data": {
      "application/vnd.jupyter.widget-view+json": {
       "model_id": "f5aac0409e30459b9fc3211fa72a8b1c",
       "version_major": 2,
       "version_minor": 0
      },
      "text/plain": [
       "interactive(children=(FloatSlider(value=0.0, description='LShoulderRoll', max=1.0, min=-1.0, step=0.01), Text(…"
      ]
     },
     "metadata": {},
     "output_type": "display_data"
    },
    {
     "data": {
      "application/vnd.jupyter.widget-view+json": {
       "model_id": "ad7ce18d24974649802e7e67205a8712",
       "version_major": 2,
       "version_minor": 0
      },
      "text/plain": [
       "interactive(children=(FloatSlider(value=0.0, description='LElbowYaw', max=1.0, min=-1.0, step=0.01), Text(valu…"
      ]
     },
     "metadata": {},
     "output_type": "display_data"
    },
    {
     "data": {
      "application/vnd.jupyter.widget-view+json": {
       "model_id": "c261fe16a0284559a5961caed934aa8a",
       "version_major": 2,
       "version_minor": 0
      },
      "text/plain": [
       "interactive(children=(FloatSlider(value=0.0, description='LElbowRoll', max=1.0, min=-1.0, step=0.01), Text(val…"
      ]
     },
     "metadata": {},
     "output_type": "display_data"
    },
    {
     "data": {
      "application/vnd.jupyter.widget-view+json": {
       "model_id": "3d9d36358abf4de58baba8d663596aa4",
       "version_major": 2,
       "version_minor": 0
      },
      "text/plain": [
       "interactive(children=(FloatSlider(value=0.0, description='LHipYawPitch', max=1.0, min=-1.0, step=0.01), Text(v…"
      ]
     },
     "metadata": {},
     "output_type": "display_data"
    },
    {
     "data": {
      "application/vnd.jupyter.widget-view+json": {
       "model_id": "e96d9860370d41ecac7607b5a4051d21",
       "version_major": 2,
       "version_minor": 0
      },
      "text/plain": [
       "interactive(children=(FloatSlider(value=0.0, description='LHipRoll', max=1.0, min=-1.0, step=0.01), Text(value…"
      ]
     },
     "metadata": {},
     "output_type": "display_data"
    },
    {
     "data": {
      "application/vnd.jupyter.widget-view+json": {
       "model_id": "8769d1414cea4a56bba17e47a6bfc540",
       "version_major": 2,
       "version_minor": 0
      },
      "text/plain": [
       "interactive(children=(FloatSlider(value=0.0, description='LHipPitch', max=1.0, min=-1.0, step=0.01), Text(valu…"
      ]
     },
     "metadata": {},
     "output_type": "display_data"
    },
    {
     "data": {
      "application/vnd.jupyter.widget-view+json": {
       "model_id": "58a3a760fa0445478f221f978fa15668",
       "version_major": 2,
       "version_minor": 0
      },
      "text/plain": [
       "interactive(children=(FloatSlider(value=0.0, description='LKneePitch', max=1.0, min=-1.0, step=0.01), Text(val…"
      ]
     },
     "metadata": {},
     "output_type": "display_data"
    },
    {
     "data": {
      "application/vnd.jupyter.widget-view+json": {
       "model_id": "f400ece4a04d48f18e79043420e454e9",
       "version_major": 2,
       "version_minor": 0
      },
      "text/plain": [
       "interactive(children=(FloatSlider(value=0.0, description='LAnklePitch', max=1.0, min=-1.0, step=0.01), Text(va…"
      ]
     },
     "metadata": {},
     "output_type": "display_data"
    },
    {
     "data": {
      "application/vnd.jupyter.widget-view+json": {
       "model_id": "5131545b581344469807f3fc07a882c6",
       "version_major": 2,
       "version_minor": 0
      },
      "text/plain": [
       "interactive(children=(FloatSlider(value=0.0, description='LAnkleRoll', max=1.0, min=-1.0, step=0.01), Text(val…"
      ]
     },
     "metadata": {},
     "output_type": "display_data"
    },
    {
     "data": {
      "application/vnd.jupyter.widget-view+json": {
       "model_id": "71f1c632fd2948b1ada61e9edacc66f2",
       "version_major": 2,
       "version_minor": 0
      },
      "text/plain": [
       "interactive(children=(FloatSlider(value=0.0, description='RShoulderPitch', max=1.0, min=-1.0, step=0.01), Text…"
      ]
     },
     "metadata": {},
     "output_type": "display_data"
    },
    {
     "data": {
      "application/vnd.jupyter.widget-view+json": {
       "model_id": "042cc93e4d784fe0bf01ac409d6fd6a2",
       "version_major": 2,
       "version_minor": 0
      },
      "text/plain": [
       "interactive(children=(FloatSlider(value=0.0, description='RShoulderRoll', max=1.0, min=-1.0, step=0.01), Text(…"
      ]
     },
     "metadata": {},
     "output_type": "display_data"
    },
    {
     "data": {
      "application/vnd.jupyter.widget-view+json": {
       "model_id": "8d6568a8a5674b17bd10e00e640b3e8c",
       "version_major": 2,
       "version_minor": 0
      },
      "text/plain": [
       "interactive(children=(FloatSlider(value=0.0, description='RElbowYaw', max=1.0, min=-1.0, step=0.01), Text(valu…"
      ]
     },
     "metadata": {},
     "output_type": "display_data"
    },
    {
     "data": {
      "application/vnd.jupyter.widget-view+json": {
       "model_id": "316a0d05a4c54d56805d73877a448ff6",
       "version_major": 2,
       "version_minor": 0
      },
      "text/plain": [
       "interactive(children=(FloatSlider(value=0.0, description='RElbowRoll', max=1.0, min=-1.0, step=0.01), Text(val…"
      ]
     },
     "metadata": {},
     "output_type": "display_data"
    },
    {
     "data": {
      "application/vnd.jupyter.widget-view+json": {
       "model_id": "63f8f802d2bf4df28adca350536b0964",
       "version_major": 2,
       "version_minor": 0
      },
      "text/plain": [
       "interactive(children=(FloatSlider(value=0.0, description='RHipYawPitch', max=1.0, min=-1.0, step=0.01), Text(v…"
      ]
     },
     "metadata": {},
     "output_type": "display_data"
    },
    {
     "data": {
      "application/vnd.jupyter.widget-view+json": {
       "model_id": "af95d83e424641a0b00e63d38c01c91d",
       "version_major": 2,
       "version_minor": 0
      },
      "text/plain": [
       "interactive(children=(FloatSlider(value=0.0, description='RHipRoll', max=1.0, min=-1.0, step=0.01), Text(value…"
      ]
     },
     "metadata": {},
     "output_type": "display_data"
    },
    {
     "data": {
      "application/vnd.jupyter.widget-view+json": {
       "model_id": "4f7681151eaf43dc94c5709d3c5d1aad",
       "version_major": 2,
       "version_minor": 0
      },
      "text/plain": [
       "interactive(children=(FloatSlider(value=0.0, description='RHipPitch', max=1.0, min=-1.0, step=0.01), Text(valu…"
      ]
     },
     "metadata": {},
     "output_type": "display_data"
    },
    {
     "data": {
      "application/vnd.jupyter.widget-view+json": {
       "model_id": "d58e6149ad364dba92f4b4f320fbc143",
       "version_major": 2,
       "version_minor": 0
      },
      "text/plain": [
       "interactive(children=(FloatSlider(value=0.0, description='RKneePitch', max=1.0, min=-1.0, step=0.01), Text(val…"
      ]
     },
     "metadata": {},
     "output_type": "display_data"
    },
    {
     "data": {
      "application/vnd.jupyter.widget-view+json": {
       "model_id": "7b8811c2853c470e88596bbc0772fdf4",
       "version_major": 2,
       "version_minor": 0
      },
      "text/plain": [
       "interactive(children=(FloatSlider(value=0.0, description='RAnklePitch', max=1.0, min=-1.0, step=0.01), Text(va…"
      ]
     },
     "metadata": {},
     "output_type": "display_data"
    },
    {
     "data": {
      "application/vnd.jupyter.widget-view+json": {
       "model_id": "c587080605f64e47b6283d8746cbc23f",
       "version_major": 2,
       "version_minor": 0
      },
      "text/plain": [
       "interactive(children=(FloatSlider(value=0.0, description='RAnkleRoll', max=1.0, min=-1.0, step=0.01), Text(val…"
      ]
     },
     "metadata": {},
     "output_type": "display_data"
    },
    {
     "data": {
      "application/vnd.jupyter.widget-view+json": {
       "model_id": "3f8a757d509c4c4999af378dabc726de",
       "version_major": 2,
       "version_minor": 0
      },
      "text/plain": [
       "Button(description='add to list', style=ButtonStyle())"
      ]
     },
     "metadata": {},
     "output_type": "display_data"
    },
    {
     "data": {
      "application/vnd.jupyter.widget-view+json": {
       "model_id": "e585654dc8e444ddb314841d07066453",
       "version_major": 2,
       "version_minor": 0
      },
      "text/plain": [
       "Text(value='', description='time')"
      ]
     },
     "metadata": {},
     "output_type": "display_data"
    },
    {
     "data": {
      "application/vnd.jupyter.widget-view+json": {
       "model_id": "91ed44eaa54245d68fba927b040b93e5",
       "version_major": 2,
       "version_minor": 0
      },
      "text/plain": [
       "Button(description='save data', style=ButtonStyle())"
      ]
     },
     "metadata": {},
     "output_type": "display_data"
    },
    {
     "data": {
      "application/vnd.jupyter.widget-view+json": {
       "model_id": "e722ec7de5e1412089e361cd9daa46eb",
       "version_major": 2,
       "version_minor": 0
      },
      "text/plain": [
       "Text(value='', description='File Name')"
      ]
     },
     "metadata": {},
     "output_type": "display_data"
    },
    {
     "data": {
      "application/vnd.jupyter.widget-view+json": {
       "model_id": "0b75b63f066549b3a9c19b1b9a6047d3",
       "version_major": 2,
       "version_minor": 0
      },
      "text/plain": [
       "Output()"
      ]
     },
     "metadata": {},
     "output_type": "display_data"
    }
   ],
   "source": [
    "# generates all slider elements\n",
    "for joint in agent.target_joints:\n",
    "    s = widgets.FloatSlider(value=0,min=-1,max=1,step=0.01,description=joint)\n",
    "    t = interact(set_joint_target, value=s, joint=joint)\n",
    "    \n",
    "# input \"File Name\" text field\n",
    "text = widgets.Text(description=\"File Name\")\n",
    "output2 = widgets.Output()\n",
    "text.observe(set_FileName, names='value')\n",
    " \n",
    "# save button\n",
    "btn_save = widgets.Button(description=\"save data\")\n",
    "output = widgets.Output()\n",
    "btn_save.on_click(save_Data)\n",
    "\n",
    "# zeitstempel eingabe\n",
    "input_time = widgets.Text(description=\"time\")\n",
    "output3 = widgets.Output()\n",
    "input_time.observe(set_time, names='value')\n",
    "\n",
    "# add data to list\n",
    "btn_add = widgets.Button(description=\"add to list\")\n",
    "btn_add.on_click(add_list)\n",
    "\n",
    "# elemente anzeigen\n",
    "display( btn_add, input_time, btn_save, text, output)\n",
    "\n"
   ]
  },
  {
   "cell_type": "code",
   "execution_count": null,
   "id": "93a7635d",
   "metadata": {},
   "outputs": [],
   "source": []
  },
  {
   "cell_type": "code",
   "execution_count": 13,
   "id": "c805af29",
   "metadata": {},
   "outputs": [
    {
     "data": {
      "text/plain": [
       "{'HeadYaw': {'keys': [[-0.02299603356696201, [0, 1, 2], [0, 1, 2]],\n",
       "   [1.7278643596177652e-15, [0, 1, 2], [0, 1, 2]],\n",
       "   [0.02495374902935369, [0, 1, 2], [0, 1, 2]],\n",
       "   [0.026086740791534342, [0, 1, 2], [0, 1, 2]]],\n",
       "  'times': [0.0, 1.0, 2.0, 3.0]},\n",
       " 'HeadPitch': {'keys': [[0.4396356532940046, [0, 1, 2], [0, 1, 2]],\n",
       "   [1.693904348669157e-14, [0, 1, 2], [0, 1, 2]],\n",
       "   [-0.16393151620392749, [0, 1, 2], [0, 1, 2]],\n",
       "   [0.30899692261632833, [0, 1, 2], [0, 1, 2]]],\n",
       "  'times': [0.0, 1.0, 2.0, 3.0]},\n",
       " 'LShoulderPitch': {'keys': [[0.7889614432910427, [0, 1, 2], [0, 1, 2]],\n",
       "   [2.0856699999999972, [0, 1, 2], [0, 1, 2]],\n",
       "   [2.0634564696752133, [0, 1, 2], [0, 1, 2]],\n",
       "   [2.0801540461125745, [0, 1, 2], [0, 1, 2]]],\n",
       "  'times': [0.0, 1.0, 2.0, 3.0]},\n",
       " 'LShoulderRoll': {'keys': [[0.42682916916825125, [0, 1, 2], [0, 1, 2]],\n",
       "   [0.3665199999999906, [0, 1, 2], [0, 1, 2]],\n",
       "   [0.33122206224225087, [0, 1, 2], [0, 1, 2]],\n",
       "   [0.09110078065108536, [0, 1, 2], [0, 1, 2]]],\n",
       "  'times': [0.0, 1.0, 2.0, 3.0]},\n",
       " 'LElbowYaw': {'keys': [[-0.019981837897021064, [0, 1, 2], [0, 1, 2]],\n",
       "   [0.15708000000000824, [0, 1, 2], [0, 1, 2]],\n",
       "   [0.1010571118457613, [0, 1, 2], [0, 1, 2]],\n",
       "   [0.19868224042197136, [0, 1, 2], [0, 1, 2]]],\n",
       "  'times': [0.0, 1.0, 2.0, 3.0]},\n",
       " 'LElbowRoll': {'keys': [[-0.7871626403399905, [0, 1, 2], [0, 1, 2]],\n",
       "   [-0.03491000000003651, [0, 1, 2], [0, 1, 2]],\n",
       "   [-1.8890509349420368, [0, 1, 2], [0, 1, 2]],\n",
       "   [-0.14072406466592363, [0, 1, 2], [0, 1, 2]]],\n",
       "  'times': [0.0, 1.0, 2.0, 3.0]},\n",
       " 'LHipYawPitch': {'keys': [[-0.39389353694704216, [0, 1, 2], [0, 1, 2]],\n",
       "   [7.660574910175037e-15, [0, 1, 2], [0, 1, 2]],\n",
       "   [0.011258730518377925, [0, 1, 2], [0, 1, 2]],\n",
       "   [-0.7529409567506554, [0, 1, 2], [0, 1, 2]]],\n",
       "  'times': [0.0, 1.0, 2.0, 3.0]},\n",
       " 'LHipRoll': {'keys': [[0.15992976456668478, [0, 1, 2], [0, 1, 2]],\n",
       "   [7.24322326345479e-16, [0, 1, 2], [0, 1, 2]],\n",
       "   [0.0574827101365083, [0, 1, 2], [0, 1, 2]],\n",
       "   [0.3996890840255579, [0, 1, 2], [0, 1, 2]]],\n",
       "  'times': [0.0, 1.0, 2.0, 3.0]},\n",
       " 'LHipPitch': {'keys': [[-0.7405987084564378, [0, 1, 2], [0, 1, 2]],\n",
       "   [-0.17452999999999358, [0, 1, 2], [0, 1, 2]],\n",
       "   [0.34741706112535187, [0, 1, 2], [0, 1, 2]],\n",
       "   [-1.52553501318919, [0, 1, 2], [0, 1, 2]]],\n",
       "  'times': [0.0, 1.0, 2.0, 3.0]},\n",
       " 'LKneePitch': {'keys': [[1.9657403141200553, [0, 1, 2], [0, 1, 2]],\n",
       "   [1.6755200000000305, [0, 1, 2], [0, 1, 2]],\n",
       "   [2.0015137328014725, [0, 1, 2], [0, 1, 2]],\n",
       "   [1.4834404230665634, [0, 1, 2], [0, 1, 2]]],\n",
       "  'times': [0.0, 1.0, 2.0, 3.0]},\n",
       " 'LAnklePitch': {'keys': [[-1.1342653814385848, [0, 1, 2], [0, 1, 2]],\n",
       "   [0.24434999999997128, [0, 1, 2], [0, 1, 2]],\n",
       "   [-0.4107704019549326, [0, 1, 2], [0, 1, 2]],\n",
       "   [0.7179399685104082, [0, 1, 2], [0, 1, 2]]],\n",
       "  'times': [0.0, 1.0, 2.0, 3.0]},\n",
       " 'LAnkleRoll': {'keys': [[0.05311174330350249, [0, 1, 2], [0, 1, 2]],\n",
       "   [-3.9981001434678844e-16, [0, 1, 2], [0, 1, 2]],\n",
       "   [-0.03388210497518755, [0, 1, 2], [0, 1, 2]],\n",
       "   [-0.010628322496471089, [0, 1, 2], [0, 1, 2]]],\n",
       "  'times': [0.0, 1.0, 2.0, 3.0]},\n",
       " 'RShoulderPitch': {'keys': [[0.9423117841559623, [0, 1, 2], [0, 1, 2]],\n",
       "   [2.0856699999999937, [0, 1, 2], [0, 1, 2]],\n",
       "   [2.0233987103865116, [0, 1, 2], [0, 1, 2]],\n",
       "   [2.085456876865275, [0, 1, 2], [0, 1, 2]]],\n",
       "  'times': [0.0, 1.0, 2.0, 3.0]},\n",
       " 'RShoulderRoll': {'keys': [[-0.5269054371167872, [0, 1, 2], [0, 1, 2]],\n",
       "   [-0.3665199999999891, [0, 1, 2], [0, 1, 2]],\n",
       "   [-0.3314650978337488, [0, 1, 2], [0, 1, 2]],\n",
       "   [-0.0795002189332353, [0, 1, 2], [0, 1, 2]]],\n",
       "  'times': [0.0, 1.0, 2.0, 3.0]},\n",
       " 'RElbowYaw': {'keys': [[0.059320784343280114, [0, 1, 2], [0, 1, 2]],\n",
       "   [-0.15708000000001338, [0, 1, 2], [0, 1, 2]],\n",
       "   [-0.1446852687024781, [0, 1, 2], [0, 1, 2]],\n",
       "   [-0.0885697680904737, [0, 1, 2], [0, 1, 2]]],\n",
       "  'times': [0.0, 1.0, 2.0, 3.0]},\n",
       " 'RElbowRoll': {'keys': [[0.5308409254280515, [0, 1, 2], [0, 1, 2]],\n",
       "   [0.034910000000034386, [0, 1, 2], [0, 1, 2]],\n",
       "   [1.894507726342805, [0, 1, 2], [0, 1, 2]],\n",
       "   [0.15104636869495322, [0, 1, 2], [0, 1, 2]]],\n",
       "  'times': [0.0, 1.0, 2.0, 3.0]},\n",
       " 'RHipYawPitch': {'keys': [[-0.39389353694704216, [0, 1, 2], [0, 1, 2]],\n",
       "   [7.660574910175037e-15, [0, 1, 2], [0, 1, 2]],\n",
       "   [0.011258730518377925, [0, 1, 2], [0, 1, 2]],\n",
       "   [-0.7529409567506554, [0, 1, 2], [0, 1, 2]]],\n",
       "  'times': [0.0, 1.0, 2.0, 3.0]},\n",
       " 'RHipRoll': {'keys': [[0.043820579356726855, [0, 1, 2], [0, 1, 2]],\n",
       "   [2.4330090792337295e-15, [0, 1, 2], [0, 1, 2]],\n",
       "   [-0.02458412655597357, [0, 1, 2], [0, 1, 2]],\n",
       "   [-0.3842594244249283, [0, 1, 2], [0, 1, 2]]],\n",
       "  'times': [0.0, 1.0, 2.0, 3.0]},\n",
       " 'RHipPitch': {'keys': [[-0.835387125623805, [0, 1, 2], [0, 1, 2]],\n",
       "   [-0.1745299999999946, [0, 1, 2], [0, 1, 2]],\n",
       "   [0.2610291580115811, [0, 1, 2], [0, 1, 2]],\n",
       "   [-1.502398916247729, [0, 1, 2], [0, 1, 2]]],\n",
       "  'times': [0.0, 1.0, 2.0, 3.0]},\n",
       " 'RKneePitch': {'keys': [[1.9194215903801581, [0, 1, 2], [0, 1, 2]],\n",
       "   [1.6755200000000283, [0, 1, 2], [0, 1, 2]],\n",
       "   [2.007897624225833, [0, 1, 2], [0, 1, 2]],\n",
       "   [1.530021178278939, [0, 1, 2], [0, 1, 2]]],\n",
       "  'times': [0.0, 1.0, 2.0, 3.0]},\n",
       " 'RAnklePitch': {'keys': [[-0.8457286487742202, [0, 1, 2], [0, 1, 2]],\n",
       "   [0.24434999999998078, [0, 1, 2], [0, 1, 2]],\n",
       "   [-0.3382490223028215, [0, 1, 2], [0, 1, 2]],\n",
       "   [0.6789031047105076, [0, 1, 2], [0, 1, 2]]],\n",
       "  'times': [0.0, 1.0, 2.0, 3.0]},\n",
       " 'RAnkleRoll': {'keys': [[0.12333791142338132, [0, 1, 2], [0, 1, 2]],\n",
       "   [-4.3502707661719115e-15, [0, 1, 2], [0, 1, 2]],\n",
       "   [-0.03440786732007482, [0, 1, 2], [0, 1, 2]],\n",
       "   [0.03160156390080904, [0, 1, 2], [0, 1, 2]]],\n",
       "  'times': [0.0, 1.0, 2.0, 3.0]},\n",
       " 'LWristYaw': {'keys': [[-0.7690090902203246, [0, 1, 2], [0, 1, 2]],\n",
       "   [-1.4026958045285047, [0, 1, 2], [0, 1, 2]],\n",
       "   [-1.843552231900896, [0, 1, 2], [0, 1, 2]],\n",
       "   [-1.1375358556361463, [0, 1, 2], [0, 1, 2]]],\n",
       "  'times': [0.0, 1.0, 2.0, 3.0]},\n",
       " 'LHand': {'keys': [[0.005007998537216196, [0, 1, 2], [0, 1, 2]],\n",
       "   [0.0005741449743826447, [0, 1, 2], [0, 1, 2]],\n",
       "   [0.001825435238849799, [0, 1, 2], [0, 1, 2]],\n",
       "   [0.0020016839518261793, [0, 1, 2], [0, 1, 2]]],\n",
       "  'times': [0.0, 1.0, 2.0, 3.0]},\n",
       " 'RWristYaw': {'keys': [[1.0832822030272873, [0, 1, 2], [0, 1, 2]],\n",
       "   [1.5356141873927793, [0, 1, 2], [0, 1, 2]],\n",
       "   [1.7340260217680894, [0, 1, 2], [0, 1, 2]],\n",
       "   [1.3136751205714186, [0, 1, 2], [0, 1, 2]]],\n",
       "  'times': [0.0, 1.0, 2.0, 3.0]},\n",
       " 'RHand': {'keys': [[0.004905470821878293, [0, 1, 2], [0, 1, 2]],\n",
       "   [2.141802184697979e-17, [0, 1, 2], [0, 1, 2]],\n",
       "   [1.6197897867229833e-05, [0, 1, 2], [0, 1, 2]],\n",
       "   [0.0007135107189285344, [0, 1, 2], [0, 1, 2]]],\n",
       "  'times': [0.0, 1.0, 2.0, 3.0]}}"
      ]
     },
     "execution_count": 13,
     "metadata": {},
     "output_type": "execute_result"
    }
   ],
   "source": [
    "#agent.perception.__dict__\n",
    "time_targets"
   ]
  },
  {
   "cell_type": "code",
   "execution_count": 8,
   "id": "876fb810",
   "metadata": {},
   "outputs": [
    {
     "data": {
      "application/vnd.jupyter.widget-view+json": {
       "model_id": "776841f0de964fef89a447d311591055",
       "version_major": 2,
       "version_minor": 0
      },
      "text/plain": [
       "Button(description='start', style=ButtonStyle())"
      ]
     },
     "metadata": {},
     "output_type": "display_data"
    },
    {
     "data": {
      "application/vnd.jupyter.widget-view+json": {
       "model_id": "cfbb299bad144e74875b195b992a7bae",
       "version_major": 2,
       "version_minor": 0
      },
      "text/plain": [
       "Button(description='stop', style=ButtonStyle())"
      ]
     },
     "metadata": {},
     "output_type": "display_data"
    }
   ],
   "source": [
    "def start_frame(b):\n",
    "    agent.keyframes = rightBackToStand()\n",
    "\n",
    "def stop_frame(b):\n",
    "    agent.keyframes = ([],[],[])\n",
    "\n",
    "btn_start = widgets.Button(description=\"start\")\n",
    "btn_start.on_click(start_frame)\n",
    "\n",
    "btn_stop = widgets.Button(description=\"stop\")\n",
    "btn_stop.on_click(stop_frame)\n",
    "\n",
    "display(btn_start, btn_stop)"
   ]
  },
  {
   "cell_type": "code",
   "execution_count": 10,
   "id": "166b761e",
   "metadata": {},
   "outputs": [],
   "source": []
  },
  {
   "cell_type": "markdown",
   "id": "a6259e5c",
   "metadata": {},
   "source": [
    "## generate keyframe form JSON"
   ]
  },
  {
   "cell_type": "code",
   "execution_count": null,
   "id": "39744c1b",
   "metadata": {},
   "outputs": [],
   "source": []
  },
  {
   "cell_type": "code",
   "execution_count": 14,
   "id": "c174fe7f",
   "metadata": {},
   "outputs": [],
   "source": [
    "# add all elements to dropdown\n",
    "def set_all_keyframes():\n",
    "    dir_list=listdir('./new_keyframes')\n",
    "    global all_keyframes\n",
    "    all_keyframes = []\n",
    "    c=1\n",
    "    for i in dir_list:\n",
    "        if \".py\" in i and i != \"__init__.py\":\n",
    "            all_keyframes.append((i,c))\n",
    "            c = c+1\n",
    "    \n",
    "    \n",
    "def set_dropdown_value(change):\n",
    "    global dropdown_value_json\n",
    "    dropdown_value_json = \"\"\n",
    "    dropdown_value_json = all_json_data[change[\"new\"]-1][0]\n",
    "\n",
    "# add all elements to dropdown\n",
    "def set_all_data(b):\n",
    "    dir_list=listdir('./Data')\n",
    "    global all_json_data\n",
    "    all_json_data = []\n",
    "    c=1\n",
    "    for i in dir_list:\n",
    "        if \".json\" in i:\n",
    "            all_json_data.append((i,c))\n",
    "            c = c+1\n",
    "    # dropdown\n",
    "    dropdown = widgets.Dropdown(\n",
    "        options = all_json_data,\n",
    "        value = 1,\n",
    "        description = 'json Data')\n",
    "    output4 = widgets.Output()\n",
    "    dropdown.observe(set_dropdown_value, names='value')\n",
    "    display(dropdown)\n",
    "    if len(all_json_data)==1:\n",
    "        global dropdown_value_json\n",
    "        dropdown_value_json = all_json_data[0][0]\n",
    "        \n",
    "    \n",
    "    # generate btn\n",
    "    btn_generate = widgets.Button(description=\"generate keyframe\")\n",
    "    output_g = widgets.Output()\n",
    "    btn_generate.on_click(keyframe_from_JSON)\n",
    "    display(btn_generate)\n",
    "            \n",
    "            \n",
    "# generate keyFrame from json File\n",
    "def keyframe_from_JSON(b):\n",
    "    global dropdown_value_json\n",
    "    #print(dropdown_value_json)\n",
    "    file_name_json = dropdown_value_json\n",
    "    with open(f\"Data/{file_name_json}\") as jsonFile:\n",
    "        jsonObject = json.load(jsonFile)\n",
    "        jsonFile.close()\n",
    "        \n",
    "    name,_json = file_name_json.split(\".\") \n",
    "    f = open(f'new_keyframes/{name}.py', 'w')\n",
    "    f.write(f\"def {name}():\\n\\tnames = list()\\n\\ttimes = list()\\n\\tkeys = list() \")\n",
    "    times = \"times\"\n",
    "    keys = \"keys\"\n",
    "    #print(jsonObject)\n",
    "    for key in dict.keys(jsonObject):\n",
    "        if key != \"Time\":\n",
    "            f.write(f\"\\n\\n\\tnames.append('{key}')\")\n",
    "            f.write(f\"\\n\\ttimes.append({jsonObject[key][times]})\")\n",
    "            f.write(f\"\\n\\tkeys.append({jsonObject[key][keys]})\")\n",
    "    f.write(\"\\n\\treturn names, times, keys\")\n",
    "    f.close()\n",
    "    f = open(f'new_keyframes/__init__.py', 'a')\n",
    "    f.write(f\"\\nfrom .{name} import {name}\")\n",
    "    set_all_keyframes()\n",
    "    \n",
    "                        "
   ]
  },
  {
   "cell_type": "code",
   "execution_count": 15,
   "id": "2c094776",
   "metadata": {},
   "outputs": [
    {
     "data": {
      "application/vnd.jupyter.widget-view+json": {
       "model_id": "aa7ea14947ac4b1d9bd5f4893ac388df",
       "version_major": 2,
       "version_minor": 0
      },
      "text/plain": [
       "Button(description='get DATA', style=ButtonStyle())"
      ]
     },
     "metadata": {},
     "output_type": "display_data"
    },
    {
     "data": {
      "application/vnd.jupyter.widget-view+json": {
       "model_id": "ec22fa52ff8d482eb8aa350af1f1ef5a",
       "version_major": 2,
       "version_minor": 0
      },
      "text/plain": [
       "Dropdown(description='json Data', options=(('demo.json', 1), ('test_file.json', 2)), value=1)"
      ]
     },
     "metadata": {},
     "output_type": "display_data"
    },
    {
     "data": {
      "application/vnd.jupyter.widget-view+json": {
       "model_id": "c7797d55edf74c3a89a60a59b74bdf12",
       "version_major": 2,
       "version_minor": 0
      },
      "text/plain": [
       "Button(description='generate keyframe', style=ButtonStyle())"
      ]
     },
     "metadata": {},
     "output_type": "display_data"
    },
    {
     "ename": "PermissionError",
     "evalue": "[Errno 13] Permission denied: 'Data/'",
     "output_type": "error",
     "traceback": [
      "\u001b[1;31m---------------------------------------------------------------------------\u001b[0m",
      "\u001b[1;31mPermissionError\u001b[0m                           Traceback (most recent call last)",
      "\u001b[1;32m<ipython-input-14-1f885553e93e>\u001b[0m in \u001b[0;36mkeyframe_from_JSON\u001b[1;34m(b)\u001b[0m\n\u001b[0;32m     51\u001b[0m     \u001b[1;31m#print(dropdown_value_json)\u001b[0m\u001b[1;33m\u001b[0m\u001b[1;33m\u001b[0m\u001b[1;33m\u001b[0m\u001b[0m\n\u001b[0;32m     52\u001b[0m     \u001b[0mfile_name_json\u001b[0m \u001b[1;33m=\u001b[0m \u001b[0mdropdown_value_json\u001b[0m\u001b[1;33m\u001b[0m\u001b[1;33m\u001b[0m\u001b[0m\n\u001b[1;32m---> 53\u001b[1;33m     \u001b[1;32mwith\u001b[0m \u001b[0mopen\u001b[0m\u001b[1;33m(\u001b[0m\u001b[1;34mf\"Data/{file_name_json}\"\u001b[0m\u001b[1;33m)\u001b[0m \u001b[1;32mas\u001b[0m \u001b[0mjsonFile\u001b[0m\u001b[1;33m:\u001b[0m\u001b[1;33m\u001b[0m\u001b[1;33m\u001b[0m\u001b[0m\n\u001b[0m\u001b[0;32m     54\u001b[0m         \u001b[0mjsonObject\u001b[0m \u001b[1;33m=\u001b[0m \u001b[0mjson\u001b[0m\u001b[1;33m.\u001b[0m\u001b[0mload\u001b[0m\u001b[1;33m(\u001b[0m\u001b[0mjsonFile\u001b[0m\u001b[1;33m)\u001b[0m\u001b[1;33m\u001b[0m\u001b[1;33m\u001b[0m\u001b[0m\n\u001b[0;32m     55\u001b[0m         \u001b[0mjsonFile\u001b[0m\u001b[1;33m.\u001b[0m\u001b[0mclose\u001b[0m\u001b[1;33m(\u001b[0m\u001b[1;33m)\u001b[0m\u001b[1;33m\u001b[0m\u001b[1;33m\u001b[0m\u001b[0m\n",
      "\u001b[1;31mPermissionError\u001b[0m: [Errno 13] Permission denied: 'Data/'"
     ]
    }
   ],
   "source": [
    "btn_folder = widgets.Button(description=\"get DATA\")\n",
    "btn_folder.on_click(set_all_data)\n",
    "display(btn_folder)\n"
   ]
  },
  {
   "cell_type": "markdown",
   "id": "ada7e143",
   "metadata": {},
   "source": [
    "## Testing keyframe"
   ]
  },
  {
   "cell_type": "code",
   "execution_count": 16,
   "id": "ef9da498",
   "metadata": {},
   "outputs": [],
   "source": [
    "import new_keyframes"
   ]
  },
  {
   "cell_type": "code",
   "execution_count": 17,
   "id": "cb85f0a4",
   "metadata": {},
   "outputs": [],
   "source": [
    "def set_keyframe_value(change):\n",
    "    global dropdown_value_keyframe\n",
    "    dropdown_value_keyframe = \"\"\n",
    "    dropdown_value_keyframe = all_keyframes[change[\"new\"]-1][0]\n",
    "    funk_name,_py = dropdown_value_keyframe.split(\".\")\n",
    "    global test_keyframe\n",
    "    test_keyframe = getattr(new_keyframes, funk_name)\n",
    "    print(f\"set dropdown_value_keyframe = {dropdown_value_keyframe}\")\n",
    "    print(f\"set test_keyframe = {funk_name}()\")"
   ]
  },
  {
   "cell_type": "code",
   "execution_count": 18,
   "id": "6df6fd5e",
   "metadata": {},
   "outputs": [
    {
     "data": {
      "application/vnd.jupyter.widget-view+json": {
       "model_id": "0fc7c10a89484ebd9873698854d3f4ea",
       "version_major": 2,
       "version_minor": 0
      },
      "text/plain": [
       "Dropdown(description='select keyframe', options=(('demo.py', 1), ('test_file.py', 2)), value=1)"
      ]
     },
     "metadata": {},
     "output_type": "display_data"
    },
    {
     "name": "stdout",
     "output_type": "stream",
     "text": [
      "set dropdown_value_keyframe = test_file.py\n",
      "set test_keyframe = test_file()\n",
      "set dropdown_value_keyframe = demo.py\n",
      "set test_keyframe = demo()\n"
     ]
    }
   ],
   "source": [
    "if len(all_keyframes)==0:\n",
    "    set_all_keyframes()\n",
    "elif len(all_keyframes)==1:\n",
    "    funk_name, _py = all_keyframes[0][0].split(\".\")\n",
    "    test_keyframe = getattr(new_keyframes, funk_name)\n",
    "    \n",
    "\n",
    "dropdown_keyframe = widgets.Dropdown(\n",
    "        options = all_keyframes,\n",
    "        value = 1,\n",
    "        description = 'select keyframe')\n",
    "dropdown_keyframe.observe(set_keyframe_value, names='value')\n",
    "display(dropdown_keyframe)"
   ]
  },
  {
   "cell_type": "code",
   "execution_count": 19,
   "id": "6ffd3ba4",
   "metadata": {},
   "outputs": [
    {
     "data": {
      "text/plain": [
       "(['HeadYaw',\n",
       "  'HeadPitch',\n",
       "  'LShoulderPitch',\n",
       "  'LShoulderRoll',\n",
       "  'LElbowYaw',\n",
       "  'LElbowRoll',\n",
       "  'LHipYawPitch',\n",
       "  'LHipRoll',\n",
       "  'LHipPitch',\n",
       "  'LKneePitch',\n",
       "  'LAnklePitch',\n",
       "  'LAnkleRoll',\n",
       "  'RShoulderPitch',\n",
       "  'RShoulderRoll',\n",
       "  'RElbowYaw',\n",
       "  'RElbowRoll',\n",
       "  'RHipYawPitch',\n",
       "  'RHipRoll',\n",
       "  'RHipPitch',\n",
       "  'RKneePitch',\n",
       "  'RAnklePitch',\n",
       "  'RAnkleRoll',\n",
       "  'LWristYaw',\n",
       "  'LHand',\n",
       "  'RWristYaw',\n",
       "  'RHand'],\n",
       " [[0.0, 1.0, 2.0, 3.0],\n",
       "  [0.0, 1.0, 2.0, 3.0],\n",
       "  [0.0, 1.0, 2.0, 3.0],\n",
       "  [0.0, 1.0, 2.0, 3.0],\n",
       "  [0.0, 1.0, 2.0, 3.0],\n",
       "  [0.0, 1.0, 2.0, 3.0],\n",
       "  [0.0, 1.0, 2.0, 3.0],\n",
       "  [0.0, 1.0, 2.0, 3.0],\n",
       "  [0.0, 1.0, 2.0, 3.0],\n",
       "  [0.0, 1.0, 2.0, 3.0],\n",
       "  [0.0, 1.0, 2.0, 3.0],\n",
       "  [0.0, 1.0, 2.0, 3.0],\n",
       "  [0.0, 1.0, 2.0, 3.0],\n",
       "  [0.0, 1.0, 2.0, 3.0],\n",
       "  [0.0, 1.0, 2.0, 3.0],\n",
       "  [0.0, 1.0, 2.0, 3.0],\n",
       "  [0.0, 1.0, 2.0, 3.0],\n",
       "  [0.0, 1.0, 2.0, 3.0],\n",
       "  [0.0, 1.0, 2.0, 3.0],\n",
       "  [0.0, 1.0, 2.0, 3.0],\n",
       "  [0.0, 1.0, 2.0, 3.0],\n",
       "  [0.0, 1.0, 2.0, 3.0],\n",
       "  [0.0, 1.0, 2.0, 3.0],\n",
       "  [0.0, 1.0, 2.0, 3.0],\n",
       "  [0.0, 1.0, 2.0, 3.0],\n",
       "  [0.0, 1.0, 2.0, 3.0]],\n",
       " [[[-0.02299603356696201, [0, 1, 2], [0, 1, 2]],\n",
       "   [1.7278643596177652e-15, [0, 1, 2], [0, 1, 2]],\n",
       "   [0.02495374902935369, [0, 1, 2], [0, 1, 2]],\n",
       "   [0.026086740791534342, [0, 1, 2], [0, 1, 2]]],\n",
       "  [[0.4396356532940046, [0, 1, 2], [0, 1, 2]],\n",
       "   [1.693904348669157e-14, [0, 1, 2], [0, 1, 2]],\n",
       "   [-0.16393151620392749, [0, 1, 2], [0, 1, 2]],\n",
       "   [0.30899692261632833, [0, 1, 2], [0, 1, 2]]],\n",
       "  [[0.7889614432910427, [0, 1, 2], [0, 1, 2]],\n",
       "   [2.0856699999999972, [0, 1, 2], [0, 1, 2]],\n",
       "   [2.0634564696752133, [0, 1, 2], [0, 1, 2]],\n",
       "   [2.0801540461125745, [0, 1, 2], [0, 1, 2]]],\n",
       "  [[0.42682916916825125, [0, 1, 2], [0, 1, 2]],\n",
       "   [0.3665199999999906, [0, 1, 2], [0, 1, 2]],\n",
       "   [0.33122206224225087, [0, 1, 2], [0, 1, 2]],\n",
       "   [0.09110078065108536, [0, 1, 2], [0, 1, 2]]],\n",
       "  [[-0.019981837897021064, [0, 1, 2], [0, 1, 2]],\n",
       "   [0.15708000000000824, [0, 1, 2], [0, 1, 2]],\n",
       "   [0.1010571118457613, [0, 1, 2], [0, 1, 2]],\n",
       "   [0.19868224042197136, [0, 1, 2], [0, 1, 2]]],\n",
       "  [[-0.7871626403399905, [0, 1, 2], [0, 1, 2]],\n",
       "   [-0.03491000000003651, [0, 1, 2], [0, 1, 2]],\n",
       "   [-1.8890509349420368, [0, 1, 2], [0, 1, 2]],\n",
       "   [-0.14072406466592363, [0, 1, 2], [0, 1, 2]]],\n",
       "  [[-0.39389353694704216, [0, 1, 2], [0, 1, 2]],\n",
       "   [7.660574910175037e-15, [0, 1, 2], [0, 1, 2]],\n",
       "   [0.011258730518377925, [0, 1, 2], [0, 1, 2]],\n",
       "   [-0.7529409567506554, [0, 1, 2], [0, 1, 2]]],\n",
       "  [[0.15992976456668478, [0, 1, 2], [0, 1, 2]],\n",
       "   [7.24322326345479e-16, [0, 1, 2], [0, 1, 2]],\n",
       "   [0.0574827101365083, [0, 1, 2], [0, 1, 2]],\n",
       "   [0.3996890840255579, [0, 1, 2], [0, 1, 2]]],\n",
       "  [[-0.7405987084564378, [0, 1, 2], [0, 1, 2]],\n",
       "   [-0.17452999999999358, [0, 1, 2], [0, 1, 2]],\n",
       "   [0.34741706112535187, [0, 1, 2], [0, 1, 2]],\n",
       "   [-1.52553501318919, [0, 1, 2], [0, 1, 2]]],\n",
       "  [[1.9657403141200553, [0, 1, 2], [0, 1, 2]],\n",
       "   [1.6755200000000305, [0, 1, 2], [0, 1, 2]],\n",
       "   [2.0015137328014725, [0, 1, 2], [0, 1, 2]],\n",
       "   [1.4834404230665634, [0, 1, 2], [0, 1, 2]]],\n",
       "  [[-1.1342653814385848, [0, 1, 2], [0, 1, 2]],\n",
       "   [0.24434999999997128, [0, 1, 2], [0, 1, 2]],\n",
       "   [-0.4107704019549326, [0, 1, 2], [0, 1, 2]],\n",
       "   [0.7179399685104082, [0, 1, 2], [0, 1, 2]]],\n",
       "  [[0.05311174330350249, [0, 1, 2], [0, 1, 2]],\n",
       "   [-3.9981001434678844e-16, [0, 1, 2], [0, 1, 2]],\n",
       "   [-0.03388210497518755, [0, 1, 2], [0, 1, 2]],\n",
       "   [-0.010628322496471089, [0, 1, 2], [0, 1, 2]]],\n",
       "  [[0.9423117841559623, [0, 1, 2], [0, 1, 2]],\n",
       "   [2.0856699999999937, [0, 1, 2], [0, 1, 2]],\n",
       "   [2.0233987103865116, [0, 1, 2], [0, 1, 2]],\n",
       "   [2.085456876865275, [0, 1, 2], [0, 1, 2]]],\n",
       "  [[-0.5269054371167872, [0, 1, 2], [0, 1, 2]],\n",
       "   [-0.3665199999999891, [0, 1, 2], [0, 1, 2]],\n",
       "   [-0.3314650978337488, [0, 1, 2], [0, 1, 2]],\n",
       "   [-0.0795002189332353, [0, 1, 2], [0, 1, 2]]],\n",
       "  [[0.059320784343280114, [0, 1, 2], [0, 1, 2]],\n",
       "   [-0.15708000000001338, [0, 1, 2], [0, 1, 2]],\n",
       "   [-0.1446852687024781, [0, 1, 2], [0, 1, 2]],\n",
       "   [-0.0885697680904737, [0, 1, 2], [0, 1, 2]]],\n",
       "  [[0.5308409254280515, [0, 1, 2], [0, 1, 2]],\n",
       "   [0.034910000000034386, [0, 1, 2], [0, 1, 2]],\n",
       "   [1.894507726342805, [0, 1, 2], [0, 1, 2]],\n",
       "   [0.15104636869495322, [0, 1, 2], [0, 1, 2]]],\n",
       "  [[-0.39389353694704216, [0, 1, 2], [0, 1, 2]],\n",
       "   [7.660574910175037e-15, [0, 1, 2], [0, 1, 2]],\n",
       "   [0.011258730518377925, [0, 1, 2], [0, 1, 2]],\n",
       "   [-0.7529409567506554, [0, 1, 2], [0, 1, 2]]],\n",
       "  [[0.043820579356726855, [0, 1, 2], [0, 1, 2]],\n",
       "   [2.4330090792337295e-15, [0, 1, 2], [0, 1, 2]],\n",
       "   [-0.02458412655597357, [0, 1, 2], [0, 1, 2]],\n",
       "   [-0.3842594244249283, [0, 1, 2], [0, 1, 2]]],\n",
       "  [[-0.835387125623805, [0, 1, 2], [0, 1, 2]],\n",
       "   [-0.1745299999999946, [0, 1, 2], [0, 1, 2]],\n",
       "   [0.2610291580115811, [0, 1, 2], [0, 1, 2]],\n",
       "   [-1.502398916247729, [0, 1, 2], [0, 1, 2]]],\n",
       "  [[1.9194215903801581, [0, 1, 2], [0, 1, 2]],\n",
       "   [1.6755200000000283, [0, 1, 2], [0, 1, 2]],\n",
       "   [2.007897624225833, [0, 1, 2], [0, 1, 2]],\n",
       "   [1.530021178278939, [0, 1, 2], [0, 1, 2]]],\n",
       "  [[-0.8457286487742202, [0, 1, 2], [0, 1, 2]],\n",
       "   [0.24434999999998078, [0, 1, 2], [0, 1, 2]],\n",
       "   [-0.3382490223028215, [0, 1, 2], [0, 1, 2]],\n",
       "   [0.6789031047105076, [0, 1, 2], [0, 1, 2]]],\n",
       "  [[0.12333791142338132, [0, 1, 2], [0, 1, 2]],\n",
       "   [-4.3502707661719115e-15, [0, 1, 2], [0, 1, 2]],\n",
       "   [-0.03440786732007482, [0, 1, 2], [0, 1, 2]],\n",
       "   [0.03160156390080904, [0, 1, 2], [0, 1, 2]]],\n",
       "  [[-0.7690090902203246, [0, 1, 2], [0, 1, 2]],\n",
       "   [-1.4026958045285047, [0, 1, 2], [0, 1, 2]],\n",
       "   [-1.843552231900896, [0, 1, 2], [0, 1, 2]],\n",
       "   [-1.1375358556361463, [0, 1, 2], [0, 1, 2]]],\n",
       "  [[0.005007998537216196, [0, 1, 2], [0, 1, 2]],\n",
       "   [0.0005741449743826447, [0, 1, 2], [0, 1, 2]],\n",
       "   [0.001825435238849799, [0, 1, 2], [0, 1, 2]],\n",
       "   [0.0020016839518261793, [0, 1, 2], [0, 1, 2]]],\n",
       "  [[1.0832822030272873, [0, 1, 2], [0, 1, 2]],\n",
       "   [1.5356141873927793, [0, 1, 2], [0, 1, 2]],\n",
       "   [1.7340260217680894, [0, 1, 2], [0, 1, 2]],\n",
       "   [1.3136751205714186, [0, 1, 2], [0, 1, 2]]],\n",
       "  [[0.004905470821878293, [0, 1, 2], [0, 1, 2]],\n",
       "   [2.141802184697979e-17, [0, 1, 2], [0, 1, 2]],\n",
       "   [1.6197897867229833e-05, [0, 1, 2], [0, 1, 2]],\n",
       "   [0.0007135107189285344, [0, 1, 2], [0, 1, 2]]]])"
      ]
     },
     "execution_count": 19,
     "metadata": {},
     "output_type": "execute_result"
    }
   ],
   "source": [
    "test_keyframe()"
   ]
  },
  {
   "cell_type": "code",
   "execution_count": 20,
   "id": "0fd47720",
   "metadata": {},
   "outputs": [],
   "source": [
    "agent.keyframes = test_keyframe()"
   ]
  },
  {
   "cell_type": "code",
   "execution_count": 1,
   "id": "9722df0c",
   "metadata": {},
   "outputs": [],
   "source": []
  },
  {
   "cell_type": "code",
   "execution_count": null,
   "id": "db2f2969",
   "metadata": {},
   "outputs": [],
   "source": []
  },
  {
   "cell_type": "code",
   "execution_count": null,
   "id": "b1006472",
   "metadata": {},
   "outputs": [],
   "source": []
  },
  {
   "cell_type": "code",
   "execution_count": null,
   "id": "521959c7",
   "metadata": {},
   "outputs": [],
   "source": []
  },
  {
   "cell_type": "code",
   "execution_count": null,
   "id": "79af3b79",
   "metadata": {},
   "outputs": [],
   "source": []
  },
  {
   "cell_type": "code",
   "execution_count": null,
   "id": "a2028541",
   "metadata": {},
   "outputs": [],
   "source": []
  },
  {
   "cell_type": "code",
   "execution_count": 20,
   "id": "c21fc720",
   "metadata": {},
   "outputs": [],
   "source": []
  },
  {
   "cell_type": "code",
   "execution_count": null,
   "id": "6628538c",
   "metadata": {},
   "outputs": [],
   "source": []
  },
  {
   "cell_type": "code",
   "execution_count": null,
   "id": "49505c58",
   "metadata": {},
   "outputs": [],
   "source": []
  },
  {
   "cell_type": "code",
   "execution_count": null,
   "id": "d24fb537",
   "metadata": {},
   "outputs": [],
   "source": []
  },
  {
   "cell_type": "code",
   "execution_count": null,
   "id": "9bc0ebc3",
   "metadata": {},
   "outputs": [],
   "source": []
  },
  {
   "cell_type": "code",
   "execution_count": null,
   "id": "8f347c85",
   "metadata": {},
   "outputs": [],
   "source": []
  }
 ],
 "metadata": {
  "kernelspec": {
   "display_name": "Python 3",
   "language": "python",
   "name": "python3"
  },
  "language_info": {
   "codemirror_mode": {
    "name": "ipython",
    "version": 3
   },
   "file_extension": ".py",
   "mimetype": "text/x-python",
   "name": "python",
   "nbconvert_exporter": "python",
   "pygments_lexer": "ipython3",
   "version": "3.8.8"
  }
 },
 "nbformat": 4,
 "nbformat_minor": 5
}
