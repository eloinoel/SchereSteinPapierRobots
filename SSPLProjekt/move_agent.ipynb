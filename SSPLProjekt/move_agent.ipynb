{
 "cells": [
  {
   "cell_type": "markdown",
   "metadata": {},
   "source": [
    "# Imports"
   ]
  },
  {
   "cell_type": "code",
   "execution_count": 19,
   "metadata": {},
   "outputs": [],
   "source": [
    "%matplotlib notebook\n",
    "import os\n",
    "import sys\n",
    "\n",
    "from matplotlib import pylab as plt\n",
    "from collections import deque\n",
    "import numpy as np\n",
    "from IPython.display import IFrame\n",
    "import ipywidgets as widgets\n",
    "import json\n",
    "from ipywidgets import interact\n",
    "\n",
    "from os import listdir\n",
    "from os.path import isfile, join"
   ]
  },
  {
   "cell_type": "code",
   "execution_count": 20,
   "metadata": {},
   "outputs": [],
   "source": [
    "sys.path.append(os.path.join(os.path.abspath(os.path.dirname('__file__')), '..', 'software_installation'))\n",
    "sys.path.append(os.path.join(os.path.abspath(os.path.dirname('__file__')), '..', 'joint_control'))\n",
    "sys.path.append(os.path.join(os.path.abspath(os.path.dirname('__file__')), '..', 'distributed_computing'))\n",
    "sys.path.append(os.path.join(os.path.abspath(os.path.dirname('__file__')), '..', 'introduction'))\n",
    "sys.path.append(os.path.join(os.path.abspath(os.path.dirname('__file__')), '..', 'kinematics'))\n",
    "\n",
    "from keyframes import *"
   ]
  },
  {
   "cell_type": "code",
   "execution_count": 21,
   "metadata": {},
   "outputs": [],
   "source": [
    "from inverse_kinematics import InverseKinematicsAgent"
   ]
  },
  {
   "cell_type": "code",
   "execution_count": 22,
   "metadata": {},
   "outputs": [],
   "source": [
    "agent = InverseKinematicsAgent()\n",
    "agent.start()"
   ]
  },
  {
   "cell_type": "markdown",
   "metadata": {},
   "source": [
    "# Nützliche Funktionen"
   ]
  },
  {
   "cell_type": "code",
   "execution_count": 25,
   "metadata": {},
   "outputs": [],
   "source": [
    "#agent.joint_names\n",
    "#agent.__dict__\n",
    "#dir(agent)\n",
    "#agent.target_joints\n",
    "#agent.transforms"
   ]
  },
  {
   "cell_type": "code",
   "execution_count": null,
   "metadata": {},
   "outputs": [],
   "source": []
  },
  {
   "cell_type": "code",
   "execution_count": null,
   "metadata": {},
   "outputs": [],
   "source": []
  },
  {
   "cell_type": "code",
   "execution_count": 26,
   "metadata": {},
   "outputs": [],
   "source": [
    "#agent.target_joints"
   ]
  },
  {
   "cell_type": "markdown",
   "metadata": {},
   "source": [
    "## Globale Variablen"
   ]
  },
  {
   "cell_type": "code",
   "execution_count": 23,
   "metadata": {},
   "outputs": [],
   "source": [
    "file_name = \"\"\n",
    "time_int = 0\n",
    "time_targets = {}\n",
    "all_keyframes = []\n",
    "all_json_data = []\n",
    "dropdown_value_json = \"\"\n",
    "dropdown_value_keyframe = \"\"\n",
    "test_keyframe = None\n",
    "for key in dict.keys(agent.target_joints):\n",
    "    time_targets[key]={'keys':[],'times':[]}\n",
    "time_targets[\"LWristYaw\"] = {'keys':[],'times':[]}\n",
    "time_targets[\"LHand\"] = {'keys':[],'times':[]}\n",
    "time_targets[\"RWristYaw\"] = {'keys':[],'times':[]}\n",
    "time_targets[\"RHand\"] = {'keys':[],'times':[]}\n",
    "#time_targets[\"LHand\"] = {'keys':[],'times':[]}\n",
    "#time_targets['Time'] = []"
   ]
  },
  {
   "cell_type": "markdown",
   "metadata": {},
   "source": [
    "## GUI Funktionen"
   ]
  },
  {
   "cell_type": "code",
   "execution_count": 24,
   "metadata": {},
   "outputs": [],
   "source": [
    "# updatet die vom Slider gesetzten Werte beim agent\n",
    "def set_joint_target(value, joint):\n",
    "    agent.target_joints[joint] = value\n",
    "    sliders = value    \n",
    "\n",
    "# schreibt die Daten aus time_targets in eine json File\n",
    "def save_Data(b):\n",
    "    global fiel_name\n",
    "    with open(f'Data/{file_name}.json', 'w') as outfile:\n",
    "        data = {}\n",
    "        json.dump(time_targets, outfile)\n",
    "    global fiel_name\n",
    "    with output:\n",
    "        print(f'{file_name}.json generated')\n",
    "\n",
    "#  setzt den input von File Name auf fiele_name\n",
    "def set_FileName(change):\n",
    "    with output2:\n",
    "        global file_name\n",
    "        file_name = change['new']\n",
    "\n",
    "# setzt time_int auf die eingegebene Zeit\n",
    "def set_time(change):\n",
    "    with output3:\n",
    "        global time_int\n",
    "        time_int = int(change['new'])\n",
    "\n",
    "# addet die die Werte von target_joints an time_targets\n",
    "def add_list(b):\n",
    "    global time_int\n",
    "    #time_targets['Time'].append(time_int) \n",
    "    for key in dict.keys(time_targets):\n",
    "        try:\n",
    "            time_targets[key]['keys'].append([float(agent.target_joints[key]),[0,1,2],[0,1,2]])\n",
    "            time_targets[key]['times'].append(float(time_int))\n",
    "        except:\n",
    "            time_targets[key]['keys'].append([0,[0,1,2],[0,1,2]])\n",
    "            time_targets[key]['times'].append(float(time_int))           \n",
    "    "
   ]
  },
  {
   "cell_type": "code",
   "execution_count": null,
   "metadata": {},
   "outputs": [],
   "source": []
  },
  {
   "cell_type": "markdown",
   "metadata": {},
   "source": [
    "## GUI Elemente"
   ]
  },
  {
   "cell_type": "code",
   "execution_count": 44,
   "metadata": {},
   "outputs": [
    {
     "data": {
      "application/vnd.jupyter.widget-view+json": {
       "model_id": "4e53799d7af3436f9bf924a128d84ae2",
       "version_major": 2,
       "version_minor": 0
      },
      "text/plain": [
       "interactive(children=(FloatSlider(value=0.0, description='HeadYaw', max=2.0, min=-2.0, step=0.01), Text(value=…"
      ]
     },
     "metadata": {},
     "output_type": "display_data"
    },
    {
     "data": {
      "application/vnd.jupyter.widget-view+json": {
       "model_id": "bd81a739b63246ca9b5f98e410b04a85",
       "version_major": 2,
       "version_minor": 0
      },
      "text/plain": [
       "interactive(children=(FloatSlider(value=0.0, description='HeadPitch', max=2.0, min=-2.0, step=0.01), Text(valu…"
      ]
     },
     "metadata": {},
     "output_type": "display_data"
    },
    {
     "data": {
      "application/vnd.jupyter.widget-view+json": {
       "model_id": "8aca805161b04d228a525ab6af7f6767",
       "version_major": 2,
       "version_minor": 0
      },
      "text/plain": [
       "interactive(children=(FloatSlider(value=0.0, description='LShoulderPitch', max=2.0, min=-2.0, step=0.01), Text…"
      ]
     },
     "metadata": {},
     "output_type": "display_data"
    },
    {
     "data": {
      "application/vnd.jupyter.widget-view+json": {
       "model_id": "5ddba566fae3433092556c0bb7fe416b",
       "version_major": 2,
       "version_minor": 0
      },
      "text/plain": [
       "interactive(children=(FloatSlider(value=0.0, description='LShoulderRoll', max=2.0, min=-2.0, step=0.01), Text(…"
      ]
     },
     "metadata": {},
     "output_type": "display_data"
    },
    {
     "data": {
      "application/vnd.jupyter.widget-view+json": {
       "model_id": "3ba43a410a19454ebe750ba381b4abf9",
       "version_major": 2,
       "version_minor": 0
      },
      "text/plain": [
       "interactive(children=(FloatSlider(value=0.0, description='LElbowYaw', max=2.0, min=-2.0, step=0.01), Text(valu…"
      ]
     },
     "metadata": {},
     "output_type": "display_data"
    },
    {
     "data": {
      "application/vnd.jupyter.widget-view+json": {
       "model_id": "410e76d76f2d4f229ea6209b0609bd4c",
       "version_major": 2,
       "version_minor": 0
      },
      "text/plain": [
       "interactive(children=(FloatSlider(value=0.0, description='LElbowRoll', max=2.0, min=-2.0, step=0.01), Text(val…"
      ]
     },
     "metadata": {},
     "output_type": "display_data"
    },
    {
     "data": {
      "application/vnd.jupyter.widget-view+json": {
       "model_id": "78cfa7def13045758086d1c07c2ff5ae",
       "version_major": 2,
       "version_minor": 0
      },
      "text/plain": [
       "interactive(children=(FloatSlider(value=0.0, description='LHipYawPitch', max=2.0, min=-2.0, step=0.01), Text(v…"
      ]
     },
     "metadata": {},
     "output_type": "display_data"
    },
    {
     "data": {
      "application/vnd.jupyter.widget-view+json": {
       "model_id": "c4c160e7426445f582463b7225c1498e",
       "version_major": 2,
       "version_minor": 0
      },
      "text/plain": [
       "interactive(children=(FloatSlider(value=0.0, description='LHipRoll', max=2.0, min=-2.0, step=0.01), Text(value…"
      ]
     },
     "metadata": {},
     "output_type": "display_data"
    },
    {
     "data": {
      "application/vnd.jupyter.widget-view+json": {
       "model_id": "bf17790b62424137bad120f5675f4d5e",
       "version_major": 2,
       "version_minor": 0
      },
      "text/plain": [
       "interactive(children=(FloatSlider(value=0.0, description='LHipPitch', max=2.0, min=-2.0, step=0.01), Text(valu…"
      ]
     },
     "metadata": {},
     "output_type": "display_data"
    },
    {
     "data": {
      "application/vnd.jupyter.widget-view+json": {
       "model_id": "de400d863962458fb1cba1d2e05c1899",
       "version_major": 2,
       "version_minor": 0
      },
      "text/plain": [
       "interactive(children=(FloatSlider(value=0.0, description='LKneePitch', max=2.0, min=-2.0, step=0.01), Text(val…"
      ]
     },
     "metadata": {},
     "output_type": "display_data"
    },
    {
     "data": {
      "application/vnd.jupyter.widget-view+json": {
       "model_id": "e2ec74114ffe49fa9cb21bb068e0b568",
       "version_major": 2,
       "version_minor": 0
      },
      "text/plain": [
       "interactive(children=(FloatSlider(value=0.0, description='LAnklePitch', max=2.0, min=-2.0, step=0.01), Text(va…"
      ]
     },
     "metadata": {},
     "output_type": "display_data"
    },
    {
     "data": {
      "application/vnd.jupyter.widget-view+json": {
       "model_id": "33cf53ac44984ee58cd3c91d8927cbbd",
       "version_major": 2,
       "version_minor": 0
      },
      "text/plain": [
       "interactive(children=(FloatSlider(value=0.0, description='LAnkleRoll', max=2.0, min=-2.0, step=0.01), Text(val…"
      ]
     },
     "metadata": {},
     "output_type": "display_data"
    },
    {
     "data": {
      "application/vnd.jupyter.widget-view+json": {
       "model_id": "9696059ab59541e0b2cb583799c168c4",
       "version_major": 2,
       "version_minor": 0
      },
      "text/plain": [
       "interactive(children=(FloatSlider(value=0.0, description='RShoulderPitch', max=2.0, min=-2.0, step=0.01), Text…"
      ]
     },
     "metadata": {},
     "output_type": "display_data"
    },
    {
     "data": {
      "application/vnd.jupyter.widget-view+json": {
       "model_id": "144c64edbf794f7ead4ac54bdd8d483a",
       "version_major": 2,
       "version_minor": 0
      },
      "text/plain": [
       "interactive(children=(FloatSlider(value=0.0, description='RShoulderRoll', max=2.0, min=-2.0, step=0.01), Text(…"
      ]
     },
     "metadata": {},
     "output_type": "display_data"
    },
    {
     "data": {
      "application/vnd.jupyter.widget-view+json": {
       "model_id": "b3e8d6da92e04544900a6fa7d8b54d61",
       "version_major": 2,
       "version_minor": 0
      },
      "text/plain": [
       "interactive(children=(FloatSlider(value=0.0, description='RElbowYaw', max=2.0, min=-2.0, step=0.01), Text(valu…"
      ]
     },
     "metadata": {},
     "output_type": "display_data"
    },
    {
     "data": {
      "application/vnd.jupyter.widget-view+json": {
       "model_id": "4c75ff594d5b4ee8b84bff1b2a26442d",
       "version_major": 2,
       "version_minor": 0
      },
      "text/plain": [
       "interactive(children=(FloatSlider(value=0.0, description='RElbowRoll', max=2.0, min=-2.0, step=0.01), Text(val…"
      ]
     },
     "metadata": {},
     "output_type": "display_data"
    },
    {
     "data": {
      "application/vnd.jupyter.widget-view+json": {
       "model_id": "d1dffd4f8f7d476eb950dcf3c5de6a08",
       "version_major": 2,
       "version_minor": 0
      },
      "text/plain": [
       "interactive(children=(FloatSlider(value=0.0, description='RHipYawPitch', max=2.0, min=-2.0, step=0.01), Text(v…"
      ]
     },
     "metadata": {},
     "output_type": "display_data"
    },
    {
     "data": {
      "application/vnd.jupyter.widget-view+json": {
       "model_id": "9e7bd8873cb54c3a8dc4b670fad10316",
       "version_major": 2,
       "version_minor": 0
      },
      "text/plain": [
       "interactive(children=(FloatSlider(value=0.0, description='RHipRoll', max=2.0, min=-2.0, step=0.01), Text(value…"
      ]
     },
     "metadata": {},
     "output_type": "display_data"
    },
    {
     "data": {
      "application/vnd.jupyter.widget-view+json": {
       "model_id": "461e2c65cff444a09db86eb91b18865c",
       "version_major": 2,
       "version_minor": 0
      },
      "text/plain": [
       "interactive(children=(FloatSlider(value=0.0, description='RHipPitch', max=2.0, min=-2.0, step=0.01), Text(valu…"
      ]
     },
     "metadata": {},
     "output_type": "display_data"
    },
    {
     "data": {
      "application/vnd.jupyter.widget-view+json": {
       "model_id": "dbc27f5aced94b30a38bd7a4c369c4b1",
       "version_major": 2,
       "version_minor": 0
      },
      "text/plain": [
       "interactive(children=(FloatSlider(value=0.0, description='RKneePitch', max=2.0, min=-2.0, step=0.01), Text(val…"
      ]
     },
     "metadata": {},
     "output_type": "display_data"
    },
    {
     "data": {
      "application/vnd.jupyter.widget-view+json": {
       "model_id": "1b786ae5589f4a5ba738b0e44b3c8ab4",
       "version_major": 2,
       "version_minor": 0
      },
      "text/plain": [
       "interactive(children=(FloatSlider(value=0.0, description='RAnklePitch', max=2.0, min=-2.0, step=0.01), Text(va…"
      ]
     },
     "metadata": {},
     "output_type": "display_data"
    },
    {
     "data": {
      "application/vnd.jupyter.widget-view+json": {
       "model_id": "f03c258e839844e685f80f6c10c60357",
       "version_major": 2,
       "version_minor": 0
      },
      "text/plain": [
       "interactive(children=(FloatSlider(value=0.0, description='RAnkleRoll', max=2.0, min=-2.0, step=0.01), Text(val…"
      ]
     },
     "metadata": {},
     "output_type": "display_data"
    },
    {
     "data": {
      "application/vnd.jupyter.widget-view+json": {
       "model_id": "6a2fd06aae1f4355bdad2140095bbc74",
       "version_major": 2,
       "version_minor": 0
      },
      "text/plain": [
       "interactive(children=(FloatSlider(value=0.0, description='LWristYaw', max=2.0, min=-2.0, step=0.01), Text(valu…"
      ]
     },
     "metadata": {},
     "output_type": "display_data"
    },
    {
     "data": {
      "application/vnd.jupyter.widget-view+json": {
       "model_id": "5444ca8d57d04cf692c42dbb38c56b3c",
       "version_major": 2,
       "version_minor": 0
      },
      "text/plain": [
       "interactive(children=(FloatSlider(value=0.0, description='LHand', max=2.0, min=-2.0, step=0.01), Text(value='L…"
      ]
     },
     "metadata": {},
     "output_type": "display_data"
    },
    {
     "data": {
      "application/vnd.jupyter.widget-view+json": {
       "model_id": "08d1b25179bf4fdca8abdfd6b5013c7a",
       "version_major": 2,
       "version_minor": 0
      },
      "text/plain": [
       "interactive(children=(FloatSlider(value=0.0, description='RWristYaw', max=2.0, min=-2.0, step=0.01), Text(valu…"
      ]
     },
     "metadata": {},
     "output_type": "display_data"
    },
    {
     "data": {
      "application/vnd.jupyter.widget-view+json": {
       "model_id": "3bbf94cc76c5489c9ddccd8215a1ac24",
       "version_major": 2,
       "version_minor": 0
      },
      "text/plain": [
       "interactive(children=(FloatSlider(value=0.0, description='RHand', max=2.0, min=-2.0, step=0.01), Text(value='R…"
      ]
     },
     "metadata": {},
     "output_type": "display_data"
    },
    {
     "data": {
      "application/vnd.jupyter.widget-view+json": {
       "model_id": "aa37df6f248c46719e5191c47cf76c2c",
       "version_major": 2,
       "version_minor": 0
      },
      "text/plain": [
       "Button(description='add to list', style=ButtonStyle())"
      ]
     },
     "metadata": {},
     "output_type": "display_data"
    },
    {
     "data": {
      "application/vnd.jupyter.widget-view+json": {
       "model_id": "24f6b781906647f396d748b182c23999",
       "version_major": 2,
       "version_minor": 0
      },
      "text/plain": [
       "Text(value='', description='time')"
      ]
     },
     "metadata": {},
     "output_type": "display_data"
    },
    {
     "data": {
      "application/vnd.jupyter.widget-view+json": {
       "model_id": "caec51ed2ba24972b278590cc5340f46",
       "version_major": 2,
       "version_minor": 0
      },
      "text/plain": [
       "Button(description='save data', style=ButtonStyle())"
      ]
     },
     "metadata": {},
     "output_type": "display_data"
    },
    {
     "data": {
      "application/vnd.jupyter.widget-view+json": {
       "model_id": "0ec8e7f46aec4ec4b622a4955d1012d6",
       "version_major": 2,
       "version_minor": 0
      },
      "text/plain": [
       "Text(value='', description='File Name')"
      ]
     },
     "metadata": {},
     "output_type": "display_data"
    },
    {
     "data": {
      "application/vnd.jupyter.widget-view+json": {
       "model_id": "70042586ea5545129962db248a381948",
       "version_major": 2,
       "version_minor": 0
      },
      "text/plain": [
       "Output()"
      ]
     },
     "metadata": {},
     "output_type": "display_data"
    }
   ],
   "source": [
    "# generates all slider elements\n",
    "for joint in agent.target_joints:\n",
    "    s = widgets.FloatSlider(value=0,min=-2,max=2,step=0.01,description=joint)\n",
    "    t = interact(set_joint_target, value=s, joint=joint)\n",
    "    \n",
    "# input \"File Name\" text field\n",
    "text = widgets.Text(description=\"File Name\")\n",
    "output2 = widgets.Output()\n",
    "text.observe(set_FileName, names='value')\n",
    " \n",
    "# save button\n",
    "btn_save = widgets.Button(description=\"save data\")\n",
    "output = widgets.Output()\n",
    "btn_save.on_click(save_Data)\n",
    "\n",
    "# zeitstempel eingabe\n",
    "input_time = widgets.Text(description=\"time\")\n",
    "output3 = widgets.Output()\n",
    "input_time.observe(set_time, names='value')\n",
    "\n",
    "# add data to list\n",
    "btn_add = widgets.Button(description=\"add to list\")\n",
    "btn_add.on_click(add_list)\n",
    "\n",
    "# elemente anzeigen\n",
    "display( btn_add, input_time, btn_save, text, output)\n",
    "\n"
   ]
  },
  {
   "cell_type": "code",
   "execution_count": null,
   "metadata": {},
   "outputs": [],
   "source": []
  },
  {
   "cell_type": "code",
   "execution_count": 30,
   "metadata": {},
   "outputs": [
    {
     "data": {
      "text/plain": [
       "{'HeadYaw': {'keys': [], 'times': []},\n",
       " 'HeadPitch': {'keys': [], 'times': []},\n",
       " 'LShoulderPitch': {'keys': [], 'times': []},\n",
       " 'LShoulderRoll': {'keys': [], 'times': []},\n",
       " 'LElbowYaw': {'keys': [], 'times': []},\n",
       " 'LElbowRoll': {'keys': [], 'times': []},\n",
       " 'LHipYawPitch': {'keys': [], 'times': []},\n",
       " 'LHipRoll': {'keys': [], 'times': []},\n",
       " 'LHipPitch': {'keys': [], 'times': []},\n",
       " 'LKneePitch': {'keys': [], 'times': []},\n",
       " 'LAnklePitch': {'keys': [], 'times': []},\n",
       " 'LAnkleRoll': {'keys': [], 'times': []},\n",
       " 'RShoulderPitch': {'keys': [], 'times': []},\n",
       " 'RShoulderRoll': {'keys': [], 'times': []},\n",
       " 'RElbowYaw': {'keys': [], 'times': []},\n",
       " 'RElbowRoll': {'keys': [], 'times': []},\n",
       " 'RHipYawPitch': {'keys': [], 'times': []},\n",
       " 'RHipRoll': {'keys': [], 'times': []},\n",
       " 'RHipPitch': {'keys': [], 'times': []},\n",
       " 'RKneePitch': {'keys': [], 'times': []},\n",
       " 'RAnklePitch': {'keys': [], 'times': []},\n",
       " 'RAnkleRoll': {'keys': [], 'times': []},\n",
       " 'LWristYaw': {'keys': [], 'times': []},\n",
       " 'LHand': {'keys': [], 'times': []},\n",
       " 'RWristYaw': {'keys': [], 'times': []},\n",
       " 'RHand': {'keys': [], 'times': []}}"
      ]
     },
     "execution_count": 30,
     "metadata": {},
     "output_type": "execute_result"
    }
   ],
   "source": [
    "#agent.perception.__dict__\n",
    "time_targets"
   ]
  },
  {
   "cell_type": "code",
   "execution_count": 26,
   "metadata": {},
   "outputs": [
    {
     "data": {
      "application/vnd.jupyter.widget-view+json": {
       "model_id": "698ff19404044e4dbe0c8f58d73660e4",
       "version_major": 2,
       "version_minor": 0
      },
      "text/plain": [
       "Button(description='start', style=ButtonStyle())"
      ]
     },
     "metadata": {},
     "output_type": "display_data"
    },
    {
     "data": {
      "application/vnd.jupyter.widget-view+json": {
       "model_id": "c2bf9dce55864a3b90085d8a5b6493ad",
       "version_major": 2,
       "version_minor": 0
      },
      "text/plain": [
       "Button(description='stop', style=ButtonStyle())"
      ]
     },
     "metadata": {},
     "output_type": "display_data"
    }
   ],
   "source": [
    "def start_frame(b):\n",
    "    agent.keyframes = rightBackToStand()\n",
    "\n",
    "def stop_frame(b):\n",
    "    agent.keyframes = ([],[],[])\n",
    "\n",
    "btn_start = widgets.Button(description=\"start\")\n",
    "btn_start.on_click(start_frame)\n",
    "\n",
    "btn_stop = widgets.Button(description=\"stop\")\n",
    "btn_stop.on_click(stop_frame)\n",
    "\n",
    "display(btn_start, btn_stop)"
   ]
  },
  {
   "cell_type": "code",
   "execution_count": null,
   "metadata": {},
   "outputs": [],
   "source": []
  },
  {
   "cell_type": "markdown",
   "metadata": {},
   "source": [
    "## generate keyframe form JSON"
   ]
  },
  {
   "cell_type": "code",
   "execution_count": null,
   "metadata": {},
   "outputs": [],
   "source": []
  },
  {
   "cell_type": "code",
   "execution_count": 27,
   "metadata": {},
   "outputs": [],
   "source": [
    "# add all elements to dropdown\n",
    "def set_all_keyframes():\n",
    "    dir_list=listdir('./new_keyframes')\n",
    "    global all_keyframes\n",
    "    all_keyframes = []\n",
    "    c=1\n",
    "    for i in dir_list:\n",
    "        if \".py\" in i and i != \"__init__.py\":\n",
    "            all_keyframes.append((i,c))\n",
    "            c = c+1\n",
    "    \n",
    "    \n",
    "def set_dropdown_value(change):\n",
    "    global dropdown_value_json\n",
    "    dropdown_value_json = \"\"\n",
    "    dropdown_value_json = all_json_data[change[\"new\"]-1][0]\n",
    "\n",
    "# add all elements to dropdown\n",
    "def set_all_data(b):\n",
    "    dir_list=listdir('./Data')\n",
    "    global all_json_data\n",
    "    all_json_data = []\n",
    "    c=1\n",
    "    for i in dir_list:\n",
    "        if \".json\" in i:\n",
    "            all_json_data.append((i,c))\n",
    "            c = c+1\n",
    "    # dropdown\n",
    "    dropdown = widgets.Dropdown(\n",
    "        options = all_json_data,\n",
    "        value = 1,\n",
    "        description = 'json Data')\n",
    "    output4 = widgets.Output()\n",
    "    dropdown.observe(set_dropdown_value, names='value')\n",
    "    display(dropdown)\n",
    "    if len(all_json_data)==1:\n",
    "        global dropdown_value_json\n",
    "        dropdown_value_json = all_json_data[0][0]\n",
    "        \n",
    "    \n",
    "    # generate btn\n",
    "    btn_generate = widgets.Button(description=\"generate keyframe\")\n",
    "    output_g = widgets.Output()\n",
    "    btn_generate.on_click(keyframe_from_JSON)\n",
    "    display(btn_generate)\n",
    "            \n",
    "            \n",
    "# generate keyFrame from json File\n",
    "def keyframe_from_JSON(b):\n",
    "    global dropdown_value_json\n",
    "    #print(dropdown_value_json)\n",
    "    file_name_json = dropdown_value_json\n",
    "    with open(f\"Data/{file_name_json}\") as jsonFile:\n",
    "        jsonObject = json.load(jsonFile)\n",
    "        jsonFile.close()\n",
    "        \n",
    "    name,_json = file_name_json.split(\".\") \n",
    "    f = open(f'new_keyframes/{name}.py', 'w')\n",
    "    f.write(f\"def {name}():\\n\\tnames = list()\\n\\ttimes = list()\\n\\tkeys = list() \")\n",
    "    times = \"times\"\n",
    "    keys = \"keys\"\n",
    "    #print(jsonObject)\n",
    "    for key in dict.keys(jsonObject):\n",
    "        if key != \"Time\":\n",
    "            f.write(f\"\\n\\n\\tnames.append('{key}')\")\n",
    "            f.write(f\"\\n\\ttimes.append({jsonObject[key][times]})\")\n",
    "            f.write(f\"\\n\\tkeys.append({jsonObject[key][keys]})\")\n",
    "    f.write(\"\\n\\treturn names, times, keys\")\n",
    "    f.close()\n",
    "    f = open(f'new_keyframes/__init__.py', 'a')\n",
    "    f.write(f\"\\nfrom .{name} import {name}\")\n",
    "    set_all_keyframes()\n",
    "    \n",
    "                        "
   ]
  },
  {
   "cell_type": "code",
   "execution_count": 28,
   "metadata": {},
   "outputs": [
    {
     "data": {
      "application/vnd.jupyter.widget-view+json": {
       "model_id": "0ee9f1d0368c44c6b69135f9881cc1ed",
       "version_major": 2,
       "version_minor": 0
      },
      "text/plain": [
       "Button(description='get DATA', style=ButtonStyle())"
      ]
     },
     "metadata": {},
     "output_type": "display_data"
    }
   ],
   "source": [
    "btn_folder = widgets.Button(description=\"get DATA\")\n",
    "btn_folder.on_click(set_all_data)\n",
    "display(btn_folder)\n",
    "\n",
    "# falls error wähle etwas im dropdown aus"
   ]
  },
  {
   "cell_type": "markdown",
   "metadata": {},
   "source": [
    "## Testing keyframe"
   ]
  },
  {
   "cell_type": "code",
   "execution_count": 32,
   "metadata": {},
   "outputs": [],
   "source": [
    "import new_keyframes"
   ]
  },
  {
   "cell_type": "code",
   "execution_count": 33,
   "metadata": {},
   "outputs": [],
   "source": [
    "def set_keyframe_value(change):\n",
    "    global dropdown_value_keyframe\n",
    "    dropdown_value_keyframe = \"\"\n",
    "    dropdown_value_keyframe = all_keyframes[change[\"new\"]-1][0]\n",
    "    funk_name,_py = dropdown_value_keyframe.split(\".\")\n",
    "    global test_keyframe\n",
    "    test_keyframe = getattr(new_keyframes, funk_name)\n",
    "    print(f\"set dropdown_value_keyframe = {dropdown_value_keyframe}\")\n",
    "    print(f\"set test_keyframe = {funk_name}()\")"
   ]
  },
  {
   "cell_type": "code",
   "execution_count": 34,
   "metadata": {},
   "outputs": [
    {
     "data": {
      "application/vnd.jupyter.widget-view+json": {
       "model_id": "33af0e281270414592d10df8580e0e02",
       "version_major": 2,
       "version_minor": 0
      },
      "text/plain": [
       "Dropdown(description='select keyframe', options=(('default_pose.py', 1), ('Paper.py', 2)), value=1)"
      ]
     },
     "metadata": {},
     "output_type": "display_data"
    },
    {
     "name": "stdout",
     "output_type": "stream",
     "text": [
      "set dropdown_value_keyframe = Paper.py\n",
      "set test_keyframe = Paper()\n",
      "set dropdown_value_keyframe = default_pose.py\n",
      "set test_keyframe = default_pose()\n",
      "set dropdown_value_keyframe = Paper.py\n",
      "set test_keyframe = Paper()\n",
      "set dropdown_value_keyframe = default_pose.py\n",
      "set test_keyframe = default_pose()\n",
      "set dropdown_value_keyframe = Paper.py\n",
      "set test_keyframe = Paper()\n",
      "set dropdown_value_keyframe = default_pose.py\n",
      "set test_keyframe = default_pose()\n"
     ]
    }
   ],
   "source": [
    "if len(all_keyframes)==0:\n",
    "    set_all_keyframes()\n",
    "elif len(all_keyframes)==1:\n",
    "    funk_name, _py = all_keyframes[0][0].split(\".\")\n",
    "    test_keyframe = getattr(new_keyframes, funk_name)\n",
    "    \n",
    "\n",
    "dropdown_keyframe = widgets.Dropdown(\n",
    "        options = all_keyframes,\n",
    "        value = 1,\n",
    "        description = 'select keyframe')\n",
    "dropdown_keyframe.observe(set_keyframe_value, names='value')\n",
    "display(dropdown_keyframe)"
   ]
  },
  {
   "cell_type": "code",
   "execution_count": 35,
   "metadata": {},
   "outputs": [
    {
     "data": {
      "text/plain": [
       "(['HeadYaw',\n",
       "  'HeadPitch',\n",
       "  'LShoulderPitch',\n",
       "  'LShoulderRoll',\n",
       "  'LElbowYaw',\n",
       "  'LElbowRoll',\n",
       "  'LHipYawPitch',\n",
       "  'LHipRoll',\n",
       "  'LHipPitch',\n",
       "  'LKneePitch',\n",
       "  'LAnklePitch',\n",
       "  'LAnkleRoll',\n",
       "  'RShoulderPitch',\n",
       "  'RShoulderRoll',\n",
       "  'RElbowYaw',\n",
       "  'RElbowRoll',\n",
       "  'RHipYawPitch',\n",
       "  'RHipRoll',\n",
       "  'RHipPitch',\n",
       "  'RKneePitch',\n",
       "  'RAnklePitch',\n",
       "  'RAnkleRoll',\n",
       "  'LWristYaw',\n",
       "  'LHand',\n",
       "  'RWristYaw',\n",
       "  'RHand'],\n",
       " [[1.0, 2.0, 3.0],\n",
       "  [1.0, 2.0, 3.0],\n",
       "  [1.0, 2.0, 3.0],\n",
       "  [1.0, 2.0, 3.0],\n",
       "  [1.0, 2.0, 3.0],\n",
       "  [1.0, 2.0, 3.0],\n",
       "  [1.0, 2.0, 3.0],\n",
       "  [1.0, 2.0, 3.0],\n",
       "  [1.0, 2.0, 3.0],\n",
       "  [1.0, 2.0, 3.0],\n",
       "  [1.0, 2.0, 3.0],\n",
       "  [1.0, 2.0, 3.0],\n",
       "  [1.0, 2.0, 3.0],\n",
       "  [1.0, 2.0, 3.0],\n",
       "  [1.0, 2.0, 3.0],\n",
       "  [1.0, 2.0, 3.0],\n",
       "  [1.0, 2.0, 3.0],\n",
       "  [1.0, 2.0, 3.0],\n",
       "  [1.0, 2.0, 3.0],\n",
       "  [1.0, 2.0, 3.0],\n",
       "  [1.0, 2.0, 3.0],\n",
       "  [1.0, 2.0, 3.0],\n",
       "  [1.0, 2.0, 3.0],\n",
       "  [1.0, 2.0, 3.0],\n",
       "  [1.0, 2.0, 3.0],\n",
       "  [1.0, 2.0, 3.0]],\n",
       " [[[0.0, [0, 1, 2], [0, 1, 2]],\n",
       "   [0.0, [0, 1, 2], [0, 1, 2]],\n",
       "   [0.0, [0, 1, 2], [0, 1, 2]]],\n",
       "  [[0.0, [0, 1, 2], [0, 1, 2]],\n",
       "   [0.0, [0, 1, 2], [0, 1, 2]],\n",
       "   [0.0, [0, 1, 2], [0, 1, 2]]],\n",
       "  [[0.01, [0, 1, 2], [0, 1, 2]],\n",
       "   [0.01, [0, 1, 2], [0, 1, 2]],\n",
       "   [0.01, [0, 1, 2], [0, 1, 2]]],\n",
       "  [[0.0, [0, 1, 2], [0, 1, 2]],\n",
       "   [0.0, [0, 1, 2], [0, 1, 2]],\n",
       "   [0.0, [0, 1, 2], [0, 1, 2]]],\n",
       "  [[-0.3, [0, 1, 2], [0, 1, 2]],\n",
       "   [-0.7, [0, 1, 2], [0, 1, 2]],\n",
       "   [-1.0, [0, 1, 2], [0, 1, 2]]],\n",
       "  [[-0.25, [0, 1, 2], [0, 1, 2]],\n",
       "   [-0.5, [0, 1, 2], [0, 1, 2]],\n",
       "   [-1.0, [0, 1, 2], [0, 1, 2]]],\n",
       "  [[0.0, [0, 1, 2], [0, 1, 2]],\n",
       "   [0.0, [0, 1, 2], [0, 1, 2]],\n",
       "   [0.0, [0, 1, 2], [0, 1, 2]]],\n",
       "  [[0.0, [0, 1, 2], [0, 1, 2]],\n",
       "   [0.0, [0, 1, 2], [0, 1, 2]],\n",
       "   [0.0, [0, 1, 2], [0, 1, 2]]],\n",
       "  [[0.0, [0, 1, 2], [0, 1, 2]],\n",
       "   [0.0, [0, 1, 2], [0, 1, 2]],\n",
       "   [0.0, [0, 1, 2], [0, 1, 2]]],\n",
       "  [[0.0, [0, 1, 2], [0, 1, 2]],\n",
       "   [0.0, [0, 1, 2], [0, 1, 2]],\n",
       "   [0.0, [0, 1, 2], [0, 1, 2]]],\n",
       "  [[0.0, [0, 1, 2], [0, 1, 2]],\n",
       "   [0.0, [0, 1, 2], [0, 1, 2]],\n",
       "   [0.0, [0, 1, 2], [0, 1, 2]]],\n",
       "  [[0.0, [0, 1, 2], [0, 1, 2]],\n",
       "   [0.0, [0, 1, 2], [0, 1, 2]],\n",
       "   [0.0, [0, 1, 2], [0, 1, 2]]],\n",
       "  [[0.0, [0, 1, 2], [0, 1, 2]],\n",
       "   [0.0, [0, 1, 2], [0, 1, 2]],\n",
       "   [0.0, [0, 1, 2], [0, 1, 2]]],\n",
       "  [[0.0, [0, 1, 2], [0, 1, 2]],\n",
       "   [0.0, [0, 1, 2], [0, 1, 2]],\n",
       "   [0.0, [0, 1, 2], [0, 1, 2]]],\n",
       "  [[0.3, [0, 1, 2], [0, 1, 2]],\n",
       "   [0.7, [0, 1, 2], [0, 1, 2]],\n",
       "   [1.0, [0, 1, 2], [0, 1, 2]]],\n",
       "  [[0.24, [0, 1, 2], [0, 1, 2]],\n",
       "   [0.5, [0, 1, 2], [0, 1, 2]],\n",
       "   [1.0, [0, 1, 2], [0, 1, 2]]],\n",
       "  [[0.0, [0, 1, 2], [0, 1, 2]],\n",
       "   [0.0, [0, 1, 2], [0, 1, 2]],\n",
       "   [0.0, [0, 1, 2], [0, 1, 2]]],\n",
       "  [[0.0, [0, 1, 2], [0, 1, 2]],\n",
       "   [0.0, [0, 1, 2], [0, 1, 2]],\n",
       "   [0.0, [0, 1, 2], [0, 1, 2]]],\n",
       "  [[0.0, [0, 1, 2], [0, 1, 2]],\n",
       "   [0.0, [0, 1, 2], [0, 1, 2]],\n",
       "   [0.0, [0, 1, 2], [0, 1, 2]]],\n",
       "  [[0.0, [0, 1, 2], [0, 1, 2]],\n",
       "   [0.0, [0, 1, 2], [0, 1, 2]],\n",
       "   [0.0, [0, 1, 2], [0, 1, 2]]],\n",
       "  [[0.0, [0, 1, 2], [0, 1, 2]],\n",
       "   [0.0, [0, 1, 2], [0, 1, 2]],\n",
       "   [0.0, [0, 1, 2], [0, 1, 2]]],\n",
       "  [[0.0, [0, 1, 2], [0, 1, 2]],\n",
       "   [0.0, [0, 1, 2], [0, 1, 2]],\n",
       "   [0.0, [0, 1, 2], [0, 1, 2]]],\n",
       "  [[0, [0, 1, 2], [0, 1, 2]],\n",
       "   [0, [0, 1, 2], [0, 1, 2]],\n",
       "   [0, [0, 1, 2], [0, 1, 2]]],\n",
       "  [[0, [0, 1, 2], [0, 1, 2]],\n",
       "   [0, [0, 1, 2], [0, 1, 2]],\n",
       "   [0, [0, 1, 2], [0, 1, 2]]],\n",
       "  [[0, [0, 1, 2], [0, 1, 2]],\n",
       "   [0, [0, 1, 2], [0, 1, 2]],\n",
       "   [0, [0, 1, 2], [0, 1, 2]]],\n",
       "  [[0, [0, 1, 2], [0, 1, 2]],\n",
       "   [0, [0, 1, 2], [0, 1, 2]],\n",
       "   [0, [0, 1, 2], [0, 1, 2]]]])"
      ]
     },
     "execution_count": 35,
     "metadata": {},
     "output_type": "execute_result"
    }
   ],
   "source": [
    "#test_keyframe()"
   ]
  },
  {
   "cell_type": "code",
   "execution_count": 41,
   "metadata": {},
   "outputs": [],
   "source": [
    "agent.keyframes = ([],[],[])\n",
    "agent.keyframes = test_keyframe()\n",
    "#agent.keyframes = hello()"
   ]
  },
  {
   "cell_type": "code",
   "execution_count": 43,
   "metadata": {},
   "outputs": [],
   "source": [
    "agent.keyframes = ([],[],[])"
   ]
  },
  {
   "cell_type": "code",
   "execution_count": null,
   "metadata": {},
   "outputs": [],
   "source": []
  },
  {
   "cell_type": "code",
   "execution_count": null,
   "metadata": {},
   "outputs": [],
   "source": []
  },
  {
   "cell_type": "code",
   "execution_count": null,
   "metadata": {},
   "outputs": [],
   "source": []
  },
  {
   "cell_type": "code",
   "execution_count": null,
   "metadata": {},
   "outputs": [],
   "source": []
  },
  {
   "cell_type": "code",
   "execution_count": null,
   "metadata": {},
   "outputs": [],
   "source": []
  },
  {
   "cell_type": "code",
   "execution_count": null,
   "metadata": {},
   "outputs": [],
   "source": []
  },
  {
   "cell_type": "code",
   "execution_count": null,
   "metadata": {},
   "outputs": [],
   "source": []
  },
  {
   "cell_type": "code",
   "execution_count": null,
   "metadata": {},
   "outputs": [],
   "source": []
  },
  {
   "cell_type": "code",
   "execution_count": null,
   "metadata": {},
   "outputs": [],
   "source": []
  },
  {
   "cell_type": "code",
   "execution_count": null,
   "metadata": {},
   "outputs": [],
   "source": []
  },
  {
   "cell_type": "code",
   "execution_count": null,
   "metadata": {},
   "outputs": [],
   "source": []
  }
 ],
 "metadata": {
  "kernelspec": {
   "display_name": "Python 3",
   "language": "python",
   "name": "python3"
  },
  "language_info": {
   "codemirror_mode": {
    "name": "ipython",
    "version": 3
   },
   "file_extension": ".py",
   "mimetype": "text/x-python",
   "name": "python",
   "nbconvert_exporter": "python",
   "pygments_lexer": "ipython3",
   "version": "3.8.5"
  }
 },
 "nbformat": 4,
 "nbformat_minor": 5
}
