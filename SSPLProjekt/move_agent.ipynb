{
 "cells": [
  {
   "cell_type": "markdown",
   "id": "728a092d",
   "metadata": {},
   "source": [
    "# Imports"
   ]
  },
  {
   "cell_type": "code",
   "execution_count": 1,
   "id": "67a5851b",
   "metadata": {},
   "outputs": [],
   "source": [
    "%matplotlib notebook\n",
    "import os\n",
    "import sys\n",
    "\n",
    "from matplotlib import pylab as plt\n",
    "from collections import deque\n",
    "import numpy as np\n",
    "from IPython.display import IFrame\n",
    "import ipywidgets as widgets\n",
    "import json\n",
    "from ipywidgets import interact\n",
    "\n",
    "from os import listdir\n",
    "from os.path import isfile, join"
   ]
  },
  {
   "cell_type": "code",
   "execution_count": 2,
   "id": "11d63633",
   "metadata": {},
   "outputs": [],
   "source": [
    "sys.path.append(os.path.join(os.path.abspath(os.path.dirname('__file__')), '..', 'software_installation'))\n",
    "sys.path.append(os.path.join(os.path.abspath(os.path.dirname('__file__')), '..', 'joint_control'))\n",
    "sys.path.append(os.path.join(os.path.abspath(os.path.dirname('__file__')), '..', 'distributed_computing'))\n",
    "sys.path.append(os.path.join(os.path.abspath(os.path.dirname('__file__')), '..', 'introduction'))\n",
    "sys.path.append(os.path.join(os.path.abspath(os.path.dirname('__file__')), '..', 'kinematics'))\n",
    "\n",
    "from keyframes import *"
   ]
  },
  {
   "cell_type": "code",
   "execution_count": 3,
   "id": "be35b6da",
   "metadata": {},
   "outputs": [],
   "source": [
    "from inverse_kinematics import InverseKinematicsAgent"
   ]
  },
  {
   "cell_type": "code",
   "execution_count": 5,
   "id": "7d922c78",
   "metadata": {},
   "outputs": [],
   "source": [
    "agent = InverseKinematicsAgent()\n",
    "agent.start()"
   ]
  },
  {
   "cell_type": "markdown",
   "id": "e51bbbdf",
   "metadata": {},
   "source": [
    "# Nützliche Funktionen"
   ]
  },
  {
   "cell_type": "code",
   "execution_count": 6,
   "id": "4465dc4c",
   "metadata": {},
   "outputs": [],
   "source": [
    "#agent.joint_names\n",
    "#agent.__dict__\n",
    "#dir(agent)\n",
    "#agent.target_joints\n",
    "#agent.transforms"
   ]
  },
  {
   "cell_type": "code",
   "execution_count": 6,
   "id": "22a90f41",
   "metadata": {},
   "outputs": [],
   "source": []
  },
  {
   "cell_type": "code",
   "execution_count": 28,
   "id": "dfbcc1e0",
   "metadata": {},
   "outputs": [],
   "source": []
  },
  {
   "cell_type": "code",
   "execution_count": 70,
   "id": "51300d13",
   "metadata": {},
   "outputs": [],
   "source": [
    "#agent.target_joints"
   ]
  },
  {
   "cell_type": "markdown",
   "id": "b2340ae8",
   "metadata": {},
   "source": [
    "## Globale Variablen"
   ]
  },
  {
   "cell_type": "code",
   "execution_count": 6,
   "id": "c11f3cfd",
   "metadata": {},
   "outputs": [],
   "source": [
    "file_name = \"\"\n",
    "time_int = 0\n",
    "time_targets = {}\n",
    "all_keyframes = []\n",
    "all_json_data = []\n",
    "dropdown_value_json = \"\"\n",
    "dropdown_value_keyframe = \"\"\n",
    "test_keyframe = None\n",
    "for key in dict.keys(agent.target_joints):\n",
    "    time_targets[key]={'keys':[],'times':[]} \n",
    "#time_targets['Time'] = []"
   ]
  },
  {
   "cell_type": "markdown",
   "id": "71924885",
   "metadata": {},
   "source": [
    "## GUI Funktionen"
   ]
  },
  {
   "cell_type": "code",
   "execution_count": 7,
   "id": "51be21e4",
   "metadata": {},
   "outputs": [],
   "source": [
    "# updatet die vom Slider gesetzten Werte beim agent\n",
    "def set_joint_target(value, joint):\n",
    "    agent.target_joints[joint] = value\n",
    "    sliders = value    \n",
    "\n",
    "# schreibt die Daten aus time_targets in eine json File\n",
    "def save_Data(b):\n",
    "    global fiel_name\n",
    "    with open(f'Data/{file_name}.json', 'w') as outfile:\n",
    "        data = {}\n",
    "        json.dump(time_targets, outfile)\n",
    "    global fiel_name\n",
    "    with output:\n",
    "        print(f'{file_name}.json generated')\n",
    "\n",
    "#  setzt den input von File Name auf fiele_name\n",
    "def set_FileName(change):\n",
    "    with output2:\n",
    "        global file_name\n",
    "        file_name = change['new']\n",
    "\n",
    "# setzt time_int auf die eingegebene Zeit\n",
    "def set_time(change):\n",
    "    with output3:\n",
    "        global time_int\n",
    "        time_int = int(change['new'])\n",
    "\n",
    "# addet die die Werte von target_joints an time_targets\n",
    "def add_list(b):\n",
    "    global time_int\n",
    "    #time_targets['Time'].append(time_int) \n",
    "    for key in dict.keys(agent.target_joints):\n",
    "            time_targets[key]['keys'].append([float(agent.target_joints[key]),[0,1,2],[0,1,2]])\n",
    "            time_targets[key]['times'].append(float(time_int))\n",
    "            \n",
    "    "
   ]
  },
  {
   "cell_type": "code",
   "execution_count": null,
   "id": "b0e3abe6",
   "metadata": {},
   "outputs": [],
   "source": []
  },
  {
   "cell_type": "markdown",
   "id": "561b4298",
   "metadata": {},
   "source": [
    "## GUI Elemente"
   ]
  },
  {
   "cell_type": "code",
   "execution_count": 8,
   "id": "02aca955",
   "metadata": {},
   "outputs": [
    {
     "data": {
      "application/vnd.jupyter.widget-view+json": {
       "model_id": "6940afd82af5416a8b54353a0d7c2a8c",
       "version_major": 2,
       "version_minor": 0
      },
      "text/plain": [
       "interactive(children=(FloatSlider(value=0.0, description='HeadYaw', max=1.0, min=-1.0, step=0.01), Text(value=…"
      ]
     },
     "metadata": {},
     "output_type": "display_data"
    },
    {
     "data": {
      "application/vnd.jupyter.widget-view+json": {
       "model_id": "c7affbea11cd4ea1896c9b95b0ddec0d",
       "version_major": 2,
       "version_minor": 0
      },
      "text/plain": [
       "interactive(children=(FloatSlider(value=0.0, description='HeadPitch', max=1.0, min=-1.0, step=0.01), Text(valu…"
      ]
     },
     "metadata": {},
     "output_type": "display_data"
    },
    {
     "data": {
      "application/vnd.jupyter.widget-view+json": {
       "model_id": "fc9e44f781844657a6178bdf9490f1cb",
       "version_major": 2,
       "version_minor": 0
      },
      "text/plain": [
       "interactive(children=(FloatSlider(value=0.0, description='LShoulderPitch', max=1.0, min=-1.0, step=0.01), Text…"
      ]
     },
     "metadata": {},
     "output_type": "display_data"
    },
    {
     "data": {
      "application/vnd.jupyter.widget-view+json": {
       "model_id": "c7228e620b5a43d698b1222094d5afc6",
       "version_major": 2,
       "version_minor": 0
      },
      "text/plain": [
       "interactive(children=(FloatSlider(value=0.0, description='LShoulderRoll', max=1.0, min=-1.0, step=0.01), Text(…"
      ]
     },
     "metadata": {},
     "output_type": "display_data"
    },
    {
     "data": {
      "application/vnd.jupyter.widget-view+json": {
       "model_id": "b72c42565efc400f83dcdf01e63d5bd4",
       "version_major": 2,
       "version_minor": 0
      },
      "text/plain": [
       "interactive(children=(FloatSlider(value=0.0, description='LElbowYaw', max=1.0, min=-1.0, step=0.01), Text(valu…"
      ]
     },
     "metadata": {},
     "output_type": "display_data"
    },
    {
     "data": {
      "application/vnd.jupyter.widget-view+json": {
       "model_id": "83f95fa25f2047508919724961c7ba06",
       "version_major": 2,
       "version_minor": 0
      },
      "text/plain": [
       "interactive(children=(FloatSlider(value=0.0, description='LElbowRoll', max=1.0, min=-1.0, step=0.01), Text(val…"
      ]
     },
     "metadata": {},
     "output_type": "display_data"
    },
    {
     "data": {
      "application/vnd.jupyter.widget-view+json": {
       "model_id": "b114546fd3444c55b5921593094bd177",
       "version_major": 2,
       "version_minor": 0
      },
      "text/plain": [
       "interactive(children=(FloatSlider(value=0.0, description='LHipYawPitch', max=1.0, min=-1.0, step=0.01), Text(v…"
      ]
     },
     "metadata": {},
     "output_type": "display_data"
    },
    {
     "data": {
      "application/vnd.jupyter.widget-view+json": {
       "model_id": "a091b50a39ff4f589fed3882f346ead8",
       "version_major": 2,
       "version_minor": 0
      },
      "text/plain": [
       "interactive(children=(FloatSlider(value=0.0, description='LHipRoll', max=1.0, min=-1.0, step=0.01), Text(value…"
      ]
     },
     "metadata": {},
     "output_type": "display_data"
    },
    {
     "data": {
      "application/vnd.jupyter.widget-view+json": {
       "model_id": "14389eccecd44ae6acc39cd55a3c37f2",
       "version_major": 2,
       "version_minor": 0
      },
      "text/plain": [
       "interactive(children=(FloatSlider(value=0.0, description='LHipPitch', max=1.0, min=-1.0, step=0.01), Text(valu…"
      ]
     },
     "metadata": {},
     "output_type": "display_data"
    },
    {
     "data": {
      "application/vnd.jupyter.widget-view+json": {
       "model_id": "c79b589ada1d4223972403977e241390",
       "version_major": 2,
       "version_minor": 0
      },
      "text/plain": [
       "interactive(children=(FloatSlider(value=0.0, description='LKneePitch', max=1.0, min=-1.0, step=0.01), Text(val…"
      ]
     },
     "metadata": {},
     "output_type": "display_data"
    },
    {
     "data": {
      "application/vnd.jupyter.widget-view+json": {
       "model_id": "f926cf7faf8649e38ebc1f2819728798",
       "version_major": 2,
       "version_minor": 0
      },
      "text/plain": [
       "interactive(children=(FloatSlider(value=0.0, description='LAnklePitch', max=1.0, min=-1.0, step=0.01), Text(va…"
      ]
     },
     "metadata": {},
     "output_type": "display_data"
    },
    {
     "data": {
      "application/vnd.jupyter.widget-view+json": {
       "model_id": "632f74de1cb04a54a49f616b397430f2",
       "version_major": 2,
       "version_minor": 0
      },
      "text/plain": [
       "interactive(children=(FloatSlider(value=0.0, description='LAnkleRoll', max=1.0, min=-1.0, step=0.01), Text(val…"
      ]
     },
     "metadata": {},
     "output_type": "display_data"
    },
    {
     "data": {
      "application/vnd.jupyter.widget-view+json": {
       "model_id": "d7d5b09c76b845b2b064218993852e6f",
       "version_major": 2,
       "version_minor": 0
      },
      "text/plain": [
       "interactive(children=(FloatSlider(value=0.0, description='RShoulderPitch', max=1.0, min=-1.0, step=0.01), Text…"
      ]
     },
     "metadata": {},
     "output_type": "display_data"
    },
    {
     "data": {
      "application/vnd.jupyter.widget-view+json": {
       "model_id": "3b8c084f2b454a799aebe0ddca6564d2",
       "version_major": 2,
       "version_minor": 0
      },
      "text/plain": [
       "interactive(children=(FloatSlider(value=0.0, description='RShoulderRoll', max=1.0, min=-1.0, step=0.01), Text(…"
      ]
     },
     "metadata": {},
     "output_type": "display_data"
    },
    {
     "data": {
      "application/vnd.jupyter.widget-view+json": {
       "model_id": "8be0cf9b94fa4ebaa46401f238997934",
       "version_major": 2,
       "version_minor": 0
      },
      "text/plain": [
       "interactive(children=(FloatSlider(value=0.0, description='RElbowYaw', max=1.0, min=-1.0, step=0.01), Text(valu…"
      ]
     },
     "metadata": {},
     "output_type": "display_data"
    },
    {
     "data": {
      "application/vnd.jupyter.widget-view+json": {
       "model_id": "200839f43897479ca257b147f1ff4b96",
       "version_major": 2,
       "version_minor": 0
      },
      "text/plain": [
       "interactive(children=(FloatSlider(value=0.0, description='RElbowRoll', max=1.0, min=-1.0, step=0.01), Text(val…"
      ]
     },
     "metadata": {},
     "output_type": "display_data"
    },
    {
     "data": {
      "application/vnd.jupyter.widget-view+json": {
       "model_id": "288246e0258744098c7e42f7752647f8",
       "version_major": 2,
       "version_minor": 0
      },
      "text/plain": [
       "interactive(children=(FloatSlider(value=0.0, description='RHipYawPitch', max=1.0, min=-1.0, step=0.01), Text(v…"
      ]
     },
     "metadata": {},
     "output_type": "display_data"
    },
    {
     "data": {
      "application/vnd.jupyter.widget-view+json": {
       "model_id": "4c70b7af473548b2993dc8a18456aadd",
       "version_major": 2,
       "version_minor": 0
      },
      "text/plain": [
       "interactive(children=(FloatSlider(value=0.0, description='RHipRoll', max=1.0, min=-1.0, step=0.01), Text(value…"
      ]
     },
     "metadata": {},
     "output_type": "display_data"
    },
    {
     "data": {
      "application/vnd.jupyter.widget-view+json": {
       "model_id": "8d10dfa15065498083b7f998246f82a7",
       "version_major": 2,
       "version_minor": 0
      },
      "text/plain": [
       "interactive(children=(FloatSlider(value=0.0, description='RHipPitch', max=1.0, min=-1.0, step=0.01), Text(valu…"
      ]
     },
     "metadata": {},
     "output_type": "display_data"
    },
    {
     "data": {
      "application/vnd.jupyter.widget-view+json": {
       "model_id": "98550a026db748dd9c5dee9208578050",
       "version_major": 2,
       "version_minor": 0
      },
      "text/plain": [
       "interactive(children=(FloatSlider(value=0.0, description='RKneePitch', max=1.0, min=-1.0, step=0.01), Text(val…"
      ]
     },
     "metadata": {},
     "output_type": "display_data"
    },
    {
     "data": {
      "application/vnd.jupyter.widget-view+json": {
       "model_id": "fa70a933a81e4a77b8b9fc4b600e86e5",
       "version_major": 2,
       "version_minor": 0
      },
      "text/plain": [
       "interactive(children=(FloatSlider(value=0.0, description='RAnklePitch', max=1.0, min=-1.0, step=0.01), Text(va…"
      ]
     },
     "metadata": {},
     "output_type": "display_data"
    },
    {
     "data": {
      "application/vnd.jupyter.widget-view+json": {
       "model_id": "56b6b3cc0f374bcda631612ff10ac60c",
       "version_major": 2,
       "version_minor": 0
      },
      "text/plain": [
       "interactive(children=(FloatSlider(value=0.0, description='RAnkleRoll', max=1.0, min=-1.0, step=0.01), Text(val…"
      ]
     },
     "metadata": {},
     "output_type": "display_data"
    },
    {
     "data": {
      "application/vnd.jupyter.widget-view+json": {
       "model_id": "84875b9b06e747f39352147f1660fc68",
       "version_major": 2,
       "version_minor": 0
      },
      "text/plain": [
       "Button(description='add to list', style=ButtonStyle())"
      ]
     },
     "metadata": {},
     "output_type": "display_data"
    },
    {
     "data": {
      "application/vnd.jupyter.widget-view+json": {
       "model_id": "e9699e00aaaa49bd8bb8a113c916f2ec",
       "version_major": 2,
       "version_minor": 0
      },
      "text/plain": [
       "Text(value='', description='time')"
      ]
     },
     "metadata": {},
     "output_type": "display_data"
    },
    {
     "data": {
      "application/vnd.jupyter.widget-view+json": {
       "model_id": "330563fbfdde44908cfb509afb7ac85e",
       "version_major": 2,
       "version_minor": 0
      },
      "text/plain": [
       "Button(description='save data', style=ButtonStyle())"
      ]
     },
     "metadata": {},
     "output_type": "display_data"
    },
    {
     "data": {
      "application/vnd.jupyter.widget-view+json": {
       "model_id": "28947661487447188f0e5ebe6688dc3b",
       "version_major": 2,
       "version_minor": 0
      },
      "text/plain": [
       "Text(value='', description='File Name')"
      ]
     },
     "metadata": {},
     "output_type": "display_data"
    },
    {
     "data": {
      "application/vnd.jupyter.widget-view+json": {
       "model_id": "07f3cd16d6854121a3d286d7ddda9d41",
       "version_major": 2,
       "version_minor": 0
      },
      "text/plain": [
       "Output()"
      ]
     },
     "metadata": {},
     "output_type": "display_data"
    }
   ],
   "source": [
    "# generates all slider elements\n",
    "for joint in agent.target_joints:\n",
    "    s = widgets.FloatSlider(value=0,min=-1,max=1,step=0.01,description=joint)\n",
    "    t = interact(set_joint_target, value=s, joint=joint)\n",
    "    \n",
    "# input \"File Name\" text field\n",
    "text = widgets.Text(description=\"File Name\")\n",
    "output2 = widgets.Output()\n",
    "text.observe(set_FileName, names='value')\n",
    " \n",
    "# save button\n",
    "btn_save = widgets.Button(description=\"save data\")\n",
    "output = widgets.Output()\n",
    "btn_save.on_click(save_Data)\n",
    "\n",
    "# zeitstempel eingabe\n",
    "input_time = widgets.Text(description=\"time\")\n",
    "output3 = widgets.Output()\n",
    "input_time.observe(set_time, names='value')\n",
    "\n",
    "# add data to list\n",
    "btn_add = widgets.Button(description=\"add to list\")\n",
    "btn_add.on_click(add_list)\n",
    "\n",
    "# elemente anzeigen\n",
    "display( btn_add, input_time, btn_save, text, output)\n",
    "\n"
   ]
  },
  {
   "cell_type": "code",
   "execution_count": 9,
   "id": "c805af29",
   "metadata": {},
   "outputs": [
    {
     "data": {
      "text/plain": [
       "{'HeadYaw': {'keys': [], 'times': []},\n",
       " 'HeadPitch': {'keys': [], 'times': []},\n",
       " 'LShoulderPitch': {'keys': [], 'times': []},\n",
       " 'LShoulderRoll': {'keys': [], 'times': []},\n",
       " 'LElbowYaw': {'keys': [], 'times': []},\n",
       " 'LElbowRoll': {'keys': [], 'times': []},\n",
       " 'LHipYawPitch': {'keys': [], 'times': []},\n",
       " 'LHipRoll': {'keys': [], 'times': []},\n",
       " 'LHipPitch': {'keys': [], 'times': []},\n",
       " 'LKneePitch': {'keys': [], 'times': []},\n",
       " 'LAnklePitch': {'keys': [], 'times': []},\n",
       " 'LAnkleRoll': {'keys': [], 'times': []},\n",
       " 'RShoulderPitch': {'keys': [], 'times': []},\n",
       " 'RShoulderRoll': {'keys': [], 'times': []},\n",
       " 'RElbowYaw': {'keys': [], 'times': []},\n",
       " 'RElbowRoll': {'keys': [], 'times': []},\n",
       " 'RHipYawPitch': {'keys': [], 'times': []},\n",
       " 'RHipRoll': {'keys': [], 'times': []},\n",
       " 'RHipPitch': {'keys': [], 'times': []},\n",
       " 'RKneePitch': {'keys': [], 'times': []},\n",
       " 'RAnklePitch': {'keys': [], 'times': []},\n",
       " 'RAnkleRoll': {'keys': [], 'times': []}}"
      ]
     },
     "execution_count": 9,
     "metadata": {},
     "output_type": "execute_result"
    }
   ],
   "source": [
    "#agent.perception.__dict__\n",
    "time_targets"
   ]
  },
  {
   "cell_type": "code",
   "execution_count": 21,
   "id": "166b761e",
   "metadata": {},
   "outputs": [],
   "source": [
    "#agent.keyframes = rightBackToStand()\n",
    "#agent.keyframes = rightBackToStand()\n",
    "#agent.keyframes = rightBackToStand()\n",
    "#agent.keyframes = rightBackToStand()\n",
    "#agent.keyframes = rightBackToStand()\n",
    "\n",
    "agent.keyframes = ([],[],[])"
   ]
  },
  {
   "cell_type": "markdown",
   "id": "a6259e5c",
   "metadata": {},
   "source": [
    "## generate keyframe form JSON"
   ]
  },
  {
   "cell_type": "code",
   "execution_count": null,
   "id": "39744c1b",
   "metadata": {},
   "outputs": [],
   "source": []
  },
  {
   "cell_type": "code",
   "execution_count": 10,
   "id": "c174fe7f",
   "metadata": {},
   "outputs": [],
   "source": [
    "# add all elements to dropdown\n",
    "def set_all_keyframes():\n",
    "    dir_list=listdir('./new_keyframes')\n",
    "    global all_keyframes\n",
    "    all_keyframes = []\n",
    "    c=1\n",
    "    for i in dir_list:\n",
    "        if \".py\" in i:\n",
    "            all_keyframes.append((i,c))\n",
    "            c = c+1\n",
    "    \n",
    "    \n",
    "def set_dropdown_value(change):\n",
    "    global dropdown_value_json\n",
    "    dropdown_value_json = \"\"\n",
    "    dropdown_value_json = all_json_data[change[\"new\"]-1][0]\n",
    "\n",
    "# add all elements to dropdown\n",
    "def set_all_data(b):\n",
    "    dir_list=listdir('./Data')\n",
    "    global all_json_data\n",
    "    all_json_data = []\n",
    "    c=1\n",
    "    for i in dir_list:\n",
    "        if \".json\" in i:\n",
    "            all_json_data.append((i,c))\n",
    "            c = c+1\n",
    "    # dropdown\n",
    "    dropdown = widgets.Dropdown(\n",
    "        options = all_json_data,\n",
    "        value = 1,\n",
    "        description = 'json Data')\n",
    "    output4 = widgets.Output()\n",
    "    dropdown.observe(set_dropdown_value, names='value')\n",
    "    display(dropdown)\n",
    "    \n",
    "    # generate btn\n",
    "    btn_generate = widgets.Button(description=\"generate keyframe\")\n",
    "    output_g = widgets.Output()\n",
    "    btn_generate.on_click(keyframe_from_JSON)\n",
    "    display(btn_generate)\n",
    "            \n",
    "            \n",
    "# generate keyFrame from json File\n",
    "def keyframe_from_JSON(b):\n",
    "    global dropdown_value_json\n",
    "    file_name_json = dropdown_value_json\n",
    "    with open(f\"Data/{file_name_json}\") as jsonFile:\n",
    "        jsonObject = json.load(jsonFile)\n",
    "        jsonFile.close()\n",
    "        \n",
    "    name,_json = file_name_json.split(\".\") \n",
    "    f = open(f'new_keyframes/{name}.py', 'w')\n",
    "    f.write(f\"def {name}():\\n\\tnames = list()\\n\\ttimes = list()\\n\\tkeys = list() \")\n",
    "    times = \"times\"\n",
    "    keys = \"keys\"\n",
    "    #print(jsonObject)\n",
    "    for key in dict.keys(jsonObject):\n",
    "        if key != \"Time\":\n",
    "            f.write(f\"\\n\\n\\tnames.append('{key}')\")\n",
    "            f.write(f\"\\n\\ttimes.append({jsonObject[key][keys]})\")\n",
    "            f.write(f\"\\n\\tkeys.append({jsonObject[key][times]})\")\n",
    "    f.close()\n",
    "    set_all_keyframes()\n",
    "    \n",
    "                        "
   ]
  },
  {
   "cell_type": "code",
   "execution_count": 11,
   "id": "2c094776",
   "metadata": {},
   "outputs": [
    {
     "data": {
      "application/vnd.jupyter.widget-view+json": {
       "model_id": "1a4d5b0bc0d1422a8c05649a0999533c",
       "version_major": 2,
       "version_minor": 0
      },
      "text/plain": [
       "Button(description='get DATA', style=ButtonStyle())"
      ]
     },
     "metadata": {},
     "output_type": "display_data"
    },
    {
     "data": {
      "application/vnd.jupyter.widget-view+json": {
       "model_id": "3c0d62253fb84349bd674f05520bd771",
       "version_major": 2,
       "version_minor": 0
      },
      "text/plain": [
       "Dropdown(description='json Data', options=(('new_test.json', 1), ('test_1.json', 2)), value=1)"
      ]
     },
     "metadata": {},
     "output_type": "display_data"
    },
    {
     "data": {
      "application/vnd.jupyter.widget-view+json": {
       "model_id": "19950d279d4149ad9da34621ab769b6b",
       "version_major": 2,
       "version_minor": 0
      },
      "text/plain": [
       "Button(description='generate keyframe', style=ButtonStyle())"
      ]
     },
     "metadata": {},
     "output_type": "display_data"
    },
    {
     "ename": "PermissionError",
     "evalue": "[Errno 13] Permission denied: 'Data/'",
     "output_type": "error",
     "traceback": [
      "\u001b[1;31m---------------------------------------------------------------------------\u001b[0m",
      "\u001b[1;31mPermissionError\u001b[0m                           Traceback (most recent call last)",
      "\u001b[1;32m<ipython-input-10-9e55acf39c9e>\u001b[0m in \u001b[0;36mkeyframe_from_JSON\u001b[1;34m(b)\u001b[0m\n\u001b[0;32m     46\u001b[0m     \u001b[1;32mglobal\u001b[0m \u001b[0mdropdown_value_json\u001b[0m\u001b[1;33m\u001b[0m\u001b[1;33m\u001b[0m\u001b[0m\n\u001b[0;32m     47\u001b[0m     \u001b[0mfile_name_json\u001b[0m \u001b[1;33m=\u001b[0m \u001b[0mdropdown_value_json\u001b[0m\u001b[1;33m\u001b[0m\u001b[1;33m\u001b[0m\u001b[0m\n\u001b[1;32m---> 48\u001b[1;33m     \u001b[1;32mwith\u001b[0m \u001b[0mopen\u001b[0m\u001b[1;33m(\u001b[0m\u001b[1;34mf\"Data/{file_name_json}\"\u001b[0m\u001b[1;33m)\u001b[0m \u001b[1;32mas\u001b[0m \u001b[0mjsonFile\u001b[0m\u001b[1;33m:\u001b[0m\u001b[1;33m\u001b[0m\u001b[1;33m\u001b[0m\u001b[0m\n\u001b[0m\u001b[0;32m     49\u001b[0m         \u001b[0mjsonObject\u001b[0m \u001b[1;33m=\u001b[0m \u001b[0mjson\u001b[0m\u001b[1;33m.\u001b[0m\u001b[0mload\u001b[0m\u001b[1;33m(\u001b[0m\u001b[0mjsonFile\u001b[0m\u001b[1;33m)\u001b[0m\u001b[1;33m\u001b[0m\u001b[1;33m\u001b[0m\u001b[0m\n\u001b[0;32m     50\u001b[0m         \u001b[0mjsonFile\u001b[0m\u001b[1;33m.\u001b[0m\u001b[0mclose\u001b[0m\u001b[1;33m(\u001b[0m\u001b[1;33m)\u001b[0m\u001b[1;33m\u001b[0m\u001b[1;33m\u001b[0m\u001b[0m\n",
      "\u001b[1;31mPermissionError\u001b[0m: [Errno 13] Permission denied: 'Data/'"
     ]
    }
   ],
   "source": [
    "btn_folder = widgets.Button(description=\"get DATA\")\n",
    "btn_folder.on_click(set_all_data)\n",
    "display(btn_folder)\n"
   ]
  },
  {
   "cell_type": "markdown",
   "id": "ada7e143",
   "metadata": {},
   "source": [
    "## Testing keyframe"
   ]
  },
  {
   "cell_type": "code",
   "execution_count": 37,
   "id": "ef9da498",
   "metadata": {},
   "outputs": [],
   "source": []
  },
  {
   "cell_type": "code",
   "execution_count": 34,
   "id": "cb85f0a4",
   "metadata": {},
   "outputs": [],
   "source": [
    "def set_keyframe_value(change):\n",
    "    global dropdown_value_keyframe\n",
    "    dropdown_value_keyframe = \"\"\n",
    "    dropdown_value_keyframe = all_keyframes[change[\"new\"]-1][0]\n",
    "    funk_name,_py = dropdown_value_keyframe.split(\".\") \n",
    "    #test_keyframe = funk_name()\n",
    "    print(f\"set dropdown_value_keyframe = {dropdown_value_keyframe}\")\n",
    "    print(f\"set test_keyframe = {funk_name}()\")"
   ]
  },
  {
   "cell_type": "code",
   "execution_count": 35,
   "id": "6df6fd5e",
   "metadata": {},
   "outputs": [
    {
     "data": {
      "application/vnd.jupyter.widget-view+json": {
       "model_id": "71aacafb31024ad0a5363278b90896a4",
       "version_major": 2,
       "version_minor": 0
      },
      "text/plain": [
       "Dropdown(description='select keyframe', options=(('new_test.py', 1), ('test_1.py', 2)), value=1)"
      ]
     },
     "metadata": {},
     "output_type": "display_data"
    },
    {
     "name": "stdout",
     "output_type": "stream",
     "text": [
      "set dropdown_value_keyframe = test_1.py\n",
      "set test_keyframe = test_1()\n"
     ]
    }
   ],
   "source": [
    "if len(all_keyframes)==0:\n",
    "    set_all_keyframes()\n",
    "    \n",
    "\n",
    "dropdown_keyframe = widgets.Dropdown(\n",
    "        options = all_keyframes,\n",
    "        value = 1,\n",
    "        description = 'select keyframe')\n",
    "dropdown_keyframe.observe(set_keyframe_value, names='value')\n",
    "display(dropdown_keyframe)"
   ]
  },
  {
   "cell_type": "code",
   "execution_count": null,
   "id": "6ffd3ba4",
   "metadata": {},
   "outputs": [],
   "source": []
  },
  {
   "cell_type": "code",
   "execution_count": null,
   "id": "0fd47720",
   "metadata": {},
   "outputs": [],
   "source": []
  },
  {
   "cell_type": "code",
   "execution_count": null,
   "id": "9722df0c",
   "metadata": {},
   "outputs": [],
   "source": []
  },
  {
   "cell_type": "code",
   "execution_count": 43,
   "id": "db2f2969",
   "metadata": {},
   "outputs": [],
   "source": [
    "sys.path.append(os.path.join(os.path.abspath(os.path.dirname('__file__')), '', 'new_keyframes'))\n",
    "\n",
    "from new_keyframes import *"
   ]
  },
  {
   "cell_type": "code",
   "execution_count": 42,
   "id": "b1006472",
   "metadata": {},
   "outputs": [
    {
     "ename": "NameError",
     "evalue": "name 'test_1' is not defined",
     "output_type": "error",
     "traceback": [
      "\u001b[1;31m---------------------------------------------------------------------------\u001b[0m",
      "\u001b[1;31mNameError\u001b[0m                                 Traceback (most recent call last)",
      "\u001b[1;32m<ipython-input-42-37058b007060>\u001b[0m in \u001b[0;36m<module>\u001b[1;34m\u001b[0m\n\u001b[1;32m----> 1\u001b[1;33m \u001b[0mtest_keyframe\u001b[0m \u001b[1;33m=\u001b[0m \u001b[0mtest_1\u001b[0m\u001b[1;33m(\u001b[0m\u001b[1;33m)\u001b[0m\u001b[1;33m\u001b[0m\u001b[1;33m\u001b[0m\u001b[0m\n\u001b[0m",
      "\u001b[1;31mNameError\u001b[0m: name 'test_1' is not defined"
     ]
    }
   ],
   "source": [
    "test_keyframe = test_1()"
   ]
  },
  {
   "cell_type": "code",
   "execution_count": null,
   "id": "521959c7",
   "metadata": {},
   "outputs": [],
   "source": []
  },
  {
   "cell_type": "code",
   "execution_count": 32,
   "id": "79af3b79",
   "metadata": {},
   "outputs": [],
   "source": []
  },
  {
   "cell_type": "code",
   "execution_count": null,
   "id": "a2028541",
   "metadata": {},
   "outputs": [],
   "source": []
  },
  {
   "cell_type": "code",
   "execution_count": null,
   "id": "c21fc720",
   "metadata": {},
   "outputs": [],
   "source": []
  },
  {
   "cell_type": "code",
   "execution_count": null,
   "id": "6628538c",
   "metadata": {},
   "outputs": [],
   "source": []
  },
  {
   "cell_type": "code",
   "execution_count": null,
   "id": "49505c58",
   "metadata": {},
   "outputs": [],
   "source": []
  },
  {
   "cell_type": "code",
   "execution_count": null,
   "id": "d24fb537",
   "metadata": {},
   "outputs": [],
   "source": []
  },
  {
   "cell_type": "code",
   "execution_count": null,
   "id": "9bc0ebc3",
   "metadata": {},
   "outputs": [],
   "source": []
  },
  {
   "cell_type": "code",
   "execution_count": null,
   "id": "8f347c85",
   "metadata": {},
   "outputs": [],
   "source": []
  }
 ],
 "metadata": {
  "kernelspec": {
   "display_name": "Python 3",
   "language": "python",
   "name": "python3"
  },
  "language_info": {
   "codemirror_mode": {
    "name": "ipython",
    "version": 3
   },
   "file_extension": ".py",
   "mimetype": "text/x-python",
   "name": "python",
   "nbconvert_exporter": "python",
   "pygments_lexer": "ipython3",
   "version": "3.8.8"
  }
 },
 "nbformat": 4,
 "nbformat_minor": 5
}
