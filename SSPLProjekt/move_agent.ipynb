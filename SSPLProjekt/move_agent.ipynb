{
 "cells": [
  {
   "cell_type": "markdown",
   "metadata": {},
   "source": [
    "# Imports"
   ]
  },
  {
   "cell_type": "code",
   "execution_count": 1,
   "metadata": {},
   "outputs": [],
   "source": [
    "%matplotlib notebook\n",
    "import os\n",
    "import sys\n",
    "\n",
    "from matplotlib import pylab as plt\n",
    "from collections import deque\n",
    "import numpy as np\n",
    "from IPython.display import IFrame\n",
    "import ipywidgets as widgets\n",
    "import json\n",
    "from ipywidgets import interact\n",
    "\n",
    "from os import listdir\n",
    "from os.path import isfile, join"
   ]
  },
  {
   "cell_type": "code",
   "execution_count": 2,
   "metadata": {},
   "outputs": [],
   "source": [
    "sys.path.append(os.path.join(os.path.abspath(os.path.dirname('__file__')), '..', 'software_installation'))\n",
    "sys.path.append(os.path.join(os.path.abspath(os.path.dirname('__file__')), '..', 'joint_control'))\n",
    "sys.path.append(os.path.join(os.path.abspath(os.path.dirname('__file__')), '..', 'distributed_computing'))\n",
    "sys.path.append(os.path.join(os.path.abspath(os.path.dirname('__file__')), '..', 'introduction'))\n",
    "sys.path.append(os.path.join(os.path.abspath(os.path.dirname('__file__')), '..', 'kinematics'))\n",
    "\n",
    "from keyframes import *"
   ]
  },
  {
   "cell_type": "code",
   "execution_count": 3,
   "metadata": {},
   "outputs": [],
   "source": [
    "from inverse_kinematics import InverseKinematicsAgent"
   ]
  },
  {
   "cell_type": "code",
   "execution_count": 4,
   "metadata": {},
   "outputs": [],
   "source": [
    "agent = InverseKinematicsAgent()\n",
    "agent.start()"
   ]
  },
  {
   "cell_type": "markdown",
   "metadata": {},
   "source": [
    "# Nützliche Funktionen"
   ]
  },
  {
   "cell_type": "code",
   "execution_count": 5,
   "metadata": {},
   "outputs": [],
   "source": [
    "#agent.joint_names\n",
    "#agent.__dict__\n",
    "#dir(agent)\n",
    "#agent.target_joints\n",
    "#agent.transforms"
   ]
  },
  {
   "cell_type": "code",
   "execution_count": null,
   "metadata": {},
   "outputs": [],
   "source": []
  },
  {
   "cell_type": "code",
   "execution_count": null,
   "metadata": {},
   "outputs": [],
   "source": []
  },
  {
   "cell_type": "code",
   "execution_count": 6,
   "metadata": {},
   "outputs": [],
   "source": [
    "#agent.target_joints"
   ]
  },
  {
   "cell_type": "markdown",
   "metadata": {},
   "source": [
    "## Globale Variablen"
   ]
  },
  {
   "cell_type": "code",
   "execution_count": 7,
   "metadata": {},
   "outputs": [],
   "source": [
    "file_name = \"\"\n",
    "time_int = 0\n",
    "time_targets = {}\n",
    "all_keyframes = []\n",
    "all_json_data = []\n",
    "dropdown_value_json = \"\"\n",
    "dropdown_value_keyframe = \"\"\n",
    "test_keyframe = None\n",
    "for key in dict.keys(agent.target_joints):\n",
    "    time_targets[key]={'keys':[],'times':[]}\n",
    "time_targets[\"LWristYaw\"] = {'keys':[],'times':[]}\n",
    "time_targets[\"LHand\"] = {'keys':[],'times':[]}\n",
    "time_targets[\"RWristYaw\"] = {'keys':[],'times':[]}\n",
    "time_targets[\"RHand\"] = {'keys':[],'times':[]}\n",
    "#time_targets[\"LHand\"] = {'keys':[],'times':[]}\n",
    "#time_targets['Time'] = []"
   ]
  },
  {
   "cell_type": "markdown",
   "metadata": {},
   "source": [
    "## GUI Funktionen"
   ]
  },
  {
   "cell_type": "code",
   "execution_count": 8,
   "metadata": {},
   "outputs": [],
   "source": [
    "# updatet die vom Slider gesetzten Werte beim agent\n",
    "def set_joint_target(value, joint):\n",
    "    agent.target_joints[joint] = value\n",
    "    sliders = value    \n",
    "\n",
    "# schreibt die Daten aus time_targets in eine json File\n",
    "def save_Data(b):\n",
    "    global fiel_name\n",
    "    with open(f'Data/{file_name}.json', 'w') as outfile:\n",
    "        data = {}\n",
    "        json.dump(time_targets, outfile)\n",
    "    global fiel_name\n",
    "    with output:\n",
    "        print(f'{file_name}.json generated')\n",
    "\n",
    "#  setzt den input von File Name auf fiele_name\n",
    "def set_FileName(change):\n",
    "    with output2:\n",
    "        global file_name\n",
    "        file_name = change['new']\n",
    "\n",
    "# setzt time_int auf die eingegebene Zeit\n",
    "def set_time(change):\n",
    "    with output3:\n",
    "        global time_int\n",
    "        time_int = float(change['new'])\n",
    "\n",
    "# addet die die Werte von target_joints an time_targets\n",
    "def add_list(b):\n",
    "    global time_int\n",
    "    #time_targets['Time'].append(time_int) \n",
    "    for key in dict.keys(time_targets):\n",
    "        try:\n",
    "            time_targets[key]['keys'].append([float(agent.target_joints[key]),[0,1,2],[0,1,2]])\n",
    "            time_targets[key]['times'].append(float(time_int))\n",
    "        except:\n",
    "            time_targets[key]['keys'].append([0,[0,1,2],[0,1,2]])\n",
    "            time_targets[key]['times'].append(float(time_int))           \n",
    "    "
   ]
  },
  {
   "cell_type": "code",
   "execution_count": null,
   "metadata": {},
   "outputs": [],
   "source": []
  },
  {
   "cell_type": "markdown",
   "metadata": {},
   "source": [
    "## GUI Elemente"
   ]
  },
  {
   "cell_type": "code",
   "execution_count": 9,
   "metadata": {},
   "outputs": [
    {
     "data": {
      "application/vnd.jupyter.widget-view+json": {
       "model_id": "33488ff700b347839daf57aebc69785f",
       "version_major": 2,
       "version_minor": 0
      },
      "text/plain": [
       "interactive(children=(FloatSlider(value=0.0, description='HeadYaw', max=2.0, min=-2.0, step=0.01), Text(value=…"
      ]
     },
     "metadata": {},
     "output_type": "display_data"
    },
    {
     "data": {
      "application/vnd.jupyter.widget-view+json": {
       "model_id": "4aef3f3ed31b447ca7bbaf0749d511df",
       "version_major": 2,
       "version_minor": 0
      },
      "text/plain": [
       "interactive(children=(FloatSlider(value=0.0, description='HeadPitch', max=2.0, min=-2.0, step=0.01), Text(valu…"
      ]
     },
     "metadata": {},
     "output_type": "display_data"
    },
    {
     "data": {
      "application/vnd.jupyter.widget-view+json": {
       "model_id": "bd501bddff8f4de988d3475be8a63c22",
       "version_major": 2,
       "version_minor": 0
      },
      "text/plain": [
       "interactive(children=(FloatSlider(value=1.49, description='LShoulderPitch', max=2.0, min=-2.0, step=0.01), Tex…"
      ]
     },
     "metadata": {},
     "output_type": "display_data"
    },
    {
     "data": {
      "application/vnd.jupyter.widget-view+json": {
       "model_id": "fa28e319b72d48fba02b5ad009eb001b",
       "version_major": 2,
       "version_minor": 0
      },
      "text/plain": [
       "interactive(children=(FloatSlider(value=0.0, description='LShoulderRoll', max=2.0, min=-2.0, step=0.01), Text(…"
      ]
     },
     "metadata": {},
     "output_type": "display_data"
    },
    {
     "data": {
      "application/vnd.jupyter.widget-view+json": {
       "model_id": "9068b41ca59d48b2a3c46982683807a0",
       "version_major": 2,
       "version_minor": 0
      },
      "text/plain": [
       "interactive(children=(FloatSlider(value=-1.15, description='LElbowYaw', max=2.0, min=-2.0, step=0.01), Text(va…"
      ]
     },
     "metadata": {},
     "output_type": "display_data"
    },
    {
     "data": {
      "application/vnd.jupyter.widget-view+json": {
       "model_id": "64b80881f8614d4f8d4e7d1d1cbdbfcc",
       "version_major": 2,
       "version_minor": 0
      },
      "text/plain": [
       "interactive(children=(FloatSlider(value=0.0, description='LElbowRoll', max=2.0, min=-2.0, step=0.01), Text(val…"
      ]
     },
     "metadata": {},
     "output_type": "display_data"
    },
    {
     "data": {
      "application/vnd.jupyter.widget-view+json": {
       "model_id": "9921c91f2a9149e0ac602bcbb8926014",
       "version_major": 2,
       "version_minor": 0
      },
      "text/plain": [
       "interactive(children=(FloatSlider(value=0.0, description='LHipYawPitch', max=2.0, min=-2.0, step=0.01), Text(v…"
      ]
     },
     "metadata": {},
     "output_type": "display_data"
    },
    {
     "data": {
      "application/vnd.jupyter.widget-view+json": {
       "model_id": "92916fccac6b484da345c75608eded8e",
       "version_major": 2,
       "version_minor": 0
      },
      "text/plain": [
       "interactive(children=(FloatSlider(value=0.0, description='LHipRoll', max=2.0, min=-2.0, step=0.01), Text(value…"
      ]
     },
     "metadata": {},
     "output_type": "display_data"
    },
    {
     "data": {
      "application/vnd.jupyter.widget-view+json": {
       "model_id": "c8021ebed2cc4f32bed383624f96d16c",
       "version_major": 2,
       "version_minor": 0
      },
      "text/plain": [
       "interactive(children=(FloatSlider(value=0.0, description='LHipPitch', max=2.0, min=-2.0, step=0.01), Text(valu…"
      ]
     },
     "metadata": {},
     "output_type": "display_data"
    },
    {
     "data": {
      "application/vnd.jupyter.widget-view+json": {
       "model_id": "112d04cd21f94864bc9a3f449230e53e",
       "version_major": 2,
       "version_minor": 0
      },
      "text/plain": [
       "interactive(children=(FloatSlider(value=0.0, description='LKneePitch', max=2.0, min=-2.0, step=0.01), Text(val…"
      ]
     },
     "metadata": {},
     "output_type": "display_data"
    },
    {
     "data": {
      "application/vnd.jupyter.widget-view+json": {
       "model_id": "3639ad6ab869459781b9ad9ff0d7f382",
       "version_major": 2,
       "version_minor": 0
      },
      "text/plain": [
       "interactive(children=(FloatSlider(value=0.0, description='LAnklePitch', max=2.0, min=-2.0, step=0.01), Text(va…"
      ]
     },
     "metadata": {},
     "output_type": "display_data"
    },
    {
     "data": {
      "application/vnd.jupyter.widget-view+json": {
       "model_id": "15ca484e1da14b19b06da604a82ef947",
       "version_major": 2,
       "version_minor": 0
      },
      "text/plain": [
       "interactive(children=(FloatSlider(value=0.0, description='LAnkleRoll', max=2.0, min=-2.0, step=0.01), Text(val…"
      ]
     },
     "metadata": {},
     "output_type": "display_data"
    },
    {
     "data": {
      "application/vnd.jupyter.widget-view+json": {
       "model_id": "f687a792faeb4a25ba37e7b7916338b9",
       "version_major": 2,
       "version_minor": 0
      },
      "text/plain": [
       "interactive(children=(FloatSlider(value=1.49, description='RShoulderPitch', max=2.0, min=-2.0, step=0.01), Tex…"
      ]
     },
     "metadata": {},
     "output_type": "display_data"
    },
    {
     "data": {
      "application/vnd.jupyter.widget-view+json": {
       "model_id": "cccb44f59e8248d69abc78289daf01d7",
       "version_major": 2,
       "version_minor": 0
      },
      "text/plain": [
       "interactive(children=(FloatSlider(value=0.0, description='RShoulderRoll', max=2.0, min=-2.0, step=0.01), Text(…"
      ]
     },
     "metadata": {},
     "output_type": "display_data"
    },
    {
     "data": {
      "application/vnd.jupyter.widget-view+json": {
       "model_id": "10bdd070b18a46fea6b4b326213b91dd",
       "version_major": 2,
       "version_minor": 0
      },
      "text/plain": [
       "interactive(children=(FloatSlider(value=1.07, description='RElbowYaw', max=2.0, min=-2.0, step=0.01), Text(val…"
      ]
     },
     "metadata": {},
     "output_type": "display_data"
    },
    {
     "data": {
      "application/vnd.jupyter.widget-view+json": {
       "model_id": "892999539378454b867b45b135491171",
       "version_major": 2,
       "version_minor": 0
      },
      "text/plain": [
       "interactive(children=(FloatSlider(value=0.0, description='RElbowRoll', max=2.0, min=-2.0, step=0.01), Text(val…"
      ]
     },
     "metadata": {},
     "output_type": "display_data"
    },
    {
     "data": {
      "application/vnd.jupyter.widget-view+json": {
       "model_id": "8e3f07c2a178469b9d242fd050ecf278",
       "version_major": 2,
       "version_minor": 0
      },
      "text/plain": [
       "interactive(children=(FloatSlider(value=0.0, description='RHipYawPitch', max=2.0, min=-2.0, step=0.01), Text(v…"
      ]
     },
     "metadata": {},
     "output_type": "display_data"
    },
    {
     "data": {
      "application/vnd.jupyter.widget-view+json": {
       "model_id": "96fd965a6db64f29aa2d7634f5a8a213",
       "version_major": 2,
       "version_minor": 0
      },
      "text/plain": [
       "interactive(children=(FloatSlider(value=0.0, description='RHipRoll', max=2.0, min=-2.0, step=0.01), Text(value…"
      ]
     },
     "metadata": {},
     "output_type": "display_data"
    },
    {
     "data": {
      "application/vnd.jupyter.widget-view+json": {
       "model_id": "fe9c3c6038084e49af47fa9fcced6596",
       "version_major": 2,
       "version_minor": 0
      },
      "text/plain": [
       "interactive(children=(FloatSlider(value=0.0, description='RHipPitch', max=2.0, min=-2.0, step=0.01), Text(valu…"
      ]
     },
     "metadata": {},
     "output_type": "display_data"
    },
    {
     "data": {
      "application/vnd.jupyter.widget-view+json": {
       "model_id": "a8ce4434e02649bbb9b8976ea7e18d81",
       "version_major": 2,
       "version_minor": 0
      },
      "text/plain": [
       "interactive(children=(FloatSlider(value=0.0, description='RKneePitch', max=2.0, min=-2.0, step=0.01), Text(val…"
      ]
     },
     "metadata": {},
     "output_type": "display_data"
    },
    {
     "data": {
      "application/vnd.jupyter.widget-view+json": {
       "model_id": "6c386fc303c147aab42f26fc339b3f4d",
       "version_major": 2,
       "version_minor": 0
      },
      "text/plain": [
       "interactive(children=(FloatSlider(value=0.0, description='RAnklePitch', max=2.0, min=-2.0, step=0.01), Text(va…"
      ]
     },
     "metadata": {},
     "output_type": "display_data"
    },
    {
     "data": {
      "application/vnd.jupyter.widget-view+json": {
       "model_id": "89d7f11dcfda47f09d4aefa537339d38",
       "version_major": 2,
       "version_minor": 0
      },
      "text/plain": [
       "interactive(children=(FloatSlider(value=0.0, description='RAnkleRoll', max=2.0, min=-2.0, step=0.01), Text(val…"
      ]
     },
     "metadata": {},
     "output_type": "display_data"
    },
    {
     "data": {
      "application/vnd.jupyter.widget-view+json": {
       "model_id": "a9b0f07fbd3046cdbe4eeea61319ba34",
       "version_major": 2,
       "version_minor": 0
      },
      "text/plain": [
       "Button(description='add to list', style=ButtonStyle())"
      ]
     },
     "metadata": {},
     "output_type": "display_data"
    },
    {
     "data": {
      "application/vnd.jupyter.widget-view+json": {
       "model_id": "9e6464b34d2e403f810f045757eb193d",
       "version_major": 2,
       "version_minor": 0
      },
      "text/plain": [
       "Text(value='', description='time')"
      ]
     },
     "metadata": {},
     "output_type": "display_data"
    },
    {
     "data": {
      "application/vnd.jupyter.widget-view+json": {
       "model_id": "ca042ad0b65a45a58366a13273bba721",
       "version_major": 2,
       "version_minor": 0
      },
      "text/plain": [
       "Button(description='save data', style=ButtonStyle())"
      ]
     },
     "metadata": {},
     "output_type": "display_data"
    },
    {
     "data": {
      "application/vnd.jupyter.widget-view+json": {
       "model_id": "064588cfa3ca412d9d0fbcedea444e4e",
       "version_major": 2,
       "version_minor": 0
      },
      "text/plain": [
       "Text(value='', description='File Name')"
      ]
     },
     "metadata": {},
     "output_type": "display_data"
    },
    {
     "data": {
      "application/vnd.jupyter.widget-view+json": {
       "model_id": "c2f52fcbaa50499a8e1c8de6230196f8",
       "version_major": 2,
       "version_minor": 0
      },
      "text/plain": [
       "Output()"
      ]
     },
     "metadata": {},
     "output_type": "display_data"
    }
   ],
   "source": [
    "# generates all slider elements\n",
    "for joint in agent.target_joints:\n",
    "    val = 0\n",
    "    if joint == \"LShoulderPitch\":\n",
    "        val = 1.49\n",
    "    elif joint == 'LElbowYaw':\n",
    "        val = -1.15\n",
    "    elif joint == 'RShoulderPitch':\n",
    "        val = 1.49\n",
    "    elif joint == 'RElbowYaw':\n",
    "        val = 1.07\n",
    "        \n",
    "    s = widgets.FloatSlider(value=val,min=-2,max=2,step=0.01,description=joint)\n",
    "    t = interact(set_joint_target, value=s, joint=joint)\n",
    "    \n",
    "# input \"File Name\" text field\n",
    "text = widgets.Text(description=\"File Name\")\n",
    "output2 = widgets.Output()\n",
    "text.observe(set_FileName, names='value')\n",
    " \n",
    "# save button\n",
    "btn_save = widgets.Button(description=\"save data\")\n",
    "output = widgets.Output()\n",
    "btn_save.on_click(save_Data)\n",
    "\n",
    "# zeitstempel eingabe\n",
    "input_time = widgets.Text(description=\"time\")\n",
    "output3 = widgets.Output()\n",
    "input_time.observe(set_time, names='value')\n",
    "\n",
    "# add data to list\n",
    "btn_add = widgets.Button(description=\"add to list\")\n",
    "btn_add.on_click(add_list)\n",
    "\n",
    "# elemente anzeigen\n",
    "display( btn_add, input_time, btn_save, text, output)\n",
    "\n"
   ]
  },
  {
   "cell_type": "code",
   "execution_count": null,
   "metadata": {},
   "outputs": [],
   "source": []
  },
  {
   "cell_type": "code",
   "execution_count": 10,
   "metadata": {},
   "outputs": [
    {
     "data": {
      "text/plain": [
       "{'HeadYaw': {'keys': [], 'times': []},\n",
       " 'HeadPitch': {'keys': [], 'times': []},\n",
       " 'LShoulderPitch': {'keys': [], 'times': []},\n",
       " 'LShoulderRoll': {'keys': [], 'times': []},\n",
       " 'LElbowYaw': {'keys': [], 'times': []},\n",
       " 'LElbowRoll': {'keys': [], 'times': []},\n",
       " 'LHipYawPitch': {'keys': [], 'times': []},\n",
       " 'LHipRoll': {'keys': [], 'times': []},\n",
       " 'LHipPitch': {'keys': [], 'times': []},\n",
       " 'LKneePitch': {'keys': [], 'times': []},\n",
       " 'LAnklePitch': {'keys': [], 'times': []},\n",
       " 'LAnkleRoll': {'keys': [], 'times': []},\n",
       " 'RShoulderPitch': {'keys': [], 'times': []},\n",
       " 'RShoulderRoll': {'keys': [], 'times': []},\n",
       " 'RElbowYaw': {'keys': [], 'times': []},\n",
       " 'RElbowRoll': {'keys': [], 'times': []},\n",
       " 'RHipYawPitch': {'keys': [], 'times': []},\n",
       " 'RHipRoll': {'keys': [], 'times': []},\n",
       " 'RHipPitch': {'keys': [], 'times': []},\n",
       " 'RKneePitch': {'keys': [], 'times': []},\n",
       " 'RAnklePitch': {'keys': [], 'times': []},\n",
       " 'RAnkleRoll': {'keys': [], 'times': []},\n",
       " 'LWristYaw': {'keys': [], 'times': []},\n",
       " 'LHand': {'keys': [], 'times': []},\n",
       " 'RWristYaw': {'keys': [], 'times': []},\n",
       " 'RHand': {'keys': [], 'times': []}}"
      ]
     },
     "execution_count": 10,
     "metadata": {},
     "output_type": "execute_result"
    }
   ],
   "source": [
    "#agent.perception.__dict__\n",
    "time_targets"
   ]
  },
  {
   "cell_type": "code",
   "execution_count": 11,
   "metadata": {},
   "outputs": [
    {
     "data": {
      "application/vnd.jupyter.widget-view+json": {
       "model_id": "badb4a788af54706b2c3e8d14c3a2283",
       "version_major": 2,
       "version_minor": 0
      },
      "text/plain": [
       "Button(description='start', style=ButtonStyle())"
      ]
     },
     "metadata": {},
     "output_type": "display_data"
    },
    {
     "data": {
      "application/vnd.jupyter.widget-view+json": {
       "model_id": "3235cd2469da45d8afc2c62b9d853838",
       "version_major": 2,
       "version_minor": 0
      },
      "text/plain": [
       "Button(description='stop', style=ButtonStyle())"
      ]
     },
     "metadata": {},
     "output_type": "display_data"
    }
   ],
   "source": [
    "def start_frame(b):\n",
    "    agent.keyframes = rightBackToStand()\n",
    "\n",
    "def stop_frame(b):\n",
    "    agent.keyframes = ([],[],[])\n",
    "\n",
    "btn_start = widgets.Button(description=\"start\")\n",
    "btn_start.on_click(start_frame)\n",
    "\n",
    "btn_stop = widgets.Button(description=\"stop\")\n",
    "btn_stop.on_click(stop_frame)\n",
    "\n",
    "display(btn_start, btn_stop)"
   ]
  },
  {
   "cell_type": "code",
   "execution_count": null,
   "metadata": {},
   "outputs": [],
   "source": []
  },
  {
   "cell_type": "markdown",
   "metadata": {},
   "source": [
    "## generate keyframe form JSON"
   ]
  },
  {
   "cell_type": "code",
   "execution_count": null,
   "metadata": {},
   "outputs": [],
   "source": []
  },
  {
   "cell_type": "code",
   "execution_count": 12,
   "metadata": {},
   "outputs": [],
   "source": [
    "# add all elements to dropdown\n",
    "def set_all_keyframes():\n",
    "    dir_list=listdir('./new_keyframes')\n",
    "    global all_keyframes\n",
    "    all_keyframes = []\n",
    "    c=1\n",
    "    for i in dir_list:\n",
    "        if \".py\" in i and i != \"__init__.py\":\n",
    "            all_keyframes.append((i,c))\n",
    "            c = c+1\n",
    "    \n",
    "    \n",
    "def set_dropdown_value(change):\n",
    "    global dropdown_value_json\n",
    "    dropdown_value_json = \"\"\n",
    "    dropdown_value_json = all_json_data[change[\"new\"]-1][0]\n",
    "\n",
    "# add all elements to dropdown\n",
    "def set_all_data(b):\n",
    "    dir_list=listdir('./Data')\n",
    "    global all_json_data\n",
    "    all_json_data = []\n",
    "    c=1\n",
    "    for i in dir_list:\n",
    "        if \".json\" in i:\n",
    "            all_json_data.append((i,c))\n",
    "            c = c+1\n",
    "    # dropdown\n",
    "    dropdown = widgets.Dropdown(\n",
    "        options = all_json_data,\n",
    "        value = 1,\n",
    "        description = 'json Data')\n",
    "    output4 = widgets.Output()\n",
    "    dropdown.observe(set_dropdown_value, names='value')\n",
    "    display(dropdown)\n",
    "    if len(all_json_data)==1:\n",
    "        global dropdown_value_json\n",
    "        dropdown_value_json = all_json_data[0][0]\n",
    "        \n",
    "    \n",
    "    # generate btn\n",
    "    btn_generate = widgets.Button(description=\"generate keyframe\")\n",
    "    output_g = widgets.Output()\n",
    "    btn_generate.on_click(keyframe_from_JSON)\n",
    "    display(btn_generate)\n",
    "            \n",
    "            \n",
    "# generate keyFrame from json File\n",
    "def keyframe_from_JSON(b):\n",
    "    global dropdown_value_json\n",
    "    #print(dropdown_value_json)\n",
    "    file_name_json = dropdown_value_json\n",
    "    with open(f\"Data/{file_name_json}\") as jsonFile:\n",
    "        jsonObject = json.load(jsonFile)\n",
    "        jsonFile.close()\n",
    "        \n",
    "    name,_json = file_name_json.split(\".\") \n",
    "    f = open(f'new_keyframes/{name}.py', 'w')\n",
    "    f.write(f\"def {name}():\\n\\tnames = list()\\n\\ttimes = list()\\n\\tkeys = list() \")\n",
    "    times = \"times\"\n",
    "    keys = \"keys\"\n",
    "    #print(jsonObject)\n",
    "    for key in dict.keys(jsonObject):\n",
    "        if key != \"Time\":\n",
    "            f.write(f\"\\n\\n\\tnames.append('{key}')\")\n",
    "            f.write(f\"\\n\\ttimes.append({jsonObject[key][times]})\")\n",
    "            f.write(f\"\\n\\tkeys.append({jsonObject[key][keys]})\")\n",
    "    f.write(\"\\n\\treturn names, times, keys\")\n",
    "    f.close()\n",
    "    f = open(f'new_keyframes/__init__.py', 'a')\n",
    "    f.write(f\"\\nfrom .{name} import {name}\")\n",
    "    set_all_keyframes()\n",
    "    \n",
    "                        "
   ]
  },
  {
   "cell_type": "code",
   "execution_count": 13,
   "metadata": {},
   "outputs": [
    {
     "data": {
      "application/vnd.jupyter.widget-view+json": {
       "model_id": "1f53f6385c354d38a8f58266a77d5522",
       "version_major": 2,
       "version_minor": 0
      },
      "text/plain": [
       "Button(description='get DATA', style=ButtonStyle())"
      ]
     },
     "metadata": {},
     "output_type": "display_data"
    }
   ],
   "source": [
    "btn_folder = widgets.Button(description=\"get DATA\")\n",
    "btn_folder.on_click(set_all_data)\n",
    "display(btn_folder)\n",
    "\n",
    "# falls error wähle etwas im dropdown aus"
   ]
  },
  {
   "cell_type": "markdown",
   "metadata": {},
   "source": [
    "## Testing keyframe"
   ]
  },
  {
   "cell_type": "code",
   "execution_count": 14,
   "metadata": {},
   "outputs": [],
   "source": [
    "import new_keyframes"
   ]
  },
  {
   "cell_type": "code",
   "execution_count": 15,
   "metadata": {},
   "outputs": [],
   "source": [
    "def set_keyframe_value(change):\n",
    "    global dropdown_value_keyframe\n",
    "    dropdown_value_keyframe = \"\"\n",
    "    dropdown_value_keyframe = all_keyframes[change[\"new\"]-1][0]\n",
    "    funk_name,_py = dropdown_value_keyframe.split(\".\")\n",
    "    global test_keyframe\n",
    "    test_keyframe = getattr(new_keyframes, funk_name)\n",
    "    print(f\"set dropdown_value_keyframe = {dropdown_value_keyframe}\")\n",
    "    print(f\"set test_keyframe = {funk_name}()\")"
   ]
  },
  {
   "cell_type": "code",
   "execution_count": 16,
   "metadata": {},
   "outputs": [
    {
     "data": {
      "application/vnd.jupyter.widget-view+json": {
       "model_id": "ff1ab7ef941041a998c1844dc9d683e1",
       "version_major": 2,
       "version_minor": 0
      },
      "text/plain": [
       "Dropdown(description='select keyframe', options=(('default_pose.py', 1), ('OpenPaper.py', 2), ('Paper.py', 3),…"
      ]
     },
     "metadata": {},
     "output_type": "display_data"
    },
    {
     "name": "stdout",
     "output_type": "stream",
     "text": [
      "set dropdown_value_keyframe = Win.py\n",
      "set test_keyframe = Win()\n"
     ]
    }
   ],
   "source": [
    "if len(all_keyframes)==0:\n",
    "    set_all_keyframes()\n",
    "elif len(all_keyframes)==1:\n",
    "    funk_name, _py = all_keyframes[0][0].split(\".\")\n",
    "    test_keyframe = getattr(new_keyframes, funk_name)\n",
    "    \n",
    "\n",
    "dropdown_keyframe = widgets.Dropdown(\n",
    "        options = all_keyframes,\n",
    "        value = 1,\n",
    "        description = 'select keyframe')\n",
    "dropdown_keyframe.observe(set_keyframe_value, names='value')\n",
    "display(dropdown_keyframe)"
   ]
  },
  {
   "cell_type": "code",
   "execution_count": null,
   "metadata": {},
   "outputs": [],
   "source": [
    "#test_keyframe()"
   ]
  },
  {
   "cell_type": "code",
   "execution_count": 17,
   "metadata": {},
   "outputs": [],
   "source": [
    "agent.keyframes = ([],[],[])\n",
    "agent.keyframes = test_keyframe()\n",
    "#agent.keyframes = hello()"
   ]
  },
  {
   "cell_type": "code",
   "execution_count": null,
   "metadata": {},
   "outputs": [],
   "source": [
    "agent.keyframes = ([],[],[])"
   ]
  },
  {
   "cell_type": "code",
   "execution_count": null,
   "metadata": {},
   "outputs": [],
   "source": []
  },
  {
   "cell_type": "code",
   "execution_count": null,
   "metadata": {},
   "outputs": [],
   "source": []
  },
  {
   "cell_type": "code",
   "execution_count": null,
   "metadata": {},
   "outputs": [],
   "source": []
  },
  {
   "cell_type": "code",
   "execution_count": null,
   "metadata": {},
   "outputs": [],
   "source": []
  },
  {
   "cell_type": "code",
   "execution_count": null,
   "metadata": {},
   "outputs": [],
   "source": []
  },
  {
   "cell_type": "code",
   "execution_count": null,
   "metadata": {},
   "outputs": [],
   "source": []
  },
  {
   "cell_type": "code",
   "execution_count": null,
   "metadata": {},
   "outputs": [],
   "source": []
  },
  {
   "cell_type": "code",
   "execution_count": null,
   "metadata": {},
   "outputs": [],
   "source": []
  },
  {
   "cell_type": "code",
   "execution_count": null,
   "metadata": {},
   "outputs": [],
   "source": []
  },
  {
   "cell_type": "code",
   "execution_count": null,
   "metadata": {},
   "outputs": [],
   "source": []
  },
  {
   "cell_type": "code",
   "execution_count": null,
   "metadata": {},
   "outputs": [],
   "source": []
  }
 ],
 "metadata": {
  "kernelspec": {
   "display_name": "Python 3",
   "language": "python",
   "name": "python3"
  },
  "language_info": {
   "codemirror_mode": {
    "name": "ipython",
    "version": 3
   },
   "file_extension": ".py",
   "mimetype": "text/x-python",
   "name": "python",
   "nbconvert_exporter": "python",
   "pygments_lexer": "ipython3",
   "version": "3.8.5"
  }
 },
 "nbformat": 4,
 "nbformat_minor": 5
}
