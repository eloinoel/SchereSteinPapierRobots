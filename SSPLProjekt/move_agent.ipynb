{
 "cells": [
  {
   "cell_type": "code",
   "execution_count": 15,
   "id": "67a5851b",
   "metadata": {},
   "outputs": [],
   "source": [
    "%matplotlib notebook\n",
    "from matplotlib import pylab as plt\n",
    "#from ipywidgets import interact\n",
    "#from IPython import display\n",
    "from collections import deque\n",
    "import numpy as np"
   ]
  },
  {
   "cell_type": "code",
   "execution_count": 16,
   "id": "11d63633",
   "metadata": {},
   "outputs": [],
   "source": [
    "from IPython.display import IFrame\n",
    "import ipywidgets as widgets"
   ]
  },
  {
   "cell_type": "code",
   "execution_count": 17,
   "id": "be35b6da",
   "metadata": {},
   "outputs": [],
   "source": [
    "import os\n",
    "import sys\n",
    "sys.path.append(os.path.join(os.path.abspath(os.path.dirname('__file__')), '..', 'software_installation'))\n",
    "sys.path.append(os.path.join(os.path.abspath(os.path.dirname('__file__')), '..', 'joint_control'))\n",
    "sys.path.append(os.path.join(os.path.abspath(os.path.dirname('__file__')), '..', 'distributed_computing'))\n",
    "sys.path.append(os.path.join(os.path.abspath(os.path.dirname('__file__')), '..', 'introduction'))\n",
    "sys.path.append(os.path.join(os.path.abspath(os.path.dirname('__file__')), '..', 'kinematics'))"
   ]
  },
  {
   "cell_type": "code",
   "execution_count": 18,
   "id": "7d922c78",
   "metadata": {},
   "outputs": [],
   "source": [
    "from inverse_kinematics import InverseKinematicsAgent"
   ]
  },
  {
   "cell_type": "code",
   "execution_count": 19,
   "id": "a9c6bbf0",
   "metadata": {},
   "outputs": [],
   "source": [
    "from keyframes import *"
   ]
  },
  {
   "cell_type": "code",
   "execution_count": 37,
   "id": "4465dc4c",
   "metadata": {},
   "outputs": [],
   "source": [
    "agent = InverseKinematicsAgent()\n",
    "agent.start()"
   ]
  },
  {
   "cell_type": "code",
   "execution_count": 6,
   "id": "22a90f41",
   "metadata": {},
   "outputs": [],
   "source": [
    "#agent.joint_names"
   ]
  },
  {
   "cell_type": "code",
   "execution_count": 28,
   "id": "dfbcc1e0",
   "metadata": {},
   "outputs": [],
   "source": [
    "#agent.__dict__\n",
    "#dir(agent)"
   ]
  },
  {
   "cell_type": "code",
   "execution_count": 96,
   "id": "51300d13",
   "metadata": {},
   "outputs": [],
   "source": [
    "#agent.target_joints"
   ]
  },
  {
   "cell_type": "code",
   "execution_count": 71,
   "id": "e9d7888a",
   "metadata": {},
   "outputs": [],
   "source": [
    "#agent.transforms"
   ]
  },
  {
   "cell_type": "code",
   "execution_count": 67,
   "id": "c11f3cfd",
   "metadata": {},
   "outputs": [],
   "source": [
    "import json\n",
    "from ipywidgets import interact\n",
    "new_text = \"\"\n",
    "time_int = 0\n",
    "time_targets = {}\n",
    "for key in dict.keys(agent.target_joints):\n",
    "    time_targets[key] = [] \n",
    "time_targets['Time'] = []\n",
    "    \n"
   ]
  },
  {
   "cell_type": "code",
   "execution_count": 68,
   "id": "51be21e4",
   "metadata": {},
   "outputs": [],
   "source": [
    "def set_joint_target(value, joint):\n",
    "    agent.target_joints[joint] = value\n",
    "    sliders = value    \n",
    "\n",
    "def saveData(b):\n",
    "    with open(f'Data/{new_text}.json', 'w') as outfile:\n",
    "        data = {}\n",
    "        for key in dict.keys(agent.target_joints):\n",
    "            data[key] = float(agent.target_joints[key])\n",
    "        json.dump(data, outfile)\n",
    "        \n",
    "    with output:\n",
    "        print(f'{time_targets}.json generated')\n",
    "        \n",
    "def set_text(change):\n",
    "    with output2:\n",
    "        global new_text\n",
    "        new_text = change['new']\n",
    "        \n",
    "def set_time(change):\n",
    "    with output3:\n",
    "        global time_int\n",
    "        time_int = int(change['new'])\n",
    "        \n",
    "def add_list(b):\n",
    "    global time_int\n",
    "    time_targets['Time'].append(time_int) \n",
    "    for key in dict.keys(agent.target_joints):\n",
    "            time_targets[key].append(float(agent.target_joints[key]))\n",
    "    "
   ]
  },
  {
   "cell_type": "code",
   "execution_count": 71,
   "id": "02aca955",
   "metadata": {},
   "outputs": [
    {
     "data": {
      "application/vnd.jupyter.widget-view+json": {
       "model_id": "d45adf5a5cc64f4788be17f418080503",
       "version_major": 2,
       "version_minor": 0
      },
      "text/plain": [
       "interactive(children=(FloatSlider(value=0.0, description='HeadYaw', max=1.0, min=-1.0, step=0.01), Text(value=…"
      ]
     },
     "metadata": {},
     "output_type": "display_data"
    },
    {
     "data": {
      "application/vnd.jupyter.widget-view+json": {
       "model_id": "e08193874eaf4ea1babd965fa7a0ec48",
       "version_major": 2,
       "version_minor": 0
      },
      "text/plain": [
       "interactive(children=(FloatSlider(value=0.0, description='HeadPitch', max=1.0, min=-1.0, step=0.01), Text(valu…"
      ]
     },
     "metadata": {},
     "output_type": "display_data"
    },
    {
     "data": {
      "application/vnd.jupyter.widget-view+json": {
       "model_id": "27a1fc983c7749379ae129d3215b4efe",
       "version_major": 2,
       "version_minor": 0
      },
      "text/plain": [
       "interactive(children=(FloatSlider(value=0.0, description='LShoulderPitch', max=1.0, min=-1.0, step=0.01), Text…"
      ]
     },
     "metadata": {},
     "output_type": "display_data"
    },
    {
     "data": {
      "application/vnd.jupyter.widget-view+json": {
       "model_id": "d867ffe9bac44eb581383df195936d7e",
       "version_major": 2,
       "version_minor": 0
      },
      "text/plain": [
       "interactive(children=(FloatSlider(value=0.0, description='LShoulderRoll', max=1.0, min=-1.0, step=0.01), Text(…"
      ]
     },
     "metadata": {},
     "output_type": "display_data"
    },
    {
     "data": {
      "application/vnd.jupyter.widget-view+json": {
       "model_id": "2deb9e5b22214f0cab932354e7cfbc49",
       "version_major": 2,
       "version_minor": 0
      },
      "text/plain": [
       "interactive(children=(FloatSlider(value=0.0, description='LElbowYaw', max=1.0, min=-1.0, step=0.01), Text(valu…"
      ]
     },
     "metadata": {},
     "output_type": "display_data"
    },
    {
     "data": {
      "application/vnd.jupyter.widget-view+json": {
       "model_id": "04844dddc933429ca51082dd035b5665",
       "version_major": 2,
       "version_minor": 0
      },
      "text/plain": [
       "interactive(children=(FloatSlider(value=0.0, description='LElbowRoll', max=1.0, min=-1.0, step=0.01), Text(val…"
      ]
     },
     "metadata": {},
     "output_type": "display_data"
    },
    {
     "data": {
      "application/vnd.jupyter.widget-view+json": {
       "model_id": "687a3d5e824b47a899b59f3631e627b9",
       "version_major": 2,
       "version_minor": 0
      },
      "text/plain": [
       "interactive(children=(FloatSlider(value=0.0, description='LHipYawPitch', max=1.0, min=-1.0, step=0.01), Text(v…"
      ]
     },
     "metadata": {},
     "output_type": "display_data"
    },
    {
     "data": {
      "application/vnd.jupyter.widget-view+json": {
       "model_id": "b836504d176043c29186a65978db5c09",
       "version_major": 2,
       "version_minor": 0
      },
      "text/plain": [
       "interactive(children=(FloatSlider(value=0.0, description='LHipRoll', max=1.0, min=-1.0, step=0.01), Text(value…"
      ]
     },
     "metadata": {},
     "output_type": "display_data"
    },
    {
     "data": {
      "application/vnd.jupyter.widget-view+json": {
       "model_id": "9f71647209dd47d0b9d7eef3fd0c1091",
       "version_major": 2,
       "version_minor": 0
      },
      "text/plain": [
       "interactive(children=(FloatSlider(value=0.0, description='LHipPitch', max=1.0, min=-1.0, step=0.01), Text(valu…"
      ]
     },
     "metadata": {},
     "output_type": "display_data"
    },
    {
     "data": {
      "application/vnd.jupyter.widget-view+json": {
       "model_id": "cacb99e99fcd4c26a54022b3f4738230",
       "version_major": 2,
       "version_minor": 0
      },
      "text/plain": [
       "interactive(children=(FloatSlider(value=0.0, description='LKneePitch', max=1.0, min=-1.0, step=0.01), Text(val…"
      ]
     },
     "metadata": {},
     "output_type": "display_data"
    },
    {
     "data": {
      "application/vnd.jupyter.widget-view+json": {
       "model_id": "ddedaa23fce04dbda17b4eca9bb316f2",
       "version_major": 2,
       "version_minor": 0
      },
      "text/plain": [
       "interactive(children=(FloatSlider(value=0.0, description='LAnklePitch', max=1.0, min=-1.0, step=0.01), Text(va…"
      ]
     },
     "metadata": {},
     "output_type": "display_data"
    },
    {
     "data": {
      "application/vnd.jupyter.widget-view+json": {
       "model_id": "b77c4c82121d4330954bcfe6b48ffb02",
       "version_major": 2,
       "version_minor": 0
      },
      "text/plain": [
       "interactive(children=(FloatSlider(value=0.0, description='LAnkleRoll', max=1.0, min=-1.0, step=0.01), Text(val…"
      ]
     },
     "metadata": {},
     "output_type": "display_data"
    },
    {
     "data": {
      "application/vnd.jupyter.widget-view+json": {
       "model_id": "224a70161cf2440588473f1ec4be9bf5",
       "version_major": 2,
       "version_minor": 0
      },
      "text/plain": [
       "interactive(children=(FloatSlider(value=0.0, description='RShoulderPitch', max=1.0, min=-1.0, step=0.01), Text…"
      ]
     },
     "metadata": {},
     "output_type": "display_data"
    },
    {
     "data": {
      "application/vnd.jupyter.widget-view+json": {
       "model_id": "1d7135266be24512a0625545f7cca996",
       "version_major": 2,
       "version_minor": 0
      },
      "text/plain": [
       "interactive(children=(FloatSlider(value=0.0, description='RShoulderRoll', max=1.0, min=-1.0, step=0.01), Text(…"
      ]
     },
     "metadata": {},
     "output_type": "display_data"
    },
    {
     "data": {
      "application/vnd.jupyter.widget-view+json": {
       "model_id": "df0f1e93925444bda03da72b78cdf407",
       "version_major": 2,
       "version_minor": 0
      },
      "text/plain": [
       "interactive(children=(FloatSlider(value=0.0, description='RElbowYaw', max=1.0, min=-1.0, step=0.01), Text(valu…"
      ]
     },
     "metadata": {},
     "output_type": "display_data"
    },
    {
     "data": {
      "application/vnd.jupyter.widget-view+json": {
       "model_id": "151466b4919f4ec09f3e51352aee49a4",
       "version_major": 2,
       "version_minor": 0
      },
      "text/plain": [
       "interactive(children=(FloatSlider(value=0.0, description='RElbowRoll', max=1.0, min=-1.0, step=0.01), Text(val…"
      ]
     },
     "metadata": {},
     "output_type": "display_data"
    },
    {
     "data": {
      "application/vnd.jupyter.widget-view+json": {
       "model_id": "a3926f4eaee242a7918ed93536804a7c",
       "version_major": 2,
       "version_minor": 0
      },
      "text/plain": [
       "interactive(children=(FloatSlider(value=0.0, description='RHipYawPitch', max=1.0, min=-1.0, step=0.01), Text(v…"
      ]
     },
     "metadata": {},
     "output_type": "display_data"
    },
    {
     "data": {
      "application/vnd.jupyter.widget-view+json": {
       "model_id": "c9a6360f30a6408da08520a1d6013644",
       "version_major": 2,
       "version_minor": 0
      },
      "text/plain": [
       "interactive(children=(FloatSlider(value=0.0, description='RHipRoll', max=1.0, min=-1.0, step=0.01), Text(value…"
      ]
     },
     "metadata": {},
     "output_type": "display_data"
    },
    {
     "data": {
      "application/vnd.jupyter.widget-view+json": {
       "model_id": "b98a58db9e2142b185548a967fba7523",
       "version_major": 2,
       "version_minor": 0
      },
      "text/plain": [
       "interactive(children=(FloatSlider(value=0.0, description='RHipPitch', max=1.0, min=-1.0, step=0.01), Text(valu…"
      ]
     },
     "metadata": {},
     "output_type": "display_data"
    },
    {
     "data": {
      "application/vnd.jupyter.widget-view+json": {
       "model_id": "149e3d3665474adba403edd64922fe70",
       "version_major": 2,
       "version_minor": 0
      },
      "text/plain": [
       "interactive(children=(FloatSlider(value=0.0, description='RKneePitch', max=1.0, min=-1.0, step=0.01), Text(val…"
      ]
     },
     "metadata": {},
     "output_type": "display_data"
    },
    {
     "data": {
      "application/vnd.jupyter.widget-view+json": {
       "model_id": "707250db17e04a59a2aa85e8949d7251",
       "version_major": 2,
       "version_minor": 0
      },
      "text/plain": [
       "interactive(children=(FloatSlider(value=0.0, description='RAnklePitch', max=1.0, min=-1.0, step=0.01), Text(va…"
      ]
     },
     "metadata": {},
     "output_type": "display_data"
    },
    {
     "data": {
      "application/vnd.jupyter.widget-view+json": {
       "model_id": "e178e11a85214e648aaf909f8b910e9b",
       "version_major": 2,
       "version_minor": 0
      },
      "text/plain": [
       "interactive(children=(FloatSlider(value=0.0, description='RAnkleRoll', max=1.0, min=-1.0, step=0.01), Text(val…"
      ]
     },
     "metadata": {},
     "output_type": "display_data"
    },
    {
     "data": {
      "application/vnd.jupyter.widget-view+json": {
       "model_id": "c84fba96841c41d78188d81d30143190",
       "version_major": 2,
       "version_minor": 0
      },
      "text/plain": [
       "interactive(children=(FloatSlider(value=0.0, description='LWristYaw', max=1.0, min=-1.0, step=0.01), Text(valu…"
      ]
     },
     "metadata": {},
     "output_type": "display_data"
    },
    {
     "data": {
      "application/vnd.jupyter.widget-view+json": {
       "model_id": "49edb008910a431bbb1ee915b3c42b4b",
       "version_major": 2,
       "version_minor": 0
      },
      "text/plain": [
       "interactive(children=(FloatSlider(value=0.0, description='LHand', max=1.0, min=-1.0, step=0.01), Text(value='L…"
      ]
     },
     "metadata": {},
     "output_type": "display_data"
    },
    {
     "data": {
      "application/vnd.jupyter.widget-view+json": {
       "model_id": "96eaf56ba83944cf8892ab81bceb1303",
       "version_major": 2,
       "version_minor": 0
      },
      "text/plain": [
       "interactive(children=(FloatSlider(value=0.0, description='RWristYaw', max=1.0, min=-1.0, step=0.01), Text(valu…"
      ]
     },
     "metadata": {},
     "output_type": "display_data"
    },
    {
     "data": {
      "application/vnd.jupyter.widget-view+json": {
       "model_id": "7c57e1b410214463965e361af7ceb8e7",
       "version_major": 2,
       "version_minor": 0
      },
      "text/plain": [
       "interactive(children=(FloatSlider(value=0.0, description='RHand', max=1.0, min=-1.0, step=0.01), Text(value='R…"
      ]
     },
     "metadata": {},
     "output_type": "display_data"
    },
    {
     "data": {
      "application/vnd.jupyter.widget-view+json": {
       "model_id": "6287078014324cc4b3f8458f7b541acc",
       "version_major": 2,
       "version_minor": 0
      },
      "text/plain": [
       "Output()"
      ]
     },
     "metadata": {},
     "output_type": "display_data"
    },
    {
     "data": {
      "application/vnd.jupyter.widget-view+json": {
       "model_id": "dfc4f9c73a6441c5a5dced44f5e5c900",
       "version_major": 2,
       "version_minor": 0
      },
      "text/plain": [
       "Button(description='add to list', style=ButtonStyle())"
      ]
     },
     "metadata": {},
     "output_type": "display_data"
    },
    {
     "data": {
      "application/vnd.jupyter.widget-view+json": {
       "model_id": "08cd1ba3c7594014a1f2b65e3574fb1c",
       "version_major": 2,
       "version_minor": 0
      },
      "text/plain": [
       "Text(value='', description='time')"
      ]
     },
     "metadata": {},
     "output_type": "display_data"
    },
    {
     "data": {
      "application/vnd.jupyter.widget-view+json": {
       "model_id": "4b9a88bfd1ad482eb8deac34d07f6ac8",
       "version_major": 2,
       "version_minor": 0
      },
      "text/plain": [
       "Button(description='save data', style=ButtonStyle())"
      ]
     },
     "metadata": {},
     "output_type": "display_data"
    },
    {
     "data": {
      "application/vnd.jupyter.widget-view+json": {
       "model_id": "e81400232f7141aabcd4ed4046ebe08d",
       "version_major": 2,
       "version_minor": 0
      },
      "text/plain": [
       "Text(value='', description='File Name')"
      ]
     },
     "metadata": {},
     "output_type": "display_data"
    }
   ],
   "source": [
    "for joint in agent.target_joints:\n",
    "    s = widgets.FloatSlider(value=0,min=-1,max=1,step=0.01,description=joint)\n",
    "    t = interact(set_joint_target, value=s, joint=joint)\n",
    "    \n",
    "    \n",
    "text = widgets.Text(description=\"File Name\")\n",
    "output2 = widgets.Output()\n",
    "\n",
    "text.observe(set_text, names='value')\n",
    "    \n",
    "button = widgets.Button(description=\"save data\")\n",
    "output = widgets.Output()\n",
    "\n",
    "input_time = widgets.Text(description=\"time\")\n",
    "output3 = widgets.Output()\n",
    "\n",
    "input_time.observe(set_time, names='value')\n",
    "\n",
    "button.on_click(saveData)\n",
    "\n",
    "btn_add = widgets.Button(description=\"add to list\")\n",
    "btn_add.on_click(add_list)\n",
    "\n",
    "display( output,btn_add,input_time ,button, text)\n",
    "\n"
   ]
  },
  {
   "cell_type": "code",
   "execution_count": 78,
   "id": "c805af29",
   "metadata": {},
   "outputs": [
    {
     "data": {
      "text/plain": [
       "{'HeadYaw': [0.0630848850441553, -0.009366855744436037],\n",
       " 'HeadPitch': [0.01932686062469935, -0.6579038437774808],\n",
       " 'LShoulderPitch': [1.4017688966359108, 2.0903746106048744],\n",
       " 'LShoulderRoll': [0.07669696202560627, 0.3825043834816674],\n",
       " 'LElbowYaw': [-0.9026180282246736, 0.06358330513684425],\n",
       " 'LElbowRoll': [-0.6401479877165377, -1.38651964649775],\n",
       " 'LHipYawPitch': [-0.19283734732659497, -0.11314288238756588],\n",
       " 'LHipRoll': [0.16379438444128316, -0.06721988950044842],\n",
       " 'LHipPitch': [0.05630196903275497, -0.434857760832761],\n",
       " 'LKneePitch': [0.22499998249717446, 1.4672081872516582],\n",
       " 'LAnklePitch': [-0.2280290901472322, 0.44722557283510234],\n",
       " 'LAnkleRoll': [-0.13170650596731817, 0.053676426530726816],\n",
       " 'RShoulderPitch': [1.3032661784774393, 2.0960893003169403],\n",
       " 'RShoulderRoll': [0.021069081171387727, -0.38468936873688736],\n",
       " 'RElbowYaw': [0.7794183092409385, -0.07781690265114638],\n",
       " 'RElbowRoll': [0.2754823848268456, 1.3835066378091323],\n",
       " 'RHipYawPitch': [-0.19283734732659497, -0.11314288238756588],\n",
       " 'RHipRoll': [-0.00726646874583653, 0.05729952228597027],\n",
       " 'RHipPitch': [0.044525113530503146, -0.4175871294201291],\n",
       " 'RKneePitch': [0.29889400022806756, 1.4618067674415782],\n",
       " 'RAnklePitch': [-0.20458382646424833, 0.45350700874389527],\n",
       " 'RAnkleRoll': [0.003705740418243564, -0.041324809151228666],\n",
       " 'LWristYaw': [-0.7484960111258434, -1.6585380938825895],\n",
       " 'LHand': [0.005272846665120322, 0.001979169325551111],\n",
       " 'RWristYaw': [1.0872604695537673, 1.6174224012545324],\n",
       " 'RHand': [0.004643625001221666, -0.00027345694800097486],\n",
       " 'Time': [1, 2]}"
      ]
     },
     "execution_count": 78,
     "metadata": {},
     "output_type": "execute_result"
    }
   ],
   "source": [
    "#agent.perception.__dict__\n",
    "time_targets"
   ]
  },
  {
   "cell_type": "code",
   "execution_count": 77,
   "id": "166b761e",
   "metadata": {},
   "outputs": [],
   "source": [
    "#agent.keyframes = rightBackToStand()\n",
    "#agent.keyframes = rightBackToStand()\n",
    "#agent.keyframes = rightBackToStand()\n",
    "#agent.keyframes = rightBackToStand()\n",
    "#agent.keyframes = rightBackToStand()\n",
    "agent.keyframes = ([],[],[])"
   ]
  },
  {
   "cell_type": "code",
   "execution_count": 10,
   "id": "fab067e5",
   "metadata": {},
   "outputs": [
    {
     "data": {
      "text/plain": [
       "[-0.02612, 0.42794, 0.30829, 0.11194, -0.01385, 0.06132]"
      ]
     },
     "execution_count": 10,
     "metadata": {},
     "output_type": "execute_result"
    }
   ],
   "source": [
    "wipeKF = wipe_forehead(0)\n",
    "angles = [row[0] for row in wipeKF[2][0]]\n",
    "angles"
   ]
  },
  {
   "cell_type": "code",
   "execution_count": 11,
   "id": "ef9da498",
   "metadata": {},
   "outputs": [
    {
     "data": {
      "text/plain": [
       "('HeadPitch',\n",
       " [0.96, 1.68, 3.28, 3.96, 4.52, 5.08],\n",
       " [[-0.02612, [3, -0.32, 0.0], [3, 0.24, 0.0]],\n",
       "  [0.42794, [3, -0.24, 0.0], [3, 0.53333, 0.0]],\n",
       "  [0.30829, [3, -0.53333, 0.07392], [3, 0.22667, -0.03142]],\n",
       "  [0.11194, [3, -0.22667, 0.05889], [3, 0.18667, -0.04849]],\n",
       "  [-0.01385, [3, -0.18667, 0.0], [3, 0.18667, 0.0]],\n",
       "  [0.06132, [3, -0.18667, 0.0], [3, 0.0, 0.0]]])"
      ]
     },
     "execution_count": 11,
     "metadata": {},
     "output_type": "execute_result"
    }
   ],
   "source": [
    "wipeKF[0][0],wipeKF[1][0],wipeKF[2][0]"
   ]
  },
  {
   "cell_type": "code",
   "execution_count": 37,
   "id": "6df6fd5e",
   "metadata": {},
   "outputs": [
    {
     "data": {
      "text/plain": [
       "6"
      ]
     },
     "execution_count": 37,
     "metadata": {},
     "output_type": "execute_result"
    }
   ],
   "source": [
    "len(wipeKF[2][6])"
   ]
  },
  {
   "cell_type": "code",
   "execution_count": 39,
   "id": "6ffd3ba4",
   "metadata": {},
   "outputs": [],
   "source": []
  },
  {
   "cell_type": "code",
   "execution_count": 92,
   "id": "0fd47720",
   "metadata": {},
   "outputs": [],
   "source": [
    "#agent.target_joints"
   ]
  },
  {
   "cell_type": "code",
   "execution_count": 94,
   "id": "8b7b17a2",
   "metadata": {},
   "outputs": [],
   "source": [
    "#dict.keys(agent.target_joints)"
   ]
  },
  {
   "cell_type": "code",
   "execution_count": null,
   "id": "01a95021",
   "metadata": {},
   "outputs": [],
   "source": []
  },
  {
   "cell_type": "code",
   "execution_count": 41,
   "id": "8428a9e2",
   "metadata": {},
   "outputs": [],
   "source": [
    "def generateKeyframe():\n",
    "    names = []\n",
    "    #time = np.linspace(0, 5.2, 6, endpoint=True)\n",
    "    time = [0.  , 1.04, 2.08, 3.12, 4.16, 5.2 ]\n",
    "    angle = [[-1,[0.2,0.0],[0.2,0.0]],[-0.4,[0.2,0.0],[0.2,0.0]],[-1,[0.2,0.0],[0.2,0.0]],[-0.6,[0.2,0.0],[0.2,0.0]],[0,[0.2,0.0],[0.2,0.0]],[0.6,[0.2,0.0],[0.2,0.0]]]\n",
    "                                                                                                               \n",
    "    for key in dict.keys(agent.target_joints):\n",
    "        names.append(key)\n",
    "        \n",
    "        \n",
    "    joints = []\n",
    "    for i in range(len(names)):\n",
    "        joint=[]\n",
    "        for j in range(len(time)):\n",
    "            joint.append([0,[0.2,0.0],[0.2,0.0]])\n",
    "        if i==2:\n",
    "            joints.append(angle)\n",
    "        else:\n",
    "            joints.append(joint)\n",
    "            \n",
    "    times = []\n",
    "    for i in range(len(names)):\n",
    "        times.append(time)\n",
    "        \n",
    "            \n",
    "    return (names,times,joints)\n",
    "        \n",
    "kf =generateKeyframe()"
   ]
  },
  {
   "cell_type": "code",
   "execution_count": null,
   "id": "774f4fe5",
   "metadata": {},
   "outputs": [],
   "source": []
  },
  {
   "cell_type": "code",
   "execution_count": null,
   "id": "7ce9a9a5",
   "metadata": {},
   "outputs": [],
   "source": []
  },
  {
   "cell_type": "code",
   "execution_count": null,
   "id": "4a9136dd",
   "metadata": {},
   "outputs": [],
   "source": []
  },
  {
   "cell_type": "code",
   "execution_count": null,
   "id": "bdbffcb1",
   "metadata": {},
   "outputs": [],
   "source": []
  },
  {
   "cell_type": "code",
   "execution_count": null,
   "id": "4b73d412",
   "metadata": {},
   "outputs": [],
   "source": []
  }
 ],
 "metadata": {
  "kernelspec": {
   "display_name": "Python 3",
   "language": "python",
   "name": "python3"
  },
  "language_info": {
   "codemirror_mode": {
    "name": "ipython",
    "version": 3
   },
   "file_extension": ".py",
   "mimetype": "text/x-python",
   "name": "python",
   "nbconvert_exporter": "python",
   "pygments_lexer": "ipython3",
   "version": "3.8.8"
  }
 },
 "nbformat": 4,
 "nbformat_minor": 5
}
