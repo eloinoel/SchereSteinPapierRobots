{
 "cells": [
  {
   "cell_type": "code",
   "execution_count": 1,
   "id": "8362da24",
   "metadata": {},
   "outputs": [],
   "source": [
    "from numpy import identity\n",
    "from math import atan2\n",
    "%matplotlib notebook\n",
    "import os\n",
    "import sys\n",
    "from matplotlib import pylab as plt\n",
    "from collections import deque\n",
    "import numpy as np\n",
    "from IPython.display import IFrame\n",
    "import ipywidgets as widgets\n",
    "import json\n",
    "from ipywidgets import interact"
   ]
  },
  {
   "cell_type": "code",
   "execution_count": 2,
   "id": "666c8afe",
   "metadata": {},
   "outputs": [],
   "source": [
    "sys.path.append(os.path.join(os.path.abspath(os.path.dirname('__file__')), '..', 'software_installation'))\n",
    "sys.path.append(os.path.join(os.path.abspath(os.path.dirname('__file__')), '..', 'joint_control'))\n",
    "sys.path.append(os.path.join(os.path.abspath(os.path.dirname('__file__')), '..', 'distributed_computing'))\n",
    "sys.path.append(os.path.join(os.path.abspath(os.path.dirname('__file__')), '..', 'introduction'))\n",
    "sys.path.append(os.path.join(os.path.abspath(os.path.dirname('__file__')), '..', 'kinematics'))\n",
    "\n",
    "from inverse_kinematics import InverseKinematicsAgent\n",
    "from keyframes import *"
   ]
  },
  {
   "cell_type": "code",
   "execution_count": 3,
   "id": "44f980cb",
   "metadata": {},
   "outputs": [],
   "source": [
    "T = identity(4)\n",
    "#T[-1, 1] = -0.5\n",
    "#T[-1, 2] = 0.5"
   ]
  },
  {
   "cell_type": "code",
   "execution_count": null,
   "id": "97f6f982",
   "metadata": {},
   "outputs": [],
   "source": [
    "agent = InverseKinematicsAgent()\n",
    "agent.set_transforms('LLeg', T)\n",
    "agent.start()"
   ]
  },
  {
   "cell_type": "code",
   "execution_count": 4,
   "id": "f6216072",
   "metadata": {},
   "outputs": [],
   "source": []
  },
  {
   "cell_type": "code",
   "execution_count": 5,
   "id": "615764eb",
   "metadata": {},
   "outputs": [
    {
     "data": {
      "text/plain": [
       "array([[1. , 0. , 0. , 0. ],\n",
       "       [0. , 1. , 0. , 0. ],\n",
       "       [0. , 0. , 1. , 0. ],\n",
       "       [0. , 0.5, 0.5, 1. ]])"
      ]
     },
     "execution_count": 5,
     "metadata": {},
     "output_type": "execute_result"
    }
   ],
   "source": [
    "T"
   ]
  },
  {
   "cell_type": "code",
   "execution_count": 6,
   "id": "77367367",
   "metadata": {},
   "outputs": [],
   "source": [
    "#agent.set_transforms('LLeg', T)"
   ]
  },
  {
   "cell_type": "code",
   "execution_count": null,
   "id": "2756cbfc",
   "metadata": {},
   "outputs": [],
   "source": []
  }
 ],
 "metadata": {
  "kernelspec": {
   "display_name": "Python 3",
   "language": "python",
   "name": "python3"
  },
  "language_info": {
   "codemirror_mode": {
    "name": "ipython",
    "version": 3
   },
   "file_extension": ".py",
   "mimetype": "text/x-python",
   "name": "python",
   "nbconvert_exporter": "python",
   "pygments_lexer": "ipython3",
   "version": "3.8.8"
  }
 },
 "nbformat": 4,
 "nbformat_minor": 5
}
